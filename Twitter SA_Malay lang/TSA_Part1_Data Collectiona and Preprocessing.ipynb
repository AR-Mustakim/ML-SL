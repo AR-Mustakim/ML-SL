{
 "metadata": {
  "language_info": {
   "codemirror_mode": {
    "name": "ipython",
    "version": 3
   },
   "file_extension": ".py",
   "mimetype": "text/x-python",
   "name": "python",
   "nbconvert_exporter": "python",
   "pygments_lexer": "ipython3",
   "version": "3.8.8-final"
  },
  "orig_nbformat": 2,
  "kernelspec": {
   "name": "python388jvsc74a57bd01baa965d5efe3ac65b79dfc60c0d706280b1da80fedb7760faf2759126c4f253",
   "display_name": "Python 3.8.8 64-bit"
  },
  "metadata": {
   "interpreter": {
    "hash": "1baa965d5efe3ac65b79dfc60c0d706280b1da80fedb7760faf2759126c4f253"
   }
  }
 },
 "nbformat": 4,
 "nbformat_minor": 2,
 "cells": [
  {
   "cell_type": "code",
   "execution_count": 1,
   "metadata": {},
   "outputs": [
    {
     "output_type": "stream",
     "name": "stderr",
     "text": [
      "C:\\Users\\MUSTAKIM\\AppData\\Roaming\\Python\\Python38\\site-packages\\malaya\\function\\__init__.py:31: UserWarning: Cannot import beam_search_ops not available for Tensorflow 2, `deep_model` for stemmer will not available to use.\n  warnings.warn(\n"
     ]
    }
   ],
   "source": [
    "#import necesscary library and module\n",
    "import malaya # nltk for preprocessing and classification\n",
    "import tweepy # Twitter API \n",
    "import pandas as pd \n",
    "import re # Regular expression (for data preprocessing and text )\n",
    "import pickle"
   ]
  },
  {
   "source": [
    "### Accessing twitter API using tweepy"
   ],
   "cell_type": "markdown",
   "metadata": {}
  },
  {
   "cell_type": "code",
   "execution_count": 2,
   "metadata": {},
   "outputs": [],
   "source": [
    "consumer_key =\"kjiUiDnn3VgEYpcQirYUWfu8f\"\n",
    "consumer_secret =\"kYUdb0ebDtC6D92DDYvEqKShcKVqjgZ3048vyzxNprTua0MYUW\"\n",
    "access_token =\"2301609108-l6W2GoHZUHK3ELBWSb4D4fN0J7FIbNe0BLkJQHV\"\n",
    "access_token_secret =\"6h64rvQXSvltg9pZBUL3iuVHFKx48q0yvxQtxpWUAMY8C\"\n",
    "\n",
    "auth = tweepy.OAuthHandler(consumer_key, consumer_secret)\n",
    "auth.set_access_token(access_token,access_token_secret)\n",
    "api = tweepy.API(auth, wait_on_rate_limit = True)"
   ]
  },
  {
   "source": [
    "* Now extracting tweets \n",
    "* My strategy is find the top 5 trends topic in malaysia and extract min 150 tweets each topic\n",
    "* The trends should relate to either following topic(personal judgement)\n",
    "  *  Political\n",
    "  *  public issues\n",
    "  *  crime\n",
    "  *  education\n",
    "  *  public figures\n",
    "  *  news\n",
    "\n",
    "* Thus,From April 20 until April 22 2021, Interesting *_#hashtag_* is as follows:\n",
    "    * #KerajaanGagal (political)\n",
    "    * #klcc (news, crime, places)  "
   ],
   "cell_type": "markdown",
   "metadata": {}
  },
  {
   "cell_type": "code",
   "execution_count": 3,
   "metadata": {},
   "outputs": [],
   "source": [
    "query='#KerajaanGagal -filter:retweets' # this query will exclude retweets\n",
    "post = api.search(q=query, count=10)"
   ]
  },
  {
   "cell_type": "code",
   "execution_count": 4,
   "metadata": {},
   "outputs": [
    {
     "output_type": "execute_result",
     "data": {
      "text/plain": [
       "<pandas.io.formats.style.Styler at 0x24a7ba5b7f0>"
      ],
      "text/html": "<style  type=\"text/css\" >\n</style><table id=\"T_3a745_\" ><thead>    <tr>        <th class=\"blank level0\" ></th>        <th class=\"col_heading level0 col0\" >Raw</th>    </tr></thead><tbody>\n                <tr>\n                        <th id=\"T_3a745_level0_row0\" class=\"row_heading level0 row0\" >0</th>\n                        <td id=\"T_3a745_row0_col0\" class=\"data row0 col0\" >@malaysiakini Mana menteri wanita? Sibuk berkempen lagi ke, photoshoot dengan baju raya?\n\n#KerajaanGagal</td>\n            </tr>\n            <tr>\n                        <th id=\"T_3a745_level0_row1\" class=\"row_heading level0 row1\" >1</th>\n                        <td id=\"T_3a745_row1_col0\" class=\"data row1 col0\" >@SinarOnline Mimpi! #KerajaanGagal</td>\n            </tr>\n            <tr>\n                        <th id=\"T_3a745_level0_row2\" class=\"row_heading level0 row2\" >2</th>\n                        <td id=\"T_3a745_row2_col0\" class=\"data row2 col0\" >@tnurhusna #KerajaanGagal</td>\n            </tr>\n            <tr>\n                        <th id=\"T_3a745_level0_row3\" class=\"row_heading level0 row3\" >3</th>\n                        <td id=\"T_3a745_row3_col0\" class=\"data row3 col0\" >🤮🤮🤮 #DengkiKe #KerajaanGagal #RajaGagal #Agong https://t.co/eLGasMdu89</td>\n            </tr>\n            <tr>\n                        <th id=\"T_3a745_level0_row4\" class=\"row_heading level0 row4\" >4</th>\n                        <td id=\"T_3a745_row4_col0\" class=\"data row4 col0\" >@bernamadotcom @KKMPutrajaya Bala bala bala #KerajaanGagal</td>\n            </tr>\n            <tr>\n                        <th id=\"T_3a745_level0_row5\" class=\"row_heading level0 row5\" >5</th>\n                        <td id=\"T_3a745_row5_col0\" class=\"data row5 col0\" >#KerajaanGagal #DengkiKe #ApaMasalahSaudara https://t.co/AycA6xQSXu</td>\n            </tr>\n            <tr>\n                        <th id=\"T_3a745_level0_row6\" class=\"row_heading level0 row6\" >6</th>\n                        <td id=\"T_3a745_row6_col0\" class=\"data row6 col0\" >Korang bangga tak dapat #KerajaanGagal https://t.co/Ipi9V7pif2</td>\n            </tr>\n            <tr>\n                        <th id=\"T_3a745_level0_row7\" class=\"row_heading level0 row7\" >7</th>\n                        <td id=\"T_3a745_row7_col0\" class=\"data row7 col0\" >@malaysiakini Handled well?!!! You must be sleeping on the job!!! Wake up and get real!!! #KerajaanGagal</td>\n            </tr>\n            <tr>\n                        <th id=\"T_3a745_level0_row8\" class=\"row_heading level0 row8\" >8</th>\n                        <td id=\"T_3a745_row8_col0\" class=\"data row8 col0\" >#agong #KerajaanGagal https://t.co/eDTPK7kyIg</td>\n            </tr>\n            <tr>\n                        <th id=\"T_3a745_level0_row9\" class=\"row_heading level0 row9\" >9</th>\n                        <td id=\"T_3a745_row9_col0\" class=\"data row9 col0\" >#KerajaanGagal \n#TamatDarurat \n#DengkiKe\nlatest one:\n#ApaMasalahSaudara \nwelppp malaysian tengah betul betul marah… https://t.co/jc0I06mcNH</td>\n            </tr>\n    </tbody></table>"
     },
     "metadata": {},
     "execution_count": 4
    }
   ],
   "source": [
    "#tweets into dataframe\n",
    "# dfKG stands for dataframe Kerajaan Gagal\n",
    "dfKG = pd.DataFrame([tweet.text for tweet in post], columns=['Raw'])\n",
    "dfKG.style"
   ]
  },
  {
   "source": [
    "## **===============================================================================================================================================**\n",
    "# **Data PreProcessing**\n",
    "* 1) Preprocess using Malaya nltk preprocessing\n",
    "    * english word translattion set to True\n",
    "    * lowercase also set to True\n",
    "\n",
    "* Then data convert into dataframe\n",
    "\n",
    "* 2) Preprocess using Mus_style preprocessing\n",
    "    * **Mus_style Data Preprocess** method:\n",
    "        * translate emoji/emoticon to word (since some emoji/emoticon contain usefull information) using { **_dictionary is used_** }\n",
    "        * remove special character ,punctuation mark, number { **_re python module is used_ **}\n",
    "        * lowercasing { **_standard string operation_** }\n",
    "        * (optional_still under contruction)  english word translation { **_googletrans API is used_** }\n",
    "\n",
    "* Then clean data convert and merge into existing dataframe"
   ],
   "cell_type": "markdown",
   "metadata": {}
  },
  {
   "cell_type": "code",
   "execution_count": 5,
   "metadata": {},
   "outputs": [],
   "source": [
    "#initialize malaya preprocess model\n",
    "mPP = malaya.preprocessing.preprocessing(translate_english_to_bm=True, lowercase=True)"
   ]
  },
  {
   "cell_type": "code",
   "execution_count": 6,
   "metadata": {},
   "outputs": [],
   "source": [
    "def preProcessMalaya(text):\n",
    "  return ' '.join(mPP.process(text))"
   ]
  },
  {
   "cell_type": "code",
   "execution_count": 7,
   "metadata": {},
   "outputs": [],
   "source": [
    "dfKG['cleanData_Malaya'] = dfKG['Raw'].astype(str).apply(preProcessMalaya)"
   ]
  },
  {
   "cell_type": "code",
   "execution_count": 8,
   "metadata": {},
   "outputs": [
    {
     "output_type": "stream",
     "name": "stdout",
     "text": [
      "<class 'pandas.core.frame.DataFrame'>\nRangeIndex: 10 entries, 0 to 9\nData columns (total 2 columns):\n #   Column            Non-Null Count  Dtype \n---  ------            --------------  ----- \n 0   Raw               10 non-null     object\n 1   cleanData_Malaya  10 non-null     object\ndtypes: object(2)\nmemory usage: 288.0+ bytes\n"
     ]
    }
   ],
   "source": [
    "dfKG.info()"
   ]
  },
  {
   "source": [
    "#### **-----------------------------------------------------------------------------------------------------------------------------------------------**\n",
    "### <-- End of Malaya Preprocessing \n",
    "### Mus_style Preprocessing start -->"
   ],
   "cell_type": "markdown",
   "metadata": {}
  },
  {
   "cell_type": "code",
   "execution_count": 9,
   "metadata": {},
   "outputs": [],
   "source": [
    "import googletrans as gt\n",
    "from googletrans import Translator"
   ]
  },
  {
   "cell_type": "code",
   "execution_count": 10,
   "metadata": {},
   "outputs": [
    {
     "output_type": "stream",
     "name": "stdout",
     "text": [
      "{'af': 'afrikaans', 'sq': 'albanian', 'am': 'amharic', 'ar': 'arabic', 'hy': 'armenian', 'az': 'azerbaijani', 'eu': 'basque', 'be': 'belarusian', 'bn': 'bengali', 'bs': 'bosnian', 'bg': 'bulgarian', 'ca': 'catalan', 'ceb': 'cebuano', 'ny': 'chichewa', 'zh-cn': 'chinese (simplified)', 'zh-tw': 'chinese (traditional)', 'co': 'corsican', 'hr': 'croatian', 'cs': 'czech', 'da': 'danish', 'nl': 'dutch', 'en': 'english', 'eo': 'esperanto', 'et': 'estonian', 'tl': 'filipino', 'fi': 'finnish', 'fr': 'french', 'fy': 'frisian', 'gl': 'galician', 'ka': 'georgian', 'de': 'german', 'el': 'greek', 'gu': 'gujarati', 'ht': 'haitian creole', 'ha': 'hausa', 'haw': 'hawaiian', 'iw': 'hebrew', 'he': 'hebrew', 'hi': 'hindi', 'hmn': 'hmong', 'hu': 'hungarian', 'is': 'icelandic', 'ig': 'igbo', 'id': 'indonesian', 'ga': 'irish', 'it': 'italian', 'ja': 'japanese', 'jw': 'javanese', 'kn': 'kannada', 'kk': 'kazakh', 'km': 'khmer', 'ko': 'korean', 'ku': 'kurdish (kurmanji)', 'ky': 'kyrgyz', 'lo': 'lao', 'la': 'latin', 'lv': 'latvian', 'lt': 'lithuanian', 'lb': 'luxembourgish', 'mk': 'macedonian', 'mg': 'malagasy', 'ms': 'malay', 'ml': 'malayalam', 'mt': 'maltese', 'mi': 'maori', 'mr': 'marathi', 'mn': 'mongolian', 'my': 'myanmar (burmese)', 'ne': 'nepali', 'no': 'norwegian', 'or': 'odia', 'ps': 'pashto', 'fa': 'persian', 'pl': 'polish', 'pt': 'portuguese', 'pa': 'punjabi', 'ro': 'romanian', 'ru': 'russian', 'sm': 'samoan', 'gd': 'scots gaelic', 'sr': 'serbian', 'st': 'sesotho', 'sn': 'shona', 'sd': 'sindhi', 'si': 'sinhala', 'sk': 'slovak', 'sl': 'slovenian', 'so': 'somali', 'es': 'spanish', 'su': 'sundanese', 'sw': 'swahili', 'sv': 'swedish', 'tg': 'tajik', 'ta': 'tamil', 'te': 'telugu', 'th': 'thai', 'tr': 'turkish', 'uk': 'ukrainian', 'ur': 'urdu', 'ug': 'uyghur', 'uz': 'uzbek', 'vi': 'vietnamese', 'cy': 'welsh', 'xh': 'xhosa', 'yi': 'yiddish', 'yo': 'yoruba', 'zu': 'zulu'}\n"
     ]
    }
   ],
   "source": [
    "print(gt.LANGUAGES)#check available languages"
   ]
  },
  {
   "cell_type": "code",
   "execution_count": 11,
   "metadata": {},
   "outputs": [],
   "source": [
    "text1 ='good morning everybody'\n",
    "text2 ='Apa khabar awak?'\n",
    "text3 ='안녕하세요'\n",
    "text4 = 'Apa khabar awak?.Im fine terima kasih'\n"
   ]
  },
  {
   "cell_type": "code",
   "execution_count": 12,
   "metadata": {},
   "outputs": [],
   "source": [
    "translator = Translator()"
   ]
  },
  {
   "cell_type": "code",
   "execution_count": 13,
   "metadata": {},
   "outputs": [
    {
     "output_type": "stream",
     "name": "stdout",
     "text": [
      "Detected(lang=en, confidence=None)\n",
      "Detected(lang=ms, confidence=None)\n",
      "Detected(lang=ko, confidence=None)\n",
      "Detected(lang=ms, confidence=None)\n",
      "Translated(src=en, dest=ms, text=selamat Pagi semua, pronunciation=None, extra_data=\"{'confiden...\")\n",
      "Translated(src=ms, dest=ko, text=잘 있었 니?, pronunciation=jal iss-eoss ni?, extra_data=\"{'confiden...\")\n",
      "Translated(src=ko, dest=en, text=Good morning, pronunciation=None, extra_data=\"{'confiden...\")\n"
     ]
    }
   ],
   "source": [
    "# just checking the translator\n",
    "print(translator.detect(text1))\n",
    "print(translator.detect(text2))\n",
    "print(translator.detect(text3))\n",
    "print(translator.detect(text4))\n",
    "print(translator.translate(text1, dest='ms'))\n",
    "print(translator.translate(text2, dest='ko'))\n",
    "print(translator.translate(text3, dest='en'))"
   ]
  },
  {
   "cell_type": "code",
   "execution_count": 14,
   "metadata": {},
   "outputs": [],
   "source": [
    " #Translate english word to bm\n",
    "    # the steps as as follow:\n",
    "    # 1)split the string into words\n",
    "    # 2) detect words language \n",
    "    #     *if en --> covert\n",
    "    #     * else -->skip\n",
    "    # 3) append the string\n",
    "    \n",
    "def trans_En_to_Bm(text):\n",
    "  sent2Word = text.split() #step1:splitting/ tekenizing the sentence\n",
    "  # sentSize = len(sent2Word)\n",
    "  # print(sentSize)\n",
    "  # convText=[]*  sentSize\n",
    "   convText=[]\n",
    "  for word in sent2Word:\n",
    "    lang = translator.detect(word)# step2)-1 :detect language\n",
    "    if (lang.lang =='en'):\n",
    "      word = translator.translate(word, dest='ms') #step2)-2 :translate english to bahasa melayu\n",
    "      convText.append(word.text)\n",
    "    else:\n",
    "      convText.append(word)\n",
    "\n",
    "  text = ' '.join(convText)\n",
    "  print(text)\n",
    "  return text"
   ]
  },
  {
   "cell_type": "code",
   "execution_count": 15,
   "metadata": {},
   "outputs": [],
   "source": [
    "# removing emoji\n",
    "def remove_emoji(string):\n",
    "    emoji_pattern = re.compile(\"[\"\n",
    "                           u\"\\U0001F600-\\U0001F64F\" # emoticons\n",
    "                           u\"\\U0001F300-\\U0001F5FF\" # symbols & pictographs\n",
    "                           u\"\\U0001F680-\\U0001F6FF\" # transport & map symbols\n",
    "                           u\"\\U0001F1E0-\\U0001F1FF\" # flags (iOS)\n",
    "                           u\"\\U00002702-\\U000027B0\"\n",
    "                           u\"\\U000024C2-\\U0001F251\"\n",
    "                           \"]+\", flags=re.UNICODE)\n",
    "    return emoji_pattern.sub(r'', string)"
   ]
  },
  {
   "cell_type": "code",
   "execution_count": 16,
   "metadata": {},
   "outputs": [],
   "source": [
    "with open('../Twitter SA_Malay lang/Emoji_Dict.p', 'rb') as fp:\n",
    "    Emoji_Dict = pickle.load(fp)\n",
    "Emoji_Dict = {v: k for k, v in Emoji_Dict.items()}\n",
    "\n",
    "def convert_emojis_to_word(text):\n",
    "    for emoj in Emoji_Dict:\n",
    "        text = re.sub(r'('+emoj+')', \"_\".join(Emoji_Dict[emoj].replace(\",\",\"\").replace(\":\",\"\").split()), text)\n",
    "    return text"
   ]
  },
  {
   "cell_type": "code",
   "execution_count": 17,
   "metadata": {},
   "outputs": [
    {
     "output_type": "execute_result",
     "data": {
      "text/plain": [
       "'sedaq diri sikit heh smirking_face Kenapa'"
      ]
     },
     "metadata": {},
     "execution_count": 17
    }
   ],
   "source": [
    "text = \"I won 🥇 in 🏏\"\n",
    "text2 ='🐢 eat 🍄 and drive 🚁'\n",
    "text3 ='sedaq diri sikit heh 😏 Kenapa'\n",
    "\n",
    "convert_emojis_to_word(text3)"
   ]
  },
  {
   "cell_type": "code",
   "execution_count": 20,
   "metadata": {},
   "outputs": [],
   "source": [
    "#define class for re preperocessing\n",
    "\n",
    "def preProcessMus(text):\n",
    "  #1st step <---- remove emoji and emoticon\n",
    "  text = convert_emojis_to_word(text)\n",
    "  text =' '.join(text.split('_')) # split word that merge by underscore '_'\n",
    "  text = re.sub(r'https?:\\/\\/\\S+', '', text)#remove hyperlink\n",
    "\n",
    "  #4th step<--- translate english word to bahasa\n",
    "  text = trans_En_to_Bm(text) ### translate english word to bahasa melayu\n",
    "\n",
    "\n",
    "  #2nd step<--- remove special character and number\n",
    "  # after ....re.sub(... the single 'r' stands for raw string. \n",
    "  #so it will ignore all the escape character python has. \n",
    "  #as for example '\\n' which refer as new line. it will ignore\n",
    "  text=re.sub('/\\b\\S\\s\\b/','', text)\n",
    "  text= re.sub(r'@[A-Za-z0-9_A-Za-z0-9]+', '', text)#remove @mentions or user\n",
    "  text = re.sub(r'#', '',text)#remove #hashtag \n",
    "  text= re.sub(r'RT[\\s]+', '', text)#remove retweet\n",
    "  text=re.sub(r'[-()\\\"''#!@$%^&*{}?.,:]', '',text)#remove speial character and punctuation\n",
    "\n",
    "\n",
    "  #3rd step<--- first lowercase the text\n",
    "  text = text.lower()  \n",
    "\n",
    "  return text"
   ]
  },
  {
   "cell_type": "code",
   "execution_count": 21,
   "metadata": {},
   "outputs": [
    {
     "output_type": "stream",
     "name": "stdout",
     "text": [
      "10\n",
      "@Marina. Ibrahims Kebabian Pn. makin. terserlah dan muhyiddin kimak #KerajaanGagal\n",
      " ibrahims kebabian pn makin terserlah dan muhyiddin kimak kerajaangagal\n",
      "24\n",
      "@kuasasiswa anda dibuat my hari! Handsface. dengan air mata of. Joy. So. jauh the Best. troll. Pernah! So. banyak usaha anda letak inthumbs. up. #Keraja...\n",
      " anda dibuat my hari handsface dengan air mata of joy so jauh the best troll pernah so banyak usaha anda letak inthumbs up keraja\n",
      "8\n",
      "apa adalah the Masalah? hari-hari nak makan popcorn.\n",
      "apa adalah the masalah harihari nak makan popcorn\n",
      "15\n",
      "@DenaBahrin Kompaun mungkin dikenakan kepada pihak #kerajaanGagal, jika pkp terpaksa dilaksanakan kerana wujud kluster ba…\n",
      " kompaun mungkin dikenakan kepada pihak kerajaangagal jika pkp terpaksa dilaksanakan kerana wujud kluster ba…\n"
     ]
    }
   ],
   "source": [
    "#testing my Preprocessing algo\n",
    "\n",
    "text5 = '@Marina_Ibrahims Kebabian PN makin terserlah dan muhyiddin kimak\\n#KerajaanGagal'\n",
    "text6 = '@kuasasiswa you made my day!👏😂\\nso far the BEST troll ever!\\nso much effort you put in👍\\n#Keraja...'\n",
    "text7 = 'what is the problem? hari-hari nak makan 🍿'\n",
    "text8 = '@DenaBahrin Kompaun mungkin dikenakan kepada pihak #kerajaanGagal, jika pkp terpaksa dilaksanakan kerana wujud kluster ba… https://t.co/RxXc5iGyMV'\n",
    "\n",
    "print (preProcessMus(text5))\n",
    "print(preProcessMus(text6))\n",
    "print(preProcessMus(text7))\n",
    "print(preProcessMus(text8))"
   ]
  },
  {
   "cell_type": "code",
   "execution_count": 134,
   "metadata": {},
   "outputs": [
    {
     "output_type": "stream",
     "name": "stdout",
     "text": [
      "10\n",
      "malam pun panas yarabbi #KerajaanGagal baru bulan FaceWew. bulan muka\n",
      "14\n",
      "@apanakdikato Kertas untuk buka siasatan belum dibuat di kilang Kertas lagi. Kena tunggu. #KerajaanGagal\n",
      "13\n",
      "Menarik, menarik bulan. Kita telah : #KerajaanGagal #TamatDarurat #DengkiKe Dan of. kursus, @KKMPutrajaya…\n",
      "15\n",
      "@DenaBahrin Kompaun mungkin dikenakan kepada pihak kerajaan, jika pkp terpaksa dilaksanakan kerana wujud kluster ba…\n",
      "10\n",
      "#KerajaanGagal #Pdrm Jangan kata nak buka kertas siasatan pulak eh.\n",
      "1\n",
      "#KerajaanGagal\n",
      "2\n",
      "@SinarOnline #KerajaanGagal\n",
      "13\n",
      "@ReeNGaston #KerajaanGagal masih ada muka nak kata \"urus dengan baik\" #ApaMasalahSaudara kan? #DengkiKe\n",
      "19\n",
      "@MuhyiddinYassin Sudahlah Mahiaddin. Rakyat dh ramai sedar kau PM. PNipu. Kau tabur je la apa pon..org dh muak.. #KerajaanGagal\n",
      "12\n",
      "Mengaku je la #KerajaanGagal Mana ada benda yg turun, semua naik je.\n"
     ]
    }
   ],
   "source": [
    "#dfKG['cleanData_Malaya'] = dfKG['Raw'].astype(str).apply(preProcessMalaya)\n",
    "dfKG['cleanData-MUS'] = dfKG['Raw'].astype(str).apply(preProcessMus)"
   ]
  },
  {
   "cell_type": "code",
   "execution_count": 135,
   "metadata": {},
   "outputs": [
    {
     "output_type": "execute_result",
     "data": {
      "text/plain": [
       "<pandas.io.formats.style.Styler at 0x158e9762dc0>"
      ],
      "text/html": "<style  type=\"text/css\" >\n</style><table id=\"T_db7d6_\" ><thead>    <tr>        <th class=\"blank level0\" ></th>        <th class=\"col_heading level0 col0\" >Raw</th>        <th class=\"col_heading level0 col1\" >cleanData_Malaya</th>        <th class=\"col_heading level0 col2\" >cleanData-MUS</th>    </tr></thead><tbody>\n                <tr>\n                        <th id=\"T_db7d6_level0_row0\" class=\"row_heading level0 row0\" >0</th>\n                        <td id=\"T_db7d6_row0_col0\" class=\"data row0 col0\" >malam pun panas yarabbi \n#KerajaanGagal 🌚🌚</td>\n                        <td id=\"T_db7d6_row0_col1\" class=\"data row0 col1\" >malam pun panas yarabbi <hashtag> kerajaangagal </hashtag> 🌚 🌚</td>\n                        <td id=\"T_db7d6_row0_col2\" class=\"data row0 col2\" >malam pun panas yarabbi  baru bulan facewew bulan muka</td>\n            </tr>\n            <tr>\n                        <th id=\"T_db7d6_level0_row1\" class=\"row_heading level0 row1\" >1</th>\n                        <td id=\"T_db7d6_row1_col0\" class=\"data row1 col0\" >@apanakdikato Kertas untuk buka siasatan belum dibuat di kilang Kertas lagi. Kena tunggu.\n#KerajaanGagal</td>\n                        <td id=\"T_db7d6_row1_col1\" class=\"data row1 col1\" ><user> kertas untuk buka siasatan belum dibuat di kilang kertas lagi . kena tunggu . <hashtag> kerajaangagal </hashtag></td>\n                        <td id=\"T_db7d6_row1_col2\" class=\"data row1 col2\" > kertas untuk buka siasatan belum dibuat di kilang kertas lagi kena tunggu </td>\n            </tr>\n            <tr>\n                        <th id=\"T_db7d6_level0_row2\" class=\"row_heading level0 row2\" >2</th>\n                        <td id=\"T_db7d6_row2_col0\" class=\"data row2 col0\" >Interesting, interesting month.\n\nWe have :\n\n#KerajaanGagal \n#TamatDarurat \n#DengkiKe \n\nAnd of course, @KKMPutrajaya… https://t.co/WNCg3HCQvK</td>\n                        <td id=\"T_db7d6_row2_col1\" class=\"data row2 col1\" >menarik , menarik bulan . kami ada : <hashtag> kerajaangagal </hashtag> <hashtag> tamatdarurat </hashtag> <hashtag> dengkike </hashtag> dan daripada kursus , <user> … <url></td>\n                        <td id=\"T_db7d6_row2_col2\" class=\"data row2 col2\" >menarik menarik bulan kita telah     dan of kursus …</td>\n            </tr>\n            <tr>\n                        <th id=\"T_db7d6_level0_row3\" class=\"row_heading level0 row3\" >3</th>\n                        <td id=\"T_db7d6_row3_col0\" class=\"data row3 col0\" >@DenaBahrin Kompaun mungkin dikenakan kepada pihak kerajaan, jika pkp terpaksa dilaksanakan kerana wujud kluster ba… https://t.co/RxXc5iGyMV</td>\n                        <td id=\"T_db7d6_row3_col1\" class=\"data row3 col1\" ><user> kompaun mungkin dikenakan kepada pihak kerajaan , jika pkp terpaksa dilaksanakan kerana wujud kluster ba … <url></td>\n                        <td id=\"T_db7d6_row3_col2\" class=\"data row3 col2\" > kompaun mungkin dikenakan kepada pihak kerajaan jika pkp terpaksa dilaksanakan kerana wujud kluster ba…</td>\n            </tr>\n            <tr>\n                        <th id=\"T_db7d6_level0_row4\" class=\"row_heading level0 row4\" >4</th>\n                        <td id=\"T_db7d6_row4_col0\" class=\"data row4 col0\" >#KerajaanGagal #Pdrm Jangan kata nak buka kertas siasatan pulak eh. https://t.co/S4kAkb3c3u</td>\n                        <td id=\"T_db7d6_row4_col1\" class=\"data row4 col1\" ><hashtag> kerajaangagal </hashtag> <hashtag> pdrm </hashtag> jangan kata nak buka kertas siasatan pula eh . <url></td>\n                        <td id=\"T_db7d6_row4_col2\" class=\"data row4 col2\" >  jangan kata nak buka kertas siasatan pulak eh</td>\n            </tr>\n            <tr>\n                        <th id=\"T_db7d6_level0_row5\" class=\"row_heading level0 row5\" >5</th>\n                        <td id=\"T_db7d6_row5_col0\" class=\"data row5 col0\" >#KerajaanGagal https://t.co/1I58Lim4px</td>\n                        <td id=\"T_db7d6_row5_col1\" class=\"data row5 col1\" ><hashtag> kerajaangagal </hashtag> <url></td>\n                        <td id=\"T_db7d6_row5_col2\" class=\"data row5 col2\" ></td>\n            </tr>\n            <tr>\n                        <th id=\"T_db7d6_level0_row6\" class=\"row_heading level0 row6\" >6</th>\n                        <td id=\"T_db7d6_row6_col0\" class=\"data row6 col0\" >@SinarOnline #KerajaanGagal</td>\n                        <td id=\"T_db7d6_row6_col1\" class=\"data row6 col1\" ><user> <hashtag> kerajaangagal </hashtag></td>\n                        <td id=\"T_db7d6_row6_col2\" class=\"data row6 col2\" > </td>\n            </tr>\n            <tr>\n                        <th id=\"T_db7d6_level0_row7\" class=\"row_heading level0 row7\" >7</th>\n                        <td id=\"T_db7d6_row7_col0\" class=\"data row7 col0\" >@ReeNGaston #KerajaanGagal  masih ada muka nak kata \"urus dengan baik\"\n\n#ApaMasalahSaudara kan? #DengkiKe</td>\n                        <td id=\"T_db7d6_row7_col1\" class=\"data row7 col1\" ><user> <hashtag> kerajaangagal </hashtag> masih ada muka nak kata \" urus dengan baik \" <hashtag> apamasalahsaudara </hashtag> kan ? <hashtag> dengkike </hashtag></td>\n                        <td id=\"T_db7d6_row7_col2\" class=\"data row7 col2\" >  masih ada muka nak kata urus dengan baik  kan </td>\n            </tr>\n            <tr>\n                        <th id=\"T_db7d6_level0_row8\" class=\"row_heading level0 row8\" >8</th>\n                        <td id=\"T_db7d6_row8_col0\" class=\"data row8 col0\" >@MuhyiddinYassin Sudahlah Mahiaddin. Rakyat dh ramai sedar kau PM PNipu. Kau tabur je la apa pon..org dh muak.. #KerajaanGagal</td>\n                        <td id=\"T_db7d6_row8_col1\" class=\"data row8 col1\" ><user> sudahlah mahiaddin . rakyat dah ramai sedar kamu pm pnipu . kamu tabur sahaja lah apa pun . <repeated> orang dah muak . <repeated> <hashtag> kerajaangagal </hashtag></td>\n                        <td id=\"T_db7d6_row8_col2\" class=\"data row8 col2\" > sudahlah mahiaddin rakyat dh ramai sedar kau pm pnipu kau tabur je la apa ponorg dh muak </td>\n            </tr>\n            <tr>\n                        <th id=\"T_db7d6_level0_row9\" class=\"row_heading level0 row9\" >9</th>\n                        <td id=\"T_db7d6_row9_col0\" class=\"data row9 col0\" >Admit je la #KerajaanGagal \nMana ada benda yg turun, semua naik je. https://t.co/ljBNGZ71VD</td>\n                        <td id=\"T_db7d6_row9_col1\" class=\"data row9 col1\" >mengaku sahaja lah <hashtag> kerajaangagal </hashtag> mana ada benda yang turun , semua naik sahaja . <url></td>\n                        <td id=\"T_db7d6_row9_col2\" class=\"data row9 col2\" >mengaku je la  mana ada benda yg turun semua naik je</td>\n            </tr>\n    </tbody></table>"
     },
     "metadata": {},
     "execution_count": 135
    }
   ],
   "source": [
    "dfKG.style"
   ]
  },
  {
   "cell_type": "code",
   "execution_count": null,
   "metadata": {},
   "outputs": [],
   "source": []
  }
 ]
}