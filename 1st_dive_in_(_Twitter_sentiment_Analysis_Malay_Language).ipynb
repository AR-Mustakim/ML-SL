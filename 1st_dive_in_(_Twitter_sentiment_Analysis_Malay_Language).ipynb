{
  "nbformat": 4,
  "nbformat_minor": 0,
  "metadata": {
    "colab": {
      "name": "1st dive in ( Twitter sentiment Analysis -Malay Language).ipynb",
      "provenance": [],
      "collapsed_sections": [],
      "toc_visible": true,
      "mount_file_id": "1oehK1NRlG39XxG2nPN-doBlaFtb1psXu",
      "authorship_tag": "ABX9TyNBrzfsakNjQXuEn22FiVok",
      "include_colab_link": true
    },
    "kernelspec": {
      "name": "python3",
      "display_name": "Python 3"
    },
    "language_info": {
      "name": "python"
    }
  },
  "cells": [
    {
      "cell_type": "markdown",
      "metadata": {
        "id": "view-in-github",
        "colab_type": "text"
      },
      "source": [
        "<a href=\"https://colab.research.google.com/github/a150730/Mustakim/blob/main/1st_dive_in_(_Twitter_sentiment_Analysis_Malay_Language).ipynb\" target=\"_parent\"><img src=\"https://colab.research.google.com/assets/colab-badge.svg\" alt=\"Open In Colab\"/></a>"
      ]
    },
    {
      "cell_type": "code",
      "metadata": {
        "colab": {
          "base_uri": "https://localhost:8080/"
        },
        "id": "_M-noC5xaVZv",
        "outputId": "ab167ceb-4dc7-4140-d51f-5f6d8b400ba3"
      },
      "source": [
        "!pip install malaya\n",
        "!pip install malaya-gpu\n",
        "!pip install tweepy"
      ],
      "execution_count": 1,
      "outputs": [
        {
          "output_type": "stream",
          "text": [
            "Requirement already satisfied: malaya in /usr/local/lib/python3.7/dist-packages (4.2.1)\n",
            "Requirement already satisfied: tensorflow>=1.15 in /usr/local/lib/python3.7/dist-packages (from malaya) (2.4.1)\n",
            "Requirement already satisfied: requests in /usr/local/lib/python3.7/dist-packages (from malaya) (2.23.0)\n",
            "Requirement already satisfied: herpetologist in /usr/local/lib/python3.7/dist-packages (from malaya) (0.0.9)\n",
            "Requirement already satisfied: tqdm in /usr/local/lib/python3.7/dist-packages (from malaya) (4.41.1)\n",
            "Requirement already satisfied: networkx in /usr/local/lib/python3.7/dist-packages (from malaya) (2.5.1)\n",
            "Requirement already satisfied: ftfy in /usr/local/lib/python3.7/dist-packages (from malaya) (6.0.1)\n",
            "Requirement already satisfied: numpy in /usr/local/lib/python3.7/dist-packages (from malaya) (1.19.5)\n",
            "Requirement already satisfied: unidecode in /usr/local/lib/python3.7/dist-packages (from malaya) (1.2.0)\n",
            "Requirement already satisfied: scipy in /usr/local/lib/python3.7/dist-packages (from malaya) (1.4.1)\n",
            "Requirement already satisfied: dateparser in /usr/local/lib/python3.7/dist-packages (from malaya) (1.0.0)\n",
            "Requirement already satisfied: sentencepiece in /usr/local/lib/python3.7/dist-packages (from malaya) (0.1.95)\n",
            "Requirement already satisfied: scikit-learn in /usr/local/lib/python3.7/dist-packages (from malaya) (0.22.2.post1)\n",
            "Requirement already satisfied: typing-extensions~=3.7.4 in /usr/local/lib/python3.7/dist-packages (from tensorflow>=1.15->malaya) (3.7.4.3)\n",
            "Requirement already satisfied: wheel~=0.35 in /usr/local/lib/python3.7/dist-packages (from tensorflow>=1.15->malaya) (0.36.2)\n",
            "Requirement already satisfied: wrapt~=1.12.1 in /usr/local/lib/python3.7/dist-packages (from tensorflow>=1.15->malaya) (1.12.1)\n",
            "Requirement already satisfied: absl-py~=0.10 in /usr/local/lib/python3.7/dist-packages (from tensorflow>=1.15->malaya) (0.12.0)\n",
            "Requirement already satisfied: gast==0.3.3 in /usr/local/lib/python3.7/dist-packages (from tensorflow>=1.15->malaya) (0.3.3)\n",
            "Requirement already satisfied: tensorboard~=2.4 in /usr/local/lib/python3.7/dist-packages (from tensorflow>=1.15->malaya) (2.4.1)\n",
            "Requirement already satisfied: h5py~=2.10.0 in /usr/local/lib/python3.7/dist-packages (from tensorflow>=1.15->malaya) (2.10.0)\n",
            "Requirement already satisfied: protobuf>=3.9.2 in /usr/local/lib/python3.7/dist-packages (from tensorflow>=1.15->malaya) (3.12.4)\n",
            "Requirement already satisfied: keras-preprocessing~=1.1.2 in /usr/local/lib/python3.7/dist-packages (from tensorflow>=1.15->malaya) (1.1.2)\n",
            "Requirement already satisfied: tensorflow-estimator<2.5.0,>=2.4.0 in /usr/local/lib/python3.7/dist-packages (from tensorflow>=1.15->malaya) (2.4.0)\n",
            "Requirement already satisfied: astunparse~=1.6.3 in /usr/local/lib/python3.7/dist-packages (from tensorflow>=1.15->malaya) (1.6.3)\n",
            "Requirement already satisfied: six~=1.15.0 in /usr/local/lib/python3.7/dist-packages (from tensorflow>=1.15->malaya) (1.15.0)\n",
            "Requirement already satisfied: termcolor~=1.1.0 in /usr/local/lib/python3.7/dist-packages (from tensorflow>=1.15->malaya) (1.1.0)\n",
            "Requirement already satisfied: google-pasta~=0.2 in /usr/local/lib/python3.7/dist-packages (from tensorflow>=1.15->malaya) (0.2.0)\n",
            "Requirement already satisfied: grpcio~=1.32.0 in /usr/local/lib/python3.7/dist-packages (from tensorflow>=1.15->malaya) (1.32.0)\n",
            "Requirement already satisfied: flatbuffers~=1.12.0 in /usr/local/lib/python3.7/dist-packages (from tensorflow>=1.15->malaya) (1.12)\n",
            "Requirement already satisfied: opt-einsum~=3.3.0 in /usr/local/lib/python3.7/dist-packages (from tensorflow>=1.15->malaya) (3.3.0)\n",
            "Requirement already satisfied: chardet<4,>=3.0.2 in /usr/local/lib/python3.7/dist-packages (from requests->malaya) (3.0.4)\n",
            "Requirement already satisfied: certifi>=2017.4.17 in /usr/local/lib/python3.7/dist-packages (from requests->malaya) (2020.12.5)\n",
            "Requirement already satisfied: idna<3,>=2.5 in /usr/local/lib/python3.7/dist-packages (from requests->malaya) (2.10)\n",
            "Requirement already satisfied: urllib3!=1.25.0,!=1.25.1,<1.26,>=1.21.1 in /usr/local/lib/python3.7/dist-packages (from requests->malaya) (1.24.3)\n",
            "Requirement already satisfied: memoization in /usr/local/lib/python3.7/dist-packages (from herpetologist->malaya) (0.3.2)\n",
            "Requirement already satisfied: decorator<5,>=4.3 in /usr/local/lib/python3.7/dist-packages (from networkx->malaya) (4.4.2)\n",
            "Requirement already satisfied: wcwidth in /usr/local/lib/python3.7/dist-packages (from ftfy->malaya) (0.2.5)\n",
            "Requirement already satisfied: python-dateutil in /usr/local/lib/python3.7/dist-packages (from dateparser->malaya) (2.8.1)\n",
            "Requirement already satisfied: pytz in /usr/local/lib/python3.7/dist-packages (from dateparser->malaya) (2018.9)\n",
            "Requirement already satisfied: tzlocal in /usr/local/lib/python3.7/dist-packages (from dateparser->malaya) (1.5.1)\n",
            "Requirement already satisfied: regex!=2019.02.19 in /usr/local/lib/python3.7/dist-packages (from dateparser->malaya) (2019.12.20)\n",
            "Requirement already satisfied: joblib>=0.11 in /usr/local/lib/python3.7/dist-packages (from scikit-learn->malaya) (1.0.1)\n",
            "Requirement already satisfied: google-auth-oauthlib<0.5,>=0.4.1 in /usr/local/lib/python3.7/dist-packages (from tensorboard~=2.4->tensorflow>=1.15->malaya) (0.4.4)\n",
            "Requirement already satisfied: setuptools>=41.0.0 in /usr/local/lib/python3.7/dist-packages (from tensorboard~=2.4->tensorflow>=1.15->malaya) (56.0.0)\n",
            "Requirement already satisfied: google-auth<2,>=1.6.3 in /usr/local/lib/python3.7/dist-packages (from tensorboard~=2.4->tensorflow>=1.15->malaya) (1.28.1)\n",
            "Requirement already satisfied: werkzeug>=0.11.15 in /usr/local/lib/python3.7/dist-packages (from tensorboard~=2.4->tensorflow>=1.15->malaya) (1.0.1)\n",
            "Requirement already satisfied: markdown>=2.6.8 in /usr/local/lib/python3.7/dist-packages (from tensorboard~=2.4->tensorflow>=1.15->malaya) (3.3.4)\n",
            "Requirement already satisfied: tensorboard-plugin-wit>=1.6.0 in /usr/local/lib/python3.7/dist-packages (from tensorboard~=2.4->tensorflow>=1.15->malaya) (1.8.0)\n",
            "Requirement already satisfied: requests-oauthlib>=0.7.0 in /usr/local/lib/python3.7/dist-packages (from google-auth-oauthlib<0.5,>=0.4.1->tensorboard~=2.4->tensorflow>=1.15->malaya) (1.3.0)\n",
            "Requirement already satisfied: cachetools<5.0,>=2.0.0 in /usr/local/lib/python3.7/dist-packages (from google-auth<2,>=1.6.3->tensorboard~=2.4->tensorflow>=1.15->malaya) (4.2.1)\n",
            "Requirement already satisfied: pyasn1-modules>=0.2.1 in /usr/local/lib/python3.7/dist-packages (from google-auth<2,>=1.6.3->tensorboard~=2.4->tensorflow>=1.15->malaya) (0.2.8)\n",
            "Requirement already satisfied: rsa<5,>=3.1.4; python_version >= \"3.6\" in /usr/local/lib/python3.7/dist-packages (from google-auth<2,>=1.6.3->tensorboard~=2.4->tensorflow>=1.15->malaya) (4.7.2)\n",
            "Requirement already satisfied: importlib-metadata; python_version < \"3.8\" in /usr/local/lib/python3.7/dist-packages (from markdown>=2.6.8->tensorboard~=2.4->tensorflow>=1.15->malaya) (3.10.1)\n",
            "Requirement already satisfied: oauthlib>=3.0.0 in /usr/local/lib/python3.7/dist-packages (from requests-oauthlib>=0.7.0->google-auth-oauthlib<0.5,>=0.4.1->tensorboard~=2.4->tensorflow>=1.15->malaya) (3.1.0)\n",
            "Requirement already satisfied: pyasn1<0.5.0,>=0.4.6 in /usr/local/lib/python3.7/dist-packages (from pyasn1-modules>=0.2.1->google-auth<2,>=1.6.3->tensorboard~=2.4->tensorflow>=1.15->malaya) (0.4.8)\n",
            "Requirement already satisfied: zipp>=0.5 in /usr/local/lib/python3.7/dist-packages (from importlib-metadata; python_version < \"3.8\"->markdown>=2.6.8->tensorboard~=2.4->tensorflow>=1.15->malaya) (3.4.1)\n",
            "Requirement already satisfied: malaya-gpu in /usr/local/lib/python3.7/dist-packages (4.2.1)\n",
            "Requirement already satisfied: networkx in /usr/local/lib/python3.7/dist-packages (from malaya-gpu) (2.5.1)\n",
            "Requirement already satisfied: tqdm in /usr/local/lib/python3.7/dist-packages (from malaya-gpu) (4.41.1)\n",
            "Requirement already satisfied: sentencepiece in /usr/local/lib/python3.7/dist-packages (from malaya-gpu) (0.1.95)\n",
            "Requirement already satisfied: numpy in /usr/local/lib/python3.7/dist-packages (from malaya-gpu) (1.19.5)\n",
            "Requirement already satisfied: dateparser in /usr/local/lib/python3.7/dist-packages (from malaya-gpu) (1.0.0)\n",
            "Requirement already satisfied: tensorflow-gpu>=1.15 in /usr/local/lib/python3.7/dist-packages (from malaya-gpu) (2.4.1)\n",
            "Requirement already satisfied: scikit-learn in /usr/local/lib/python3.7/dist-packages (from malaya-gpu) (0.22.2.post1)\n",
            "Requirement already satisfied: unidecode in /usr/local/lib/python3.7/dist-packages (from malaya-gpu) (1.2.0)\n",
            "Requirement already satisfied: ftfy in /usr/local/lib/python3.7/dist-packages (from malaya-gpu) (6.0.1)\n",
            "Requirement already satisfied: herpetologist in /usr/local/lib/python3.7/dist-packages (from malaya-gpu) (0.0.9)\n",
            "Requirement already satisfied: requests in /usr/local/lib/python3.7/dist-packages (from malaya-gpu) (2.23.0)\n",
            "Requirement already satisfied: scipy in /usr/local/lib/python3.7/dist-packages (from malaya-gpu) (1.4.1)\n",
            "Requirement already satisfied: decorator<5,>=4.3 in /usr/local/lib/python3.7/dist-packages (from networkx->malaya-gpu) (4.4.2)\n",
            "Requirement already satisfied: python-dateutil in /usr/local/lib/python3.7/dist-packages (from dateparser->malaya-gpu) (2.8.1)\n",
            "Requirement already satisfied: pytz in /usr/local/lib/python3.7/dist-packages (from dateparser->malaya-gpu) (2018.9)\n",
            "Requirement already satisfied: tzlocal in /usr/local/lib/python3.7/dist-packages (from dateparser->malaya-gpu) (1.5.1)\n",
            "Requirement already satisfied: regex!=2019.02.19 in /usr/local/lib/python3.7/dist-packages (from dateparser->malaya-gpu) (2019.12.20)\n",
            "Requirement already satisfied: keras-preprocessing~=1.1.2 in /usr/local/lib/python3.7/dist-packages (from tensorflow-gpu>=1.15->malaya-gpu) (1.1.2)\n",
            "Requirement already satisfied: flatbuffers~=1.12.0 in /usr/local/lib/python3.7/dist-packages (from tensorflow-gpu>=1.15->malaya-gpu) (1.12)\n",
            "Requirement already satisfied: h5py~=2.10.0 in /usr/local/lib/python3.7/dist-packages (from tensorflow-gpu>=1.15->malaya-gpu) (2.10.0)\n",
            "Requirement already satisfied: absl-py~=0.10 in /usr/local/lib/python3.7/dist-packages (from tensorflow-gpu>=1.15->malaya-gpu) (0.12.0)\n",
            "Requirement already satisfied: opt-einsum~=3.3.0 in /usr/local/lib/python3.7/dist-packages (from tensorflow-gpu>=1.15->malaya-gpu) (3.3.0)\n",
            "Requirement already satisfied: typing-extensions~=3.7.4 in /usr/local/lib/python3.7/dist-packages (from tensorflow-gpu>=1.15->malaya-gpu) (3.7.4.3)\n",
            "Requirement already satisfied: grpcio~=1.32.0 in /usr/local/lib/python3.7/dist-packages (from tensorflow-gpu>=1.15->malaya-gpu) (1.32.0)\n",
            "Requirement already satisfied: google-pasta~=0.2 in /usr/local/lib/python3.7/dist-packages (from tensorflow-gpu>=1.15->malaya-gpu) (0.2.0)\n",
            "Requirement already satisfied: tensorboard~=2.4 in /usr/local/lib/python3.7/dist-packages (from tensorflow-gpu>=1.15->malaya-gpu) (2.4.1)\n",
            "Requirement already satisfied: wrapt~=1.12.1 in /usr/local/lib/python3.7/dist-packages (from tensorflow-gpu>=1.15->malaya-gpu) (1.12.1)\n",
            "Requirement already satisfied: tensorflow-estimator<2.5.0,>=2.4.0 in /usr/local/lib/python3.7/dist-packages (from tensorflow-gpu>=1.15->malaya-gpu) (2.4.0)\n",
            "Requirement already satisfied: termcolor~=1.1.0 in /usr/local/lib/python3.7/dist-packages (from tensorflow-gpu>=1.15->malaya-gpu) (1.1.0)\n",
            "Requirement already satisfied: astunparse~=1.6.3 in /usr/local/lib/python3.7/dist-packages (from tensorflow-gpu>=1.15->malaya-gpu) (1.6.3)\n",
            "Requirement already satisfied: six~=1.15.0 in /usr/local/lib/python3.7/dist-packages (from tensorflow-gpu>=1.15->malaya-gpu) (1.15.0)\n",
            "Requirement already satisfied: wheel~=0.35 in /usr/local/lib/python3.7/dist-packages (from tensorflow-gpu>=1.15->malaya-gpu) (0.36.2)\n",
            "Requirement already satisfied: protobuf>=3.9.2 in /usr/local/lib/python3.7/dist-packages (from tensorflow-gpu>=1.15->malaya-gpu) (3.12.4)\n",
            "Requirement already satisfied: gast==0.3.3 in /usr/local/lib/python3.7/dist-packages (from tensorflow-gpu>=1.15->malaya-gpu) (0.3.3)\n",
            "Requirement already satisfied: joblib>=0.11 in /usr/local/lib/python3.7/dist-packages (from scikit-learn->malaya-gpu) (1.0.1)\n",
            "Requirement already satisfied: wcwidth in /usr/local/lib/python3.7/dist-packages (from ftfy->malaya-gpu) (0.2.5)\n",
            "Requirement already satisfied: memoization in /usr/local/lib/python3.7/dist-packages (from herpetologist->malaya-gpu) (0.3.2)\n",
            "Requirement already satisfied: chardet<4,>=3.0.2 in /usr/local/lib/python3.7/dist-packages (from requests->malaya-gpu) (3.0.4)\n",
            "Requirement already satisfied: urllib3!=1.25.0,!=1.25.1,<1.26,>=1.21.1 in /usr/local/lib/python3.7/dist-packages (from requests->malaya-gpu) (1.24.3)\n",
            "Requirement already satisfied: idna<3,>=2.5 in /usr/local/lib/python3.7/dist-packages (from requests->malaya-gpu) (2.10)\n",
            "Requirement already satisfied: certifi>=2017.4.17 in /usr/local/lib/python3.7/dist-packages (from requests->malaya-gpu) (2020.12.5)\n",
            "Requirement already satisfied: tensorboard-plugin-wit>=1.6.0 in /usr/local/lib/python3.7/dist-packages (from tensorboard~=2.4->tensorflow-gpu>=1.15->malaya-gpu) (1.8.0)\n",
            "Requirement already satisfied: google-auth-oauthlib<0.5,>=0.4.1 in /usr/local/lib/python3.7/dist-packages (from tensorboard~=2.4->tensorflow-gpu>=1.15->malaya-gpu) (0.4.4)\n",
            "Requirement already satisfied: google-auth<2,>=1.6.3 in /usr/local/lib/python3.7/dist-packages (from tensorboard~=2.4->tensorflow-gpu>=1.15->malaya-gpu) (1.28.1)\n",
            "Requirement already satisfied: setuptools>=41.0.0 in /usr/local/lib/python3.7/dist-packages (from tensorboard~=2.4->tensorflow-gpu>=1.15->malaya-gpu) (56.0.0)\n",
            "Requirement already satisfied: werkzeug>=0.11.15 in /usr/local/lib/python3.7/dist-packages (from tensorboard~=2.4->tensorflow-gpu>=1.15->malaya-gpu) (1.0.1)\n",
            "Requirement already satisfied: markdown>=2.6.8 in /usr/local/lib/python3.7/dist-packages (from tensorboard~=2.4->tensorflow-gpu>=1.15->malaya-gpu) (3.3.4)\n",
            "Requirement already satisfied: requests-oauthlib>=0.7.0 in /usr/local/lib/python3.7/dist-packages (from google-auth-oauthlib<0.5,>=0.4.1->tensorboard~=2.4->tensorflow-gpu>=1.15->malaya-gpu) (1.3.0)\n",
            "Requirement already satisfied: rsa<5,>=3.1.4; python_version >= \"3.6\" in /usr/local/lib/python3.7/dist-packages (from google-auth<2,>=1.6.3->tensorboard~=2.4->tensorflow-gpu>=1.15->malaya-gpu) (4.7.2)\n",
            "Requirement already satisfied: pyasn1-modules>=0.2.1 in /usr/local/lib/python3.7/dist-packages (from google-auth<2,>=1.6.3->tensorboard~=2.4->tensorflow-gpu>=1.15->malaya-gpu) (0.2.8)\n",
            "Requirement already satisfied: cachetools<5.0,>=2.0.0 in /usr/local/lib/python3.7/dist-packages (from google-auth<2,>=1.6.3->tensorboard~=2.4->tensorflow-gpu>=1.15->malaya-gpu) (4.2.1)\n",
            "Requirement already satisfied: importlib-metadata; python_version < \"3.8\" in /usr/local/lib/python3.7/dist-packages (from markdown>=2.6.8->tensorboard~=2.4->tensorflow-gpu>=1.15->malaya-gpu) (3.10.1)\n",
            "Requirement already satisfied: oauthlib>=3.0.0 in /usr/local/lib/python3.7/dist-packages (from requests-oauthlib>=0.7.0->google-auth-oauthlib<0.5,>=0.4.1->tensorboard~=2.4->tensorflow-gpu>=1.15->malaya-gpu) (3.1.0)\n",
            "Requirement already satisfied: pyasn1>=0.1.3 in /usr/local/lib/python3.7/dist-packages (from rsa<5,>=3.1.4; python_version >= \"3.6\"->google-auth<2,>=1.6.3->tensorboard~=2.4->tensorflow-gpu>=1.15->malaya-gpu) (0.4.8)\n",
            "Requirement already satisfied: zipp>=0.5 in /usr/local/lib/python3.7/dist-packages (from importlib-metadata; python_version < \"3.8\"->markdown>=2.6.8->tensorboard~=2.4->tensorflow-gpu>=1.15->malaya-gpu) (3.4.1)\n",
            "Requirement already satisfied: tweepy in /usr/local/lib/python3.7/dist-packages (3.10.0)\n",
            "Requirement already satisfied: six>=1.10.0 in /usr/local/lib/python3.7/dist-packages (from tweepy) (1.15.0)\n",
            "Requirement already satisfied: requests-oauthlib>=0.7.0 in /usr/local/lib/python3.7/dist-packages (from tweepy) (1.3.0)\n",
            "Requirement already satisfied: requests[socks]>=2.11.1 in /usr/local/lib/python3.7/dist-packages (from tweepy) (2.23.0)\n",
            "Requirement already satisfied: oauthlib>=3.0.0 in /usr/local/lib/python3.7/dist-packages (from requests-oauthlib>=0.7.0->tweepy) (3.1.0)\n",
            "Requirement already satisfied: chardet<4,>=3.0.2 in /usr/local/lib/python3.7/dist-packages (from requests[socks]>=2.11.1->tweepy) (3.0.4)\n",
            "Requirement already satisfied: idna<3,>=2.5 in /usr/local/lib/python3.7/dist-packages (from requests[socks]>=2.11.1->tweepy) (2.10)\n",
            "Requirement already satisfied: certifi>=2017.4.17 in /usr/local/lib/python3.7/dist-packages (from requests[socks]>=2.11.1->tweepy) (2020.12.5)\n",
            "Requirement already satisfied: urllib3!=1.25.0,!=1.25.1,<1.26,>=1.21.1 in /usr/local/lib/python3.7/dist-packages (from requests[socks]>=2.11.1->tweepy) (1.24.3)\n",
            "Requirement already satisfied: PySocks!=1.5.7,>=1.5.6; extra == \"socks\" in /usr/local/lib/python3.7/dist-packages (from requests[socks]>=2.11.1->tweepy) (1.7.1)\n"
          ],
          "name": "stdout"
        }
      ]
    },
    {
      "cell_type": "code",
      "metadata": {
        "colab": {
          "base_uri": "https://localhost:8080/"
        },
        "id": "hB_3ddEAZvoP",
        "outputId": "09f54cf0-b87c-4af5-aefd-e531df1269ef"
      },
      "source": [
        "%%time\n",
        "import pandas as pd \n",
        "import tweepy\n",
        "import malaya\n",
        "from textblob import TextBlob\n",
        "import re\n",
        "import numpy as np\n",
        "import matplotlib.pyplot as plt\n",
        "from wordcloud import WordCloud\n",
        "import pickle"
      ],
      "execution_count": 2,
      "outputs": [
        {
          "output_type": "stream",
          "text": [
            "/usr/local/lib/python3.7/dist-packages/malaya/function/__init__.py:32: UserWarning: Cannot import beam_search_ops not available for Tensorflow 2, `deep_model` for stemmer will not available to use.\n",
            "  'Cannot import beam_search_ops not available for Tensorflow 2, `deep_model` for stemmer will not available to use.'\n"
          ],
          "name": "stderr"
        },
        {
          "output_type": "stream",
          "text": [
            "CPU times: user 4.63 s, sys: 671 ms, total: 5.3 s\n",
            "Wall time: 5.24 s\n"
          ],
          "name": "stdout"
        }
      ]
    },
    {
      "cell_type": "markdown",
      "metadata": {
        "id": "Nj9t2B2Adk_R"
      },
      "source": [
        "# **Accessing twitter API -using tweepy**"
      ]
    },
    {
      "cell_type": "code",
      "metadata": {
        "id": "Ro3bzNDYaQf0"
      },
      "source": [
        "consumer_key =\"kjiUiDnn3VgEYpcQirYUWfu8f\"\n",
        "consumer_secret =\"kYUdb0ebDtC6D92DDYvEqKShcKVqjgZ3048vyzxNprTua0MYUW\"\n",
        "access_token =\"2301609108-l6W2GoHZUHK3ELBWSb4D4fN0J7FIbNe0BLkJQHV\"\n",
        "access_token_secret =\"6h64rvQXSvltg9pZBUL3iuVHFKx48q0yvxQtxpWUAMY8C\"\n",
        "\n",
        "auth = tweepy.OAuthHandler(consumer_key, consumer_secret)\n",
        "auth.set_access_token(access_token,access_token_secret)\n",
        "api = tweepy.API(auth, wait_on_rate_limit = True)"
      ],
      "execution_count": 3,
      "outputs": []
    },
    {
      "cell_type": "markdown",
      "metadata": {
        "id": "oVRV0XcAd7d4"
      },
      "source": [
        "* extract tweets"
      ]
    },
    {
      "cell_type": "code",
      "metadata": {
        "colab": {
          "base_uri": "https://localhost:8080/"
        },
        "id": "WUU6gBvweBPl",
        "outputId": "90340bac-ed8c-4f6a-c58e-410ad9f55aca"
      },
      "source": [
        "%%time\n",
        "query='#KerajaanGagal -filter:retweets' # this query will exclude retweets\n",
        "post = api.search(q=query, count=10)"
      ],
      "execution_count": 4,
      "outputs": [
        {
          "output_type": "stream",
          "text": [
            "CPU times: user 25.4 ms, sys: 0 ns, total: 25.4 ms\n",
            "Wall time: 384 ms\n"
          ],
          "name": "stdout"
        }
      ]
    },
    {
      "cell_type": "code",
      "metadata": {
        "colab": {
          "base_uri": "https://localhost:8080/"
        },
        "id": "i191pneWhDhZ",
        "outputId": "f6298560-8a59-4a43-a59e-2b3314b01c0a"
      },
      "source": [
        "i=1\n",
        "for tweet in post[0:10]:\n",
        "  print (str(i)+')' + tweet.text +'\\n')\n",
        "  i+=1"
      ],
      "execution_count": 5,
      "outputs": [
        {
          "output_type": "stream",
          "text": [
            "1)Tone policing is fascism masked as politeness @KKMPutrajaya people are angry, people are suicidal, but sure, bAhAsA… https://t.co/f7eKC7K4mP\n",
            "\n",
            "2)Patut lah berduyun-duyun orang nak jadi ahli PPBM, kalah masa jadi calon pun boleh dilantik menteri atau timbalan menteri. #KerajaanGagal\n",
            "\n",
            "3)@Marina_Ibrahims Tengok rambut pon da tau level akal dia da tak boleh pakai. Kalau tu bapak aku, da lama aku nasiha… https://t.co/ILMqz5tvUO\n",
            "\n",
            "4)It has been months and the numbers are still high. No aid, no support, no relief. Just stolen futures and wealth di… https://t.co/GWcapKNZVY\n",
            "\n",
            "5)@eqwanroslan @MaisarraAnuar #KerajaanGagal\n",
            "\n",
            "6)Tapi ekonomi pun merudum\n",
            "#KerajaanGagal \n",
            "#KerajaanGagal \n",
            "#KerajaanGagal https://t.co/uq0UWCHPn7\n",
            "\n",
            "7)dalam lagaknya tolak kebebaran, india akhirnya tumpas. \n",
            "\n",
            "this could be us.\n",
            "\n",
            "perang belum selesai. #KerajaanGagal da… https://t.co/5nswPM9qug\n",
            "\n",
            "8)@SyedSaddiq I know what’s the problem. They do not know what DOUBLE STANDARD means. That’s why they keep doing it. #KerajaanGagal\n",
            "\n",
            "9)#TamatDarurat #KerajaanGagal #TolakPNipu https://t.co/vQJD33OZXs\n",
            "\n",
            "10)Better? You’re havin’ a laugh eh @KDNPUTRAJAYA ?\n",
            "\n",
            "#KerajaanGagal \n",
            "#TamatDarurat https://t.co/v2ALZB1On2\n",
            "\n"
          ],
          "name": "stdout"
        }
      ]
    },
    {
      "cell_type": "code",
      "metadata": {
        "colab": {
          "base_uri": "https://localhost:8080/"
        },
        "id": "roiGDHPQkbZJ",
        "outputId": "4a707bd9-efdb-447a-a537-97f1161ec7a3"
      },
      "source": [
        "#convert data into dataframe\n",
        "df = pd.DataFrame([tweet.text for tweet in post], columns =['Raw'])\n",
        "df.info() #just checking the datafranme info and data typw"
      ],
      "execution_count": 6,
      "outputs": [
        {
          "output_type": "stream",
          "text": [
            "<class 'pandas.core.frame.DataFrame'>\n",
            "RangeIndex: 10 entries, 0 to 9\n",
            "Data columns (total 1 columns):\n",
            " #   Column  Non-Null Count  Dtype \n",
            "---  ------  --------------  ----- \n",
            " 0   Raw     10 non-null     object\n",
            "dtypes: object(1)\n",
            "memory usage: 208.0+ bytes\n"
          ],
          "name": "stdout"
        }
      ]
    },
    {
      "cell_type": "code",
      "metadata": {
        "colab": {
          "base_uri": "https://localhost:8080/",
          "height": 250
        },
        "id": "DtyneLR5i8KR",
        "outputId": "80c94146-22f1-4fb1-f367-914aeef74132"
      },
      "source": [
        "df.style #view our dataframe"
      ],
      "execution_count": 7,
      "outputs": [
        {
          "output_type": "execute_result",
          "data": {
            "text/html": [
              "<style  type=\"text/css\" >\n",
              "</style><table id=\"T_d06c30ec_a3ba_11eb_af7b_0242ac1c0002\" ><thead>    <tr>        <th class=\"blank level0\" ></th>        <th class=\"col_heading level0 col0\" >Raw</th>    </tr></thead><tbody>\n",
              "                <tr>\n",
              "                        <th id=\"T_d06c30ec_a3ba_11eb_af7b_0242ac1c0002level0_row0\" class=\"row_heading level0 row0\" >0</th>\n",
              "                        <td id=\"T_d06c30ec_a3ba_11eb_af7b_0242ac1c0002row0_col0\" class=\"data row0 col0\" >Tone policing is fascism masked as politeness @KKMPutrajaya people are angry, people are suicidal, but sure, bAhAsA… https://t.co/f7eKC7K4mP</td>\n",
              "            </tr>\n",
              "            <tr>\n",
              "                        <th id=\"T_d06c30ec_a3ba_11eb_af7b_0242ac1c0002level0_row1\" class=\"row_heading level0 row1\" >1</th>\n",
              "                        <td id=\"T_d06c30ec_a3ba_11eb_af7b_0242ac1c0002row1_col0\" class=\"data row1 col0\" >Patut lah berduyun-duyun orang nak jadi ahli PPBM, kalah masa jadi calon pun boleh dilantik menteri atau timbalan menteri. #KerajaanGagal</td>\n",
              "            </tr>\n",
              "            <tr>\n",
              "                        <th id=\"T_d06c30ec_a3ba_11eb_af7b_0242ac1c0002level0_row2\" class=\"row_heading level0 row2\" >2</th>\n",
              "                        <td id=\"T_d06c30ec_a3ba_11eb_af7b_0242ac1c0002row2_col0\" class=\"data row2 col0\" >@Marina_Ibrahims Tengok rambut pon da tau level akal dia da tak boleh pakai. Kalau tu bapak aku, da lama aku nasiha… https://t.co/ILMqz5tvUO</td>\n",
              "            </tr>\n",
              "            <tr>\n",
              "                        <th id=\"T_d06c30ec_a3ba_11eb_af7b_0242ac1c0002level0_row3\" class=\"row_heading level0 row3\" >3</th>\n",
              "                        <td id=\"T_d06c30ec_a3ba_11eb_af7b_0242ac1c0002row3_col0\" class=\"data row3 col0\" >It has been months and the numbers are still high. No aid, no support, no relief. Just stolen futures and wealth di… https://t.co/GWcapKNZVY</td>\n",
              "            </tr>\n",
              "            <tr>\n",
              "                        <th id=\"T_d06c30ec_a3ba_11eb_af7b_0242ac1c0002level0_row4\" class=\"row_heading level0 row4\" >4</th>\n",
              "                        <td id=\"T_d06c30ec_a3ba_11eb_af7b_0242ac1c0002row4_col0\" class=\"data row4 col0\" >@eqwanroslan @MaisarraAnuar #KerajaanGagal</td>\n",
              "            </tr>\n",
              "            <tr>\n",
              "                        <th id=\"T_d06c30ec_a3ba_11eb_af7b_0242ac1c0002level0_row5\" class=\"row_heading level0 row5\" >5</th>\n",
              "                        <td id=\"T_d06c30ec_a3ba_11eb_af7b_0242ac1c0002row5_col0\" class=\"data row5 col0\" >Tapi ekonomi pun merudum\n",
              "#KerajaanGagal \n",
              "#KerajaanGagal \n",
              "#KerajaanGagal https://t.co/uq0UWCHPn7</td>\n",
              "            </tr>\n",
              "            <tr>\n",
              "                        <th id=\"T_d06c30ec_a3ba_11eb_af7b_0242ac1c0002level0_row6\" class=\"row_heading level0 row6\" >6</th>\n",
              "                        <td id=\"T_d06c30ec_a3ba_11eb_af7b_0242ac1c0002row6_col0\" class=\"data row6 col0\" >dalam lagaknya tolak kebebaran, india akhirnya tumpas. \n",
              "\n",
              "this could be us.\n",
              "\n",
              "perang belum selesai. #KerajaanGagal da… https://t.co/5nswPM9qug</td>\n",
              "            </tr>\n",
              "            <tr>\n",
              "                        <th id=\"T_d06c30ec_a3ba_11eb_af7b_0242ac1c0002level0_row7\" class=\"row_heading level0 row7\" >7</th>\n",
              "                        <td id=\"T_d06c30ec_a3ba_11eb_af7b_0242ac1c0002row7_col0\" class=\"data row7 col0\" >@SyedSaddiq I know what’s the problem. They do not know what DOUBLE STANDARD means. That’s why they keep doing it. #KerajaanGagal</td>\n",
              "            </tr>\n",
              "            <tr>\n",
              "                        <th id=\"T_d06c30ec_a3ba_11eb_af7b_0242ac1c0002level0_row8\" class=\"row_heading level0 row8\" >8</th>\n",
              "                        <td id=\"T_d06c30ec_a3ba_11eb_af7b_0242ac1c0002row8_col0\" class=\"data row8 col0\" >#TamatDarurat #KerajaanGagal #TolakPNipu https://t.co/vQJD33OZXs</td>\n",
              "            </tr>\n",
              "            <tr>\n",
              "                        <th id=\"T_d06c30ec_a3ba_11eb_af7b_0242ac1c0002level0_row9\" class=\"row_heading level0 row9\" >9</th>\n",
              "                        <td id=\"T_d06c30ec_a3ba_11eb_af7b_0242ac1c0002row9_col0\" class=\"data row9 col0\" >Better? You’re havin’ a laugh eh @KDNPUTRAJAYA ?\n",
              "\n",
              "#KerajaanGagal \n",
              "#TamatDarurat https://t.co/v2ALZB1On2</td>\n",
              "            </tr>\n",
              "    </tbody></table>"
            ],
            "text/plain": [
              "<pandas.io.formats.style.Styler at 0x7ff3fbaffa50>"
            ]
          },
          "metadata": {
            "tags": []
          },
          "execution_count": 7
        }
      ]
    },
    {
      "cell_type": "markdown",
      "metadata": {
        "id": "vnFAH180jpqP"
      },
      "source": [
        "## **Data PreProcessing**\n",
        "* 1st with Malaya\n",
        "*  Second with re"
      ]
    },
    {
      "cell_type": "code",
      "metadata": {
        "colab": {
          "base_uri": "https://localhost:8080/"
        },
        "id": "DKqER8JKjuK6",
        "outputId": "789186f5-7c86-4a58-fea3-394296bedcf7"
      },
      "source": [
        "#initialize prepprocessing model\n",
        "%%time\n",
        "mPP = malaya.preprocessing.preprocessing(translate_english_to_bm=True, lowercase=True)"
      ],
      "execution_count": 8,
      "outputs": [
        {
          "output_type": "stream",
          "text": [
            "CPU times: user 212 ms, sys: 41.1 ms, total: 253 ms\n",
            "Wall time: 255 ms\n"
          ],
          "name": "stdout"
        },
        {
          "output_type": "stream",
          "text": [
            "/usr/local/lib/python3.7/dist-packages/malaya/preprocessing.py:84: FutureWarning: Possible nested set at position 42\n",
            "  k.lower(): re.compile(_expressions[k]) for k, v in _expressions.items()\n",
            "/usr/local/lib/python3.7/dist-packages/malaya/preprocessing.py:259: FutureWarning: Possible nested set at position 2289\n",
            "  self.tok = re.compile(r'({})'.format('|'.join(pipeline)))\n"
          ],
          "name": "stderr"
        }
      ]
    },
    {
      "cell_type": "code",
      "metadata": {
        "id": "-zfLGD3KkRkh"
      },
      "source": [
        "def preProcessMalaya(text):\n",
        "  return ' '.join(mPP.process(text))"
      ],
      "execution_count": 9,
      "outputs": []
    },
    {
      "cell_type": "code",
      "metadata": {
        "id": "FtCxfnThlfHJ"
      },
      "source": [
        "df['cleanData-M'] = df['Raw'].astype(str).apply(preProcessMalaya)"
      ],
      "execution_count": 10,
      "outputs": []
    },
    {
      "cell_type": "code",
      "metadata": {
        "colab": {
          "base_uri": "https://localhost:8080/",
          "height": 352
        },
        "id": "noxNRDwdlv-f",
        "outputId": "e17fbdb3-6c68-40b4-82c4-97e80db13c6f"
      },
      "source": [
        "pd.options.display.max_colwidth =70 #extend the coulumn width\n",
        "pd.options.display.max_rows = 10\n",
        "df.style"
      ],
      "execution_count": 11,
      "outputs": [
        {
          "output_type": "execute_result",
          "data": {
            "text/html": [
              "<style  type=\"text/css\" >\n",
              "</style><table id=\"T_d0a0b4e8_a3ba_11eb_af7b_0242ac1c0002\" ><thead>    <tr>        <th class=\"blank level0\" ></th>        <th class=\"col_heading level0 col0\" >Raw</th>        <th class=\"col_heading level0 col1\" >cleanData-M</th>    </tr></thead><tbody>\n",
              "                <tr>\n",
              "                        <th id=\"T_d0a0b4e8_a3ba_11eb_af7b_0242ac1c0002level0_row0\" class=\"row_heading level0 row0\" >0</th>\n",
              "                        <td id=\"T_d0a0b4e8_a3ba_11eb_af7b_0242ac1c0002row0_col0\" class=\"data row0 col0\" >Tone policing is fascism masked as politeness @KKMPutrajaya people are angry, people are suicidal, but sure, bAhAsA… https://t.co/f7eKC7K4mP</td>\n",
              "                        <td id=\"T_d0a0b4e8_a3ba_11eb_af7b_0242ac1c0002row0_col1\" class=\"data row0 col1\" >tone policing adalah fasisme bertopeng sebagai kesopanan <user> orang adalah marah , orang adalah bunuh diri , tetapi pasti , bahasa … <url></td>\n",
              "            </tr>\n",
              "            <tr>\n",
              "                        <th id=\"T_d0a0b4e8_a3ba_11eb_af7b_0242ac1c0002level0_row1\" class=\"row_heading level0 row1\" >1</th>\n",
              "                        <td id=\"T_d0a0b4e8_a3ba_11eb_af7b_0242ac1c0002row1_col0\" class=\"data row1 col0\" >Patut lah berduyun-duyun orang nak jadi ahli PPBM, kalah masa jadi calon pun boleh dilantik menteri atau timbalan menteri. #KerajaanGagal</td>\n",
              "                        <td id=\"T_d0a0b4e8_a3ba_11eb_af7b_0242ac1c0002row1_col1\" class=\"data row1 col1\" >patut lah berduyun-duyun orang nak jadi ahli <allcaps> ppbm </allcaps> , kalah masa jadi calon pun boleh dilantik menteri atau timbalan menteri . <hashtag> kerajaangagal </hashtag></td>\n",
              "            </tr>\n",
              "            <tr>\n",
              "                        <th id=\"T_d0a0b4e8_a3ba_11eb_af7b_0242ac1c0002level0_row2\" class=\"row_heading level0 row2\" >2</th>\n",
              "                        <td id=\"T_d0a0b4e8_a3ba_11eb_af7b_0242ac1c0002row2_col0\" class=\"data row2 col0\" >@Marina_Ibrahims Tengok rambut pon da tau level akal dia da tak boleh pakai. Kalau tu bapak aku, da lama aku nasiha… https://t.co/ILMqz5tvUO</td>\n",
              "                        <td id=\"T_d0a0b4e8_a3ba_11eb_af7b_0242ac1c0002row2_col1\" class=\"data row2 col1\" ><user> tengok rambut pun dah tahu tahap akal dia dah tidak boleh pakai . kalau itu bapak aku , dah lama aku nasiha … <url></td>\n",
              "            </tr>\n",
              "            <tr>\n",
              "                        <th id=\"T_d0a0b4e8_a3ba_11eb_af7b_0242ac1c0002level0_row3\" class=\"row_heading level0 row3\" >3</th>\n",
              "                        <td id=\"T_d0a0b4e8_a3ba_11eb_af7b_0242ac1c0002row3_col0\" class=\"data row3 col0\" >It has been months and the numbers are still high. No aid, no support, no relief. Just stolen futures and wealth di… https://t.co/GWcapKNZVY</td>\n",
              "                        <td id=\"T_d0a0b4e8_a3ba_11eb_af7b_0242ac1c0002row3_col1\" class=\"data row3 col1\" >ia has telah months dan yang numbers adalah masih ada high . tidak bantuan , tidak sokongan , tidak pelepasan . hanya dicuri futures dan kekayaan di … <url></td>\n",
              "            </tr>\n",
              "            <tr>\n",
              "                        <th id=\"T_d0a0b4e8_a3ba_11eb_af7b_0242ac1c0002level0_row4\" class=\"row_heading level0 row4\" >4</th>\n",
              "                        <td id=\"T_d0a0b4e8_a3ba_11eb_af7b_0242ac1c0002row4_col0\" class=\"data row4 col0\" >@eqwanroslan @MaisarraAnuar #KerajaanGagal</td>\n",
              "                        <td id=\"T_d0a0b4e8_a3ba_11eb_af7b_0242ac1c0002row4_col1\" class=\"data row4 col1\" ><user> <user> <hashtag> kerajaangagal </hashtag></td>\n",
              "            </tr>\n",
              "            <tr>\n",
              "                        <th id=\"T_d0a0b4e8_a3ba_11eb_af7b_0242ac1c0002level0_row5\" class=\"row_heading level0 row5\" >5</th>\n",
              "                        <td id=\"T_d0a0b4e8_a3ba_11eb_af7b_0242ac1c0002row5_col0\" class=\"data row5 col0\" >Tapi ekonomi pun merudum\n",
              "#KerajaanGagal \n",
              "#KerajaanGagal \n",
              "#KerajaanGagal https://t.co/uq0UWCHPn7</td>\n",
              "                        <td id=\"T_d0a0b4e8_a3ba_11eb_af7b_0242ac1c0002row5_col1\" class=\"data row5 col1\" >tetapi ekonomi pun merudum <hashtag> kerajaangagal </hashtag> <hashtag> kerajaangagal </hashtag> <hashtag> kerajaangagal </hashtag> <url></td>\n",
              "            </tr>\n",
              "            <tr>\n",
              "                        <th id=\"T_d0a0b4e8_a3ba_11eb_af7b_0242ac1c0002level0_row6\" class=\"row_heading level0 row6\" >6</th>\n",
              "                        <td id=\"T_d0a0b4e8_a3ba_11eb_af7b_0242ac1c0002row6_col0\" class=\"data row6 col0\" >dalam lagaknya tolak kebebaran, india akhirnya tumpas. \n",
              "\n",
              "this could be us.\n",
              "\n",
              "perang belum selesai. #KerajaanGagal da… https://t.co/5nswPM9qug</td>\n",
              "                        <td id=\"T_d0a0b4e8_a3ba_11eb_af7b_0242ac1c0002row6_col1\" class=\"data row6 col1\" >dalam lagaknya tolak kebebaran , india akhirnya tumpas . this boleh jadi kami . perang belum selesai . <hashtag> kerajaangagal </hashtag> dah … <url></td>\n",
              "            </tr>\n",
              "            <tr>\n",
              "                        <th id=\"T_d0a0b4e8_a3ba_11eb_af7b_0242ac1c0002level0_row7\" class=\"row_heading level0 row7\" >7</th>\n",
              "                        <td id=\"T_d0a0b4e8_a3ba_11eb_af7b_0242ac1c0002row7_col0\" class=\"data row7 col0\" >@SyedSaddiq I know what’s the problem. They do not know what DOUBLE STANDARD means. That’s why they keep doing it. #KerajaanGagal</td>\n",
              "                        <td id=\"T_d0a0b4e8_a3ba_11eb_af7b_0242ac1c0002row7_col1\" class=\"data row7 col1\" ><user> saya tahu apa ' s yang masalah . they do tidak tahu apa <allcaps> double standard </allcaps> means . itu ' s kenapa they teruskan melakukan ia . <hashtag> kerajaangagal </hashtag></td>\n",
              "            </tr>\n",
              "            <tr>\n",
              "                        <th id=\"T_d0a0b4e8_a3ba_11eb_af7b_0242ac1c0002level0_row8\" class=\"row_heading level0 row8\" >8</th>\n",
              "                        <td id=\"T_d0a0b4e8_a3ba_11eb_af7b_0242ac1c0002row8_col0\" class=\"data row8 col0\" >#TamatDarurat #KerajaanGagal #TolakPNipu https://t.co/vQJD33OZXs</td>\n",
              "                        <td id=\"T_d0a0b4e8_a3ba_11eb_af7b_0242ac1c0002row8_col1\" class=\"data row8 col1\" ><hashtag> tamatdarurat </hashtag> <hashtag> kerajaangagal </hashtag> <hashtag> tolakpnipu </hashtag> <url></td>\n",
              "            </tr>\n",
              "            <tr>\n",
              "                        <th id=\"T_d0a0b4e8_a3ba_11eb_af7b_0242ac1c0002level0_row9\" class=\"row_heading level0 row9\" >9</th>\n",
              "                        <td id=\"T_d0a0b4e8_a3ba_11eb_af7b_0242ac1c0002row9_col0\" class=\"data row9 col0\" >Better? You’re havin’ a laugh eh @KDNPUTRAJAYA ?\n",
              "\n",
              "#KerajaanGagal \n",
              "#TamatDarurat https://t.co/v2ALZB1On2</td>\n",
              "                        <td id=\"T_d0a0b4e8_a3ba_11eb_af7b_0242ac1c0002row9_col1\" class=\"data row9 col1\" >lebih baik ? awak adalah havin ' a ketawa eh <user> ? <hashtag> kerajaangagal </hashtag> <hashtag> tamatdarurat </hashtag> <url></td>\n",
              "            </tr>\n",
              "    </tbody></table>"
            ],
            "text/plain": [
              "<pandas.io.formats.style.Styler at 0x7ff3f9cf5610>"
            ]
          },
          "metadata": {
            "tags": []
          },
          "execution_count": 11
        }
      ]
    },
    {
      "cell_type": "markdown",
      "metadata": {
        "id": "9kf-xOAEjMq1"
      },
      "source": [
        "* install googletrans API for language translation part:\n",
        "   *  my plan is for **re** preprocessing there is no langugae translation module , so I am going to use googletrans API ver 3.1.0a0 since latest ones got some error."
      ]
    },
    {
      "cell_type": "code",
      "metadata": {
        "colab": {
          "base_uri": "https://localhost:8080/"
        },
        "id": "vo0wV6kh20e-",
        "outputId": "50b80c2f-c62f-4be7-911e-957b9a45b04c"
      },
      "source": [
        "!pip install googletrans==4.0.0-rc1"
      ],
      "execution_count": 12,
      "outputs": [
        {
          "output_type": "stream",
          "text": [
            "Requirement already satisfied: googletrans==4.0.0-rc1 in /usr/local/lib/python3.7/dist-packages (4.0.0rc1)\n",
            "Requirement already satisfied: httpx==0.13.3 in /usr/local/lib/python3.7/dist-packages (from googletrans==4.0.0-rc1) (0.13.3)\n",
            "Requirement already satisfied: httpcore==0.9.* in /usr/local/lib/python3.7/dist-packages (from httpx==0.13.3->googletrans==4.0.0-rc1) (0.9.1)\n",
            "Requirement already satisfied: sniffio in /usr/local/lib/python3.7/dist-packages (from httpx==0.13.3->googletrans==4.0.0-rc1) (1.2.0)\n",
            "Requirement already satisfied: idna==2.* in /usr/local/lib/python3.7/dist-packages (from httpx==0.13.3->googletrans==4.0.0-rc1) (2.10)\n",
            "Requirement already satisfied: rfc3986<2,>=1.3 in /usr/local/lib/python3.7/dist-packages (from httpx==0.13.3->googletrans==4.0.0-rc1) (1.4.0)\n",
            "Requirement already satisfied: certifi in /usr/local/lib/python3.7/dist-packages (from httpx==0.13.3->googletrans==4.0.0-rc1) (2020.12.5)\n",
            "Requirement already satisfied: chardet==3.* in /usr/local/lib/python3.7/dist-packages (from httpx==0.13.3->googletrans==4.0.0-rc1) (3.0.4)\n",
            "Requirement already satisfied: hstspreload in /usr/local/lib/python3.7/dist-packages (from httpx==0.13.3->googletrans==4.0.0-rc1) (2020.12.22)\n",
            "Requirement already satisfied: h2==3.* in /usr/local/lib/python3.7/dist-packages (from httpcore==0.9.*->httpx==0.13.3->googletrans==4.0.0-rc1) (3.2.0)\n",
            "Requirement already satisfied: h11<0.10,>=0.8 in /usr/local/lib/python3.7/dist-packages (from httpcore==0.9.*->httpx==0.13.3->googletrans==4.0.0-rc1) (0.9.0)\n",
            "Requirement already satisfied: hyperframe<6,>=5.2.0 in /usr/local/lib/python3.7/dist-packages (from h2==3.*->httpcore==0.9.*->httpx==0.13.3->googletrans==4.0.0-rc1) (5.2.0)\n",
            "Requirement already satisfied: hpack<4,>=3.0 in /usr/local/lib/python3.7/dist-packages (from h2==3.*->httpcore==0.9.*->httpx==0.13.3->googletrans==4.0.0-rc1) (3.0.0)\n"
          ],
          "name": "stdout"
        }
      ]
    },
    {
      "cell_type": "code",
      "metadata": {
        "id": "jJ5GxhKU21su"
      },
      "source": [
        "import googletrans as gt"
      ],
      "execution_count": 13,
      "outputs": []
    },
    {
      "cell_type": "code",
      "metadata": {
        "colab": {
          "base_uri": "https://localhost:8080/"
        },
        "id": "0NsK9AWf30Qq",
        "outputId": "877fc8fe-ac99-409b-c984-dfe774af1da8"
      },
      "source": [
        "print(gt.LANGUAGES)#check available languages"
      ],
      "execution_count": 14,
      "outputs": [
        {
          "output_type": "stream",
          "text": [
            "{'af': 'afrikaans', 'sq': 'albanian', 'am': 'amharic', 'ar': 'arabic', 'hy': 'armenian', 'az': 'azerbaijani', 'eu': 'basque', 'be': 'belarusian', 'bn': 'bengali', 'bs': 'bosnian', 'bg': 'bulgarian', 'ca': 'catalan', 'ceb': 'cebuano', 'ny': 'chichewa', 'zh-cn': 'chinese (simplified)', 'zh-tw': 'chinese (traditional)', 'co': 'corsican', 'hr': 'croatian', 'cs': 'czech', 'da': 'danish', 'nl': 'dutch', 'en': 'english', 'eo': 'esperanto', 'et': 'estonian', 'tl': 'filipino', 'fi': 'finnish', 'fr': 'french', 'fy': 'frisian', 'gl': 'galician', 'ka': 'georgian', 'de': 'german', 'el': 'greek', 'gu': 'gujarati', 'ht': 'haitian creole', 'ha': 'hausa', 'haw': 'hawaiian', 'iw': 'hebrew', 'he': 'hebrew', 'hi': 'hindi', 'hmn': 'hmong', 'hu': 'hungarian', 'is': 'icelandic', 'ig': 'igbo', 'id': 'indonesian', 'ga': 'irish', 'it': 'italian', 'ja': 'japanese', 'jw': 'javanese', 'kn': 'kannada', 'kk': 'kazakh', 'km': 'khmer', 'ko': 'korean', 'ku': 'kurdish (kurmanji)', 'ky': 'kyrgyz', 'lo': 'lao', 'la': 'latin', 'lv': 'latvian', 'lt': 'lithuanian', 'lb': 'luxembourgish', 'mk': 'macedonian', 'mg': 'malagasy', 'ms': 'malay', 'ml': 'malayalam', 'mt': 'maltese', 'mi': 'maori', 'mr': 'marathi', 'mn': 'mongolian', 'my': 'myanmar (burmese)', 'ne': 'nepali', 'no': 'norwegian', 'or': 'odia', 'ps': 'pashto', 'fa': 'persian', 'pl': 'polish', 'pt': 'portuguese', 'pa': 'punjabi', 'ro': 'romanian', 'ru': 'russian', 'sm': 'samoan', 'gd': 'scots gaelic', 'sr': 'serbian', 'st': 'sesotho', 'sn': 'shona', 'sd': 'sindhi', 'si': 'sinhala', 'sk': 'slovak', 'sl': 'slovenian', 'so': 'somali', 'es': 'spanish', 'su': 'sundanese', 'sw': 'swahili', 'sv': 'swedish', 'tg': 'tajik', 'ta': 'tamil', 'te': 'telugu', 'th': 'thai', 'tr': 'turkish', 'uk': 'ukrainian', 'ur': 'urdu', 'ug': 'uyghur', 'uz': 'uzbek', 'vi': 'vietnamese', 'cy': 'welsh', 'xh': 'xhosa', 'yi': 'yiddish', 'yo': 'yoruba', 'zu': 'zulu'}\n"
          ],
          "name": "stdout"
        }
      ]
    },
    {
      "cell_type": "code",
      "metadata": {
        "id": "vkIp0JOl4ANb"
      },
      "source": [
        "from googletrans import Translator  "
      ],
      "execution_count": 15,
      "outputs": []
    },
    {
      "cell_type": "code",
      "metadata": {
        "id": "FYETGi0J4Eu0"
      },
      "source": [
        "translator = Translator()"
      ],
      "execution_count": 16,
      "outputs": []
    },
    {
      "cell_type": "code",
      "metadata": {
        "id": "HDDcH2Tf34Wv"
      },
      "source": [
        "text1 ='good morning everybody'\n",
        "text2 ='Apa khabar awak?'\n",
        "text3 ='안녕하세요'\n",
        "text4 = \" Apa khabar awak?.Im fine terima kasih\""
      ],
      "execution_count": 17,
      "outputs": []
    },
    {
      "cell_type": "code",
      "metadata": {
        "colab": {
          "base_uri": "https://localhost:8080/"
        },
        "id": "Kdw5Klv-4Hjg",
        "outputId": "af1a091b-4ee9-4831-83e5-3ef1aa47772b"
      },
      "source": [
        "print(translator.detect(text1))\n",
        "print(translator.detect(text2))\n",
        "print(translator.detect(text3))\n",
        "print(translator.detect(text4))\n",
        "print(translator.translate('안녕하세요.'))\n",
        "print(translator.translate(text1, dest='ms'))\n"
      ],
      "execution_count": 18,
      "outputs": [
        {
          "output_type": "stream",
          "text": [
            "Detected(lang=en, confidence=None)\n",
            "Detected(lang=ms, confidence=None)\n",
            "Detected(lang=ko, confidence=None)\n",
            "Detected(lang=ms, confidence=None)\n",
            "Translated(src=ko, dest=en, text=Good morning., pronunciation=None, extra_data=\"{'confiden...\")\n",
            "Translated(src=en, dest=ms, text=selamat Pagi semua, pronunciation=None, extra_data=\"{'confiden...\")\n"
          ],
          "name": "stdout"
        }
      ]
    },
    {
      "cell_type": "markdown",
      "metadata": {
        "id": "gNNYu1-fkJVY"
      },
      "source": [
        "* 2 pieces of code above just to try to detect and translate language "
      ]
    },
    {
      "cell_type": "code",
      "metadata": {
        "id": "GpoEkuTiYFLO"
      },
      "source": [
        " #Translate english word to bm\n",
        "    # the steps as as follow:\n",
        "    # 1)split the string into words\n",
        "    # 2) detect words language \n",
        "    #     *if en --> covert\n",
        "    #     * else -->skip\n",
        "    # 3) append the string\n",
        "    \n",
        "def trans_En_to_Bm(text):\n",
        "  sent2Word = text.split() #step1:splitting/ tekenizing the sentence\n",
        "  convText=[]\n",
        "  \n",
        "  for word in sent2Word:\n",
        "    lang = translator.detect(word)# step2)-1 :detect language\n",
        "    if (lang.lang =='en'):\n",
        "      word = translator.translate(word, dest='ms') #step2)-2 :translate english to bahasa melayu\n",
        "      convText.append(word.text)\n",
        "    else:\n",
        "      convText.append(word)\n",
        "\n",
        "  text = ' '.join(convText)\n",
        "\n",
        "  return text\n",
        "  convText.clear()"
      ],
      "execution_count": 19,
      "outputs": []
    },
    {
      "cell_type": "code",
      "metadata": {
        "id": "INKTgactbuJN"
      },
      "source": [
        "#removing emoji/emoticon\n",
        "def remove_emoji(string):\n",
        "    emoji_pattern = re.compile(\"[\"\n",
        "                           u\"\\U0001F600-\\U0001F64F\" # emoticons\n",
        "                           u\"\\U0001F300-\\U0001F5FF\" # symbols & pictographs\n",
        "                           u\"\\U0001F680-\\U0001F6FF\" # transport & map symbols\n",
        "                           u\"\\U0001F1E0-\\U0001F1FF\" # flags (iOS)\n",
        "                           u\"\\U00002702-\\U000027B0\"\n",
        "                           u\"\\U000024C2-\\U0001F251\"\n",
        "                           \"]+\", flags=re.UNICODE)\n",
        "    return emoji_pattern.sub(r'', string)"
      ],
      "execution_count": 20,
      "outputs": []
    },
    {
      "cell_type": "code",
      "metadata": {
        "id": "p6sXj90hg2f2"
      },
      "source": [
        "with open('/content/drive/MyDrive/Colab Notebooks/Emoji_Dict.p', 'rb') as fp:\n",
        "    Emoji_Dict = pickle.load(fp)\n",
        "Emoji_Dict = {v: k for k, v in Emoji_Dict.items()}\n",
        "\n",
        "def convert_emojis_to_word(text):\n",
        "    for emoj in Emoji_Dict:\n",
        "        text = re.sub(r'('+emoj+')', \"_\".join(Emoji_Dict[emoj].replace(\",\",\"\").replace(\":\",\"\").split()), text)\n",
        "    return text"
      ],
      "execution_count": 21,
      "outputs": []
    },
    {
      "cell_type": "code",
      "metadata": {
        "id": "WoJDMJzq4Nn_"
      },
      "source": [
        "#define class for re preperocessing\n",
        "\n",
        "def preProcessMus(text):\n",
        "  \n",
        "  text = text.lower()\n",
        "\n",
        "  #1st step <---- remove emoji and emoticon\n",
        "  #text = remove_emoji(text)\n",
        "  #covert emoji/emoticon to word\n",
        "  text = convert_emojis_to_word(text)\n",
        "  text = re.sub(r'https?:\\/\\/\\S+', ' ', text)#remove hyperlink\n",
        "\n",
        "\n",
        "  #2nd step<--- remove special character and number\n",
        "  # after ....re.sub(... the single 'r' stands for raw string. \n",
        "  #so it will ignore all the escape character python has. \n",
        "  #as for example '\\n' which refer as new line. it will ignore\n",
        "  text=re.sub(r'/\\b\\S\\s\\b\\n/', '', text)\n",
        "  text= re.sub(r'@[A-Z_a-z_0-9]+', '', text)#remove @mentions or user with '_'  \n",
        "  text= re.sub(r'@[A-Z0-9a-z0-9]+', '', text)#remove @mentions or user that dont have '_'\n",
        "  text = re.sub(r'#[A-Za-z0-9_A-Za-z0-9]+', '',text)#remove #hashtag \n",
        "  text= re.sub(r'\\n', '', text)#remove \\n\n",
        "  text=re.sub(r'[-()\\\"''#!@$%^&*{}?.,:]',' ',text)#remove speial character and punctuation\n",
        "  text =' '.join(text.split('_')) # split word that merge by underscore '_'\n",
        "\n",
        "  #4th step<--- translate english word to bahasa\n",
        "  text = trans_En_to_Bm(text) # have to commented out this because googletrans cant handle huge data\n",
        "  text=re.sub(r'[-()\\\"''#!@$%^&*{}?.,:]',' ',text)#remove speial character and punctuation\n",
        "\n",
        "  #3rd step<--- first lowercase the text\n",
        "  text = text.lower()\n",
        "\n",
        "  return text"
      ],
      "execution_count": 22,
      "outputs": []
    },
    {
      "cell_type": "code",
      "metadata": {
        "id": "w2YDIEvFUid4",
        "colab": {
          "base_uri": "https://localhost:8080/"
        },
        "outputId": "2865321b-ccb1-42fd-8ff6-4d8f03088a9e"
      },
      "source": [
        "text5 = '@Marina_Ibrahims Kebabian PN makin terserlah dan muhyiddin kimak\\n#KerajaanGagal'\n",
        "text6 = '@kuasasiswa you made my day!👏😂\\nso far the BEST troll ever!\\nso much effort you put in👍\\n#Keraja...'\n",
        "text7 = '@Mar5s6dgs0d9 🐷 \\nmaroni kimak\\n#Kerajaan_Gagal'\n",
        "\n",
        "print(preProcessMus(text5))\n",
        "print(preProcessMus(text6))\n",
        "print(preProcessMus(text7))"
      ],
      "execution_count": 23,
      "outputs": [
        {
          "output_type": "stream",
          "text": [
            "kebabian pn  makin  terserlah dan muhyiddin kimak\n",
            "anda dibuat my hari bertepuk tangan handsface  dengan air mata of  joyso jauh the best  troll  pernah so  banyak usaha anda letak inthumbs  up\n",
            "babi muka maroni kimak\n"
          ],
          "name": "stdout"
        }
      ]
    },
    {
      "cell_type": "code",
      "metadata": {
        "colab": {
          "base_uri": "https://localhost:8080/"
        },
        "id": "K6wZZUqTlAKd",
        "outputId": "3bc6de07-422a-4a56-c9a4-38bf912ed61e"
      },
      "source": [
        "%%time\n",
        "df['cleanData-MUS'] = df['Raw'].astype(str).apply(preProcessMus)"
      ],
      "execution_count": 24,
      "outputs": [
        {
          "output_type": "stream",
          "text": [
            "CPU times: user 3.36 s, sys: 171 ms, total: 3.53 s\n",
            "Wall time: 15.7 s\n"
          ],
          "name": "stdout"
        }
      ]
    },
    {
      "cell_type": "code",
      "metadata": {
        "colab": {
          "base_uri": "https://localhost:8080/",
          "height": 386
        },
        "id": "1D7UUGh9H8Z_",
        "outputId": "576ec9ae-926f-4d17-d893-f318b3a4f1aa"
      },
      "source": [
        "df.style"
      ],
      "execution_count": 25,
      "outputs": [
        {
          "output_type": "execute_result",
          "data": {
            "text/html": [
              "<style  type=\"text/css\" >\n",
              "</style><table id=\"T_de35f820_a3ba_11eb_af7b_0242ac1c0002\" ><thead>    <tr>        <th class=\"blank level0\" ></th>        <th class=\"col_heading level0 col0\" >Raw</th>        <th class=\"col_heading level0 col1\" >cleanData-M</th>        <th class=\"col_heading level0 col2\" >cleanData-MUS</th>    </tr></thead><tbody>\n",
              "                <tr>\n",
              "                        <th id=\"T_de35f820_a3ba_11eb_af7b_0242ac1c0002level0_row0\" class=\"row_heading level0 row0\" >0</th>\n",
              "                        <td id=\"T_de35f820_a3ba_11eb_af7b_0242ac1c0002row0_col0\" class=\"data row0 col0\" >Tone policing is fascism masked as politeness @KKMPutrajaya people are angry, people are suicidal, but sure, bAhAsA… https://t.co/f7eKC7K4mP</td>\n",
              "                        <td id=\"T_de35f820_a3ba_11eb_af7b_0242ac1c0002row0_col1\" class=\"data row0 col1\" >tone policing adalah fasisme bertopeng sebagai kesopanan <user> orang adalah marah , orang adalah bunuh diri , tetapi pasti , bahasa … <url></td>\n",
              "                        <td id=\"T_de35f820_a3ba_11eb_af7b_0242ac1c0002row0_col2\" class=\"data row0 col2\" >nada polis adalah fasisme bertopeng   kesopanan orang ramai adalah marah orang ramai adalah suicidal  tetapi pasti bahasa…</td>\n",
              "            </tr>\n",
              "            <tr>\n",
              "                        <th id=\"T_de35f820_a3ba_11eb_af7b_0242ac1c0002level0_row1\" class=\"row_heading level0 row1\" >1</th>\n",
              "                        <td id=\"T_de35f820_a3ba_11eb_af7b_0242ac1c0002row1_col0\" class=\"data row1 col0\" >Patut lah berduyun-duyun orang nak jadi ahli PPBM, kalah masa jadi calon pun boleh dilantik menteri atau timbalan menteri. #KerajaanGagal</td>\n",
              "                        <td id=\"T_de35f820_a3ba_11eb_af7b_0242ac1c0002row1_col1\" class=\"data row1 col1\" >patut lah berduyun-duyun orang nak jadi ahli <allcaps> ppbm </allcaps> , kalah masa jadi calon pun boleh dilantik menteri atau timbalan menteri . <hashtag> kerajaangagal </hashtag></td>\n",
              "                        <td id=\"T_de35f820_a3ba_11eb_af7b_0242ac1c0002row1_col2\" class=\"data row1 col2\" >patut lah berduyun duyun orang nak jadi ahli ppbm kalah masa jadi calon pun boleh dilantik menteri atau timbalan menteri</td>\n",
              "            </tr>\n",
              "            <tr>\n",
              "                        <th id=\"T_de35f820_a3ba_11eb_af7b_0242ac1c0002level0_row2\" class=\"row_heading level0 row2\" >2</th>\n",
              "                        <td id=\"T_de35f820_a3ba_11eb_af7b_0242ac1c0002row2_col0\" class=\"data row2 col0\" >@Marina_Ibrahims Tengok rambut pon da tau level akal dia da tak boleh pakai. Kalau tu bapak aku, da lama aku nasiha… https://t.co/ILMqz5tvUO</td>\n",
              "                        <td id=\"T_de35f820_a3ba_11eb_af7b_0242ac1c0002row2_col1\" class=\"data row2 col1\" ><user> tengok rambut pun dah tahu tahap akal dia dah tidak boleh pakai . kalau itu bapak aku , dah lama aku nasiha … <url></td>\n",
              "                        <td id=\"T_de35f820_a3ba_11eb_af7b_0242ac1c0002row2_col2\" class=\"data row2 col2\" >tengok rambut pon da tau tahap akal dia da tak boleh pakai kalau tu bapak aku da lama aku nasiha…</td>\n",
              "            </tr>\n",
              "            <tr>\n",
              "                        <th id=\"T_de35f820_a3ba_11eb_af7b_0242ac1c0002level0_row3\" class=\"row_heading level0 row3\" >3</th>\n",
              "                        <td id=\"T_de35f820_a3ba_11eb_af7b_0242ac1c0002row3_col0\" class=\"data row3 col0\" >It has been months and the numbers are still high. No aid, no support, no relief. Just stolen futures and wealth di… https://t.co/GWcapKNZVY</td>\n",
              "                        <td id=\"T_de35f820_a3ba_11eb_af7b_0242ac1c0002row3_col1\" class=\"data row3 col1\" >ia has telah months dan yang numbers adalah masih ada high . tidak bantuan , tidak sokongan , tidak pelepasan . hanya dicuri futures dan kekayaan di … <url></td>\n",
              "                        <td id=\"T_de35f820_a3ba_11eb_af7b_0242ac1c0002row3_col2\" class=\"data row3 col2\" >ia telah telah bulan dan the nombor adalah masih ada tinggi tidak bantuan tidak sokongan tidak kelegaan hanya dicuri niaga hadapan dan kekayaan di…</td>\n",
              "            </tr>\n",
              "            <tr>\n",
              "                        <th id=\"T_de35f820_a3ba_11eb_af7b_0242ac1c0002level0_row4\" class=\"row_heading level0 row4\" >4</th>\n",
              "                        <td id=\"T_de35f820_a3ba_11eb_af7b_0242ac1c0002row4_col0\" class=\"data row4 col0\" >@eqwanroslan @MaisarraAnuar #KerajaanGagal</td>\n",
              "                        <td id=\"T_de35f820_a3ba_11eb_af7b_0242ac1c0002row4_col1\" class=\"data row4 col1\" ><user> <user> <hashtag> kerajaangagal </hashtag></td>\n",
              "                        <td id=\"T_de35f820_a3ba_11eb_af7b_0242ac1c0002row4_col2\" class=\"data row4 col2\" ></td>\n",
              "            </tr>\n",
              "            <tr>\n",
              "                        <th id=\"T_de35f820_a3ba_11eb_af7b_0242ac1c0002level0_row5\" class=\"row_heading level0 row5\" >5</th>\n",
              "                        <td id=\"T_de35f820_a3ba_11eb_af7b_0242ac1c0002row5_col0\" class=\"data row5 col0\" >Tapi ekonomi pun merudum\n",
              "#KerajaanGagal \n",
              "#KerajaanGagal \n",
              "#KerajaanGagal https://t.co/uq0UWCHPn7</td>\n",
              "                        <td id=\"T_de35f820_a3ba_11eb_af7b_0242ac1c0002row5_col1\" class=\"data row5 col1\" >tetapi ekonomi pun merudum <hashtag> kerajaangagal </hashtag> <hashtag> kerajaangagal </hashtag> <hashtag> kerajaangagal </hashtag> <url></td>\n",
              "                        <td id=\"T_de35f820_a3ba_11eb_af7b_0242ac1c0002row5_col2\" class=\"data row5 col2\" >tapi ekonomi pun merudum</td>\n",
              "            </tr>\n",
              "            <tr>\n",
              "                        <th id=\"T_de35f820_a3ba_11eb_af7b_0242ac1c0002level0_row6\" class=\"row_heading level0 row6\" >6</th>\n",
              "                        <td id=\"T_de35f820_a3ba_11eb_af7b_0242ac1c0002row6_col0\" class=\"data row6 col0\" >dalam lagaknya tolak kebebaran, india akhirnya tumpas. \n",
              "\n",
              "this could be us.\n",
              "\n",
              "perang belum selesai. #KerajaanGagal da… https://t.co/5nswPM9qug</td>\n",
              "                        <td id=\"T_de35f820_a3ba_11eb_af7b_0242ac1c0002row6_col1\" class=\"data row6 col1\" >dalam lagaknya tolak kebebaran , india akhirnya tumpas . this boleh jadi kami . perang belum selesai . <hashtag> kerajaangagal </hashtag> dah … <url></td>\n",
              "                        <td id=\"T_de35f820_a3ba_11eb_af7b_0242ac1c0002row6_col2\" class=\"data row6 col2\" >dalam lagaknya tolak kebebaran india akhirnya tumpas ini boleh akan kami perang belum selesai da…</td>\n",
              "            </tr>\n",
              "            <tr>\n",
              "                        <th id=\"T_de35f820_a3ba_11eb_af7b_0242ac1c0002level0_row7\" class=\"row_heading level0 row7\" >7</th>\n",
              "                        <td id=\"T_de35f820_a3ba_11eb_af7b_0242ac1c0002row7_col0\" class=\"data row7 col0\" >@SyedSaddiq I know what’s the problem. They do not know what DOUBLE STANDARD means. That’s why they keep doing it. #KerajaanGagal</td>\n",
              "                        <td id=\"T_de35f820_a3ba_11eb_af7b_0242ac1c0002row7_col1\" class=\"data row7 col1\" ><user> saya tahu apa ' s yang masalah . they do tidak tahu apa <allcaps> double standard </allcaps> means . itu ' s kenapa they teruskan melakukan ia . <hashtag> kerajaangagal </hashtag></td>\n",
              "                        <td id=\"T_de35f820_a3ba_11eb_af7b_0242ac1c0002row7_col2\" class=\"data row7 col2\" >i  tahu apa itu the masalah mereka lakukan tidak tahu apa double  standard  bererti itu kenapa mereka menyimpan melakukan ia</td>\n",
              "            </tr>\n",
              "            <tr>\n",
              "                        <th id=\"T_de35f820_a3ba_11eb_af7b_0242ac1c0002level0_row8\" class=\"row_heading level0 row8\" >8</th>\n",
              "                        <td id=\"T_de35f820_a3ba_11eb_af7b_0242ac1c0002row8_col0\" class=\"data row8 col0\" >#TamatDarurat #KerajaanGagal #TolakPNipu https://t.co/vQJD33OZXs</td>\n",
              "                        <td id=\"T_de35f820_a3ba_11eb_af7b_0242ac1c0002row8_col1\" class=\"data row8 col1\" ><hashtag> tamatdarurat </hashtag> <hashtag> kerajaangagal </hashtag> <hashtag> tolakpnipu </hashtag> <url></td>\n",
              "                        <td id=\"T_de35f820_a3ba_11eb_af7b_0242ac1c0002row8_col2\" class=\"data row8 col2\" ></td>\n",
              "            </tr>\n",
              "            <tr>\n",
              "                        <th id=\"T_de35f820_a3ba_11eb_af7b_0242ac1c0002level0_row9\" class=\"row_heading level0 row9\" >9</th>\n",
              "                        <td id=\"T_de35f820_a3ba_11eb_af7b_0242ac1c0002row9_col0\" class=\"data row9 col0\" >Better? You’re havin’ a laugh eh @KDNPUTRAJAYA ?\n",
              "\n",
              "#KerajaanGagal \n",
              "#TamatDarurat https://t.co/v2ALZB1On2</td>\n",
              "                        <td id=\"T_de35f820_a3ba_11eb_af7b_0242ac1c0002row9_col1\" class=\"data row9 col1\" >lebih baik ? awak adalah havin ' a ketawa eh <user> ? <hashtag> kerajaangagal </hashtag> <hashtag> tamatdarurat </hashtag> <url></td>\n",
              "                        <td id=\"T_de35f820_a3ba_11eb_af7b_0242ac1c0002row9_col2\" class=\"data row9 col2\" >lebih baik anda havin ' a  ketawa eh</td>\n",
              "            </tr>\n",
              "    </tbody></table>"
            ],
            "text/plain": [
              "<pandas.io.formats.style.Styler at 0x7ff3f9a88150>"
            ]
          },
          "metadata": {
            "tags": []
          },
          "execution_count": 25
        }
      ]
    },
    {
      "cell_type": "code",
      "metadata": {
        "colab": {
          "base_uri": "https://localhost:8080/",
          "height": 359
        },
        "id": "54ntiZWMv-0L",
        "outputId": "597cddf7-ac58-46b7-8995-65b7231a14ca"
      },
      "source": [
        "df"
      ],
      "execution_count": 26,
      "outputs": [
        {
          "output_type": "execute_result",
          "data": {
            "text/html": [
              "<div>\n",
              "<style scoped>\n",
              "    .dataframe tbody tr th:only-of-type {\n",
              "        vertical-align: middle;\n",
              "    }\n",
              "\n",
              "    .dataframe tbody tr th {\n",
              "        vertical-align: top;\n",
              "    }\n",
              "\n",
              "    .dataframe thead th {\n",
              "        text-align: right;\n",
              "    }\n",
              "</style>\n",
              "<table border=\"1\" class=\"dataframe\">\n",
              "  <thead>\n",
              "    <tr style=\"text-align: right;\">\n",
              "      <th></th>\n",
              "      <th>Raw</th>\n",
              "      <th>cleanData-M</th>\n",
              "      <th>cleanData-MUS</th>\n",
              "    </tr>\n",
              "  </thead>\n",
              "  <tbody>\n",
              "    <tr>\n",
              "      <th>0</th>\n",
              "      <td>Tone policing is fascism masked as politeness @KKMPutrajaya people...</td>\n",
              "      <td>tone policing adalah fasisme bertopeng sebagai kesopanan &lt;user&gt; or...</td>\n",
              "      <td>nada polis adalah fasisme bertopeng   kesopanan orang ramai adalah...</td>\n",
              "    </tr>\n",
              "    <tr>\n",
              "      <th>1</th>\n",
              "      <td>Patut lah berduyun-duyun orang nak jadi ahli PPBM, kalah masa jadi...</td>\n",
              "      <td>patut lah berduyun-duyun orang nak jadi ahli &lt;allcaps&gt; ppbm &lt;/allc...</td>\n",
              "      <td>patut lah berduyun duyun orang nak jadi ahli ppbm kalah masa jadi ...</td>\n",
              "    </tr>\n",
              "    <tr>\n",
              "      <th>2</th>\n",
              "      <td>@Marina_Ibrahims Tengok rambut pon da tau level akal dia da tak bo...</td>\n",
              "      <td>&lt;user&gt; tengok rambut pun dah tahu tahap akal dia dah tidak boleh p...</td>\n",
              "      <td>tengok rambut pon da tau tahap akal dia da tak boleh pakai kalau t...</td>\n",
              "    </tr>\n",
              "    <tr>\n",
              "      <th>3</th>\n",
              "      <td>It has been months and the numbers are still high. No aid, no supp...</td>\n",
              "      <td>ia has telah months dan yang numbers adalah masih ada high . tidak...</td>\n",
              "      <td>ia telah telah bulan dan the nombor adalah masih ada tinggi tidak ...</td>\n",
              "    </tr>\n",
              "    <tr>\n",
              "      <th>4</th>\n",
              "      <td>@eqwanroslan @MaisarraAnuar #KerajaanGagal</td>\n",
              "      <td>&lt;user&gt; &lt;user&gt; &lt;hashtag&gt; kerajaangagal &lt;/hashtag&gt;</td>\n",
              "      <td></td>\n",
              "    </tr>\n",
              "    <tr>\n",
              "      <th>5</th>\n",
              "      <td>Tapi ekonomi pun merudum\\n#KerajaanGagal \\n#KerajaanGagal \\n#Keraj...</td>\n",
              "      <td>tetapi ekonomi pun merudum &lt;hashtag&gt; kerajaangagal &lt;/hashtag&gt; &lt;has...</td>\n",
              "      <td>tapi ekonomi pun merudum</td>\n",
              "    </tr>\n",
              "    <tr>\n",
              "      <th>6</th>\n",
              "      <td>dalam lagaknya tolak kebebaran, india akhirnya tumpas. \\n\\nthis co...</td>\n",
              "      <td>dalam lagaknya tolak kebebaran , india akhirnya tumpas . this bole...</td>\n",
              "      <td>dalam lagaknya tolak kebebaran india akhirnya tumpas ini boleh aka...</td>\n",
              "    </tr>\n",
              "    <tr>\n",
              "      <th>7</th>\n",
              "      <td>@SyedSaddiq I know what’s the problem. They do not know what DOUBL...</td>\n",
              "      <td>&lt;user&gt; saya tahu apa ' s yang masalah . they do tidak tahu apa &lt;al...</td>\n",
              "      <td>i  tahu apa itu the masalah mereka lakukan tidak tahu apa double  ...</td>\n",
              "    </tr>\n",
              "    <tr>\n",
              "      <th>8</th>\n",
              "      <td>#TamatDarurat #KerajaanGagal #TolakPNipu https://t.co/vQJD33OZXs</td>\n",
              "      <td>&lt;hashtag&gt; tamatdarurat &lt;/hashtag&gt; &lt;hashtag&gt; kerajaangagal &lt;/hashta...</td>\n",
              "      <td></td>\n",
              "    </tr>\n",
              "    <tr>\n",
              "      <th>9</th>\n",
              "      <td>Better? You’re havin’ a laugh eh @KDNPUTRAJAYA ?\\n\\n#KerajaanGagal...</td>\n",
              "      <td>lebih baik ? awak adalah havin ' a ketawa eh &lt;user&gt; ? &lt;hashtag&gt; ke...</td>\n",
              "      <td>lebih baik anda havin ' a  ketawa eh</td>\n",
              "    </tr>\n",
              "  </tbody>\n",
              "</table>\n",
              "</div>"
            ],
            "text/plain": [
              "                                                                     Raw  ...                                                          cleanData-MUS\n",
              "0  Tone policing is fascism masked as politeness @KKMPutrajaya people...  ...  nada polis adalah fasisme bertopeng   kesopanan orang ramai adalah...\n",
              "1  Patut lah berduyun-duyun orang nak jadi ahli PPBM, kalah masa jadi...  ...  patut lah berduyun duyun orang nak jadi ahli ppbm kalah masa jadi ...\n",
              "2  @Marina_Ibrahims Tengok rambut pon da tau level akal dia da tak bo...  ...  tengok rambut pon da tau tahap akal dia da tak boleh pakai kalau t...\n",
              "3  It has been months and the numbers are still high. No aid, no supp...  ...  ia telah telah bulan dan the nombor adalah masih ada tinggi tidak ...\n",
              "4                             @eqwanroslan @MaisarraAnuar #KerajaanGagal  ...                                                                       \n",
              "5  Tapi ekonomi pun merudum\\n#KerajaanGagal \\n#KerajaanGagal \\n#Keraj...  ...                                               tapi ekonomi pun merudum\n",
              "6  dalam lagaknya tolak kebebaran, india akhirnya tumpas. \\n\\nthis co...  ...  dalam lagaknya tolak kebebaran india akhirnya tumpas ini boleh aka...\n",
              "7  @SyedSaddiq I know what’s the problem. They do not know what DOUBL...  ...  i  tahu apa itu the masalah mereka lakukan tidak tahu apa double  ...\n",
              "8       #TamatDarurat #KerajaanGagal #TolakPNipu https://t.co/vQJD33OZXs  ...                                                                       \n",
              "9  Better? You’re havin’ a laugh eh @KDNPUTRAJAYA ?\\n\\n#KerajaanGagal...  ...                                   lebih baik anda havin ' a  ketawa eh\n",
              "\n",
              "[10 rows x 3 columns]"
            ]
          },
          "metadata": {
            "tags": []
          },
          "execution_count": 26
        }
      ]
    },
    {
      "cell_type": "code",
      "metadata": {
        "id": "S4fMJXqn5mQF"
      },
      "source": [
        ""
      ],
      "execution_count": 26,
      "outputs": []
    }
  ]
}