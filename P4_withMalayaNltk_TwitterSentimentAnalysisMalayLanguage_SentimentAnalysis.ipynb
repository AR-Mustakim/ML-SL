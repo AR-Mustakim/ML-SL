{
  "nbformat": 4,
  "nbformat_minor": 0,
  "metadata": {
    "colab": {
      "name": "P4_withMalayaNltk_TwitterSentimentAnalysisMalayLanguage_SentimentAnalysis.ipynb",
      "provenance": [],
      "collapsed_sections": [],
      "mount_file_id": "1oGoldew6jQ35vseceIuNxM3jb1rYJoLF",
      "authorship_tag": "ABX9TyPQKzD2YGxiuK0nF1OpEXDv",
      "include_colab_link": true
    },
    "kernelspec": {
      "name": "python3",
      "display_name": "Python 3"
    },
    "language_info": {
      "name": "python"
    }
  },
  "cells": [
    {
      "cell_type": "markdown",
      "metadata": {
        "id": "view-in-github",
        "colab_type": "text"
      },
      "source": [
        "<a href=\"https://colab.research.google.com/github/hungryphobic/NLP-projects/blob/main/P4_withMalayaNltk_TwitterSentimentAnalysisMalayLanguage_SentimentAnalysis.ipynb\" target=\"_parent\"><img src=\"https://colab.research.google.com/assets/colab-badge.svg\" alt=\"Open In Colab\"/></a>"
      ]
    },
    {
      "cell_type": "code",
      "metadata": {
        "id": "GUEZ7uxOkY4i"
      },
      "source": [
        "## install malaya package"
      ],
      "execution_count": 2,
      "outputs": []
    },
    {
      "cell_type": "code",
      "metadata": {
        "colab": {
          "base_uri": "https://localhost:8080/"
        },
        "id": "lOhxJG0MkDmZ",
        "outputId": "c0ec8402-c703-440d-d5b1-f865dd6507b3"
      },
      "source": [
        "!pip install malaya"
      ],
      "execution_count": 1,
      "outputs": [
        {
          "output_type": "stream",
          "text": [
            "Collecting malaya\n",
            "\u001b[?25l  Downloading https://files.pythonhosted.org/packages/d8/3e/871005f66e0c1e6fd04d44901a51c89ab641a35f0f8d9c000a27bf8f7bee/malaya-4.3-py3-none-any.whl (2.2MB)\n",
            "\u001b[K     |████████████████████████████████| 2.2MB 7.5MB/s \n",
            "\u001b[?25hRequirement already satisfied: scikit-learn in /usr/local/lib/python3.7/dist-packages (from malaya) (0.22.2.post1)\n",
            "Requirement already satisfied: requests in /usr/local/lib/python3.7/dist-packages (from malaya) (2.23.0)\n",
            "Requirement already satisfied: networkx in /usr/local/lib/python3.7/dist-packages (from malaya) (2.5.1)\n",
            "Collecting herpetologist\n",
            "  Downloading https://files.pythonhosted.org/packages/83/58/8ad7d0ccd94e6810c08baf040f622e44807afafc5fdc20c58f4a0a774e01/herpetologist-0.0.9-py3-none-any.whl\n",
            "Requirement already satisfied: scipy in /usr/local/lib/python3.7/dist-packages (from malaya) (1.4.1)\n",
            "Requirement already satisfied: tensorflow>=1.15 in /usr/local/lib/python3.7/dist-packages (from malaya) (2.5.0)\n",
            "Collecting sentencepiece\n",
            "\u001b[?25l  Downloading https://files.pythonhosted.org/packages/f5/99/e0808cb947ba10f575839c43e8fafc9cc44e4a7a2c8f79c60db48220a577/sentencepiece-0.1.95-cp37-cp37m-manylinux2014_x86_64.whl (1.2MB)\n",
            "\u001b[K     |████████████████████████████████| 1.2MB 48.1MB/s \n",
            "\u001b[?25hCollecting ftfy\n",
            "\u001b[?25l  Downloading https://files.pythonhosted.org/packages/af/da/d215a091986e5f01b80f5145cff6f22e2dc57c6b048aab2e882a07018473/ftfy-6.0.3.tar.gz (64kB)\n",
            "\u001b[K     |████████████████████████████████| 71kB 9.0MB/s \n",
            "\u001b[?25hRequirement already satisfied: tqdm in /usr/local/lib/python3.7/dist-packages (from malaya) (4.41.1)\n",
            "Requirement already satisfied: numpy in /usr/local/lib/python3.7/dist-packages (from malaya) (1.19.5)\n",
            "Collecting dateparser\n",
            "\u001b[?25l  Downloading https://files.pythonhosted.org/packages/78/c4/b5ddc3eeac974d85055d88c1e6b62cc492fc1a93dbe3b66a45a756a7b807/dateparser-1.0.0-py2.py3-none-any.whl (279kB)\n",
            "\u001b[K     |████████████████████████████████| 286kB 40.5MB/s \n",
            "\u001b[?25hCollecting unidecode\n",
            "\u001b[?25l  Downloading https://files.pythonhosted.org/packages/9e/25/723487ca2a52ebcee88a34d7d1f5a4b80b793f179ee0f62d5371938dfa01/Unidecode-1.2.0-py2.py3-none-any.whl (241kB)\n",
            "\u001b[K     |████████████████████████████████| 245kB 33.4MB/s \n",
            "\u001b[?25hRequirement already satisfied: joblib>=0.11 in /usr/local/lib/python3.7/dist-packages (from scikit-learn->malaya) (1.0.1)\n",
            "Requirement already satisfied: idna<3,>=2.5 in /usr/local/lib/python3.7/dist-packages (from requests->malaya) (2.10)\n",
            "Requirement already satisfied: certifi>=2017.4.17 in /usr/local/lib/python3.7/dist-packages (from requests->malaya) (2020.12.5)\n",
            "Requirement already satisfied: urllib3!=1.25.0,!=1.25.1,<1.26,>=1.21.1 in /usr/local/lib/python3.7/dist-packages (from requests->malaya) (1.24.3)\n",
            "Requirement already satisfied: chardet<4,>=3.0.2 in /usr/local/lib/python3.7/dist-packages (from requests->malaya) (3.0.4)\n",
            "Requirement already satisfied: decorator<5,>=4.3 in /usr/local/lib/python3.7/dist-packages (from networkx->malaya) (4.4.2)\n",
            "Collecting memoization\n",
            "  Downloading https://files.pythonhosted.org/packages/16/87/37229296c2a9506867d5f5440b9aac015d97af54c951cdfc129bb4bb8d75/memoization-0.3.2-py3-none-any.whl\n",
            "Requirement already satisfied: wheel~=0.35 in /usr/local/lib/python3.7/dist-packages (from tensorflow>=1.15->malaya) (0.36.2)\n",
            "Requirement already satisfied: flatbuffers~=1.12.0 in /usr/local/lib/python3.7/dist-packages (from tensorflow>=1.15->malaya) (1.12)\n",
            "Requirement already satisfied: absl-py~=0.10 in /usr/local/lib/python3.7/dist-packages (from tensorflow>=1.15->malaya) (0.12.0)\n",
            "Requirement already satisfied: keras-nightly~=2.5.0.dev in /usr/local/lib/python3.7/dist-packages (from tensorflow>=1.15->malaya) (2.5.0.dev2021032900)\n",
            "Requirement already satisfied: tensorflow-estimator<2.6.0,>=2.5.0rc0 in /usr/local/lib/python3.7/dist-packages (from tensorflow>=1.15->malaya) (2.5.0)\n",
            "Requirement already satisfied: six~=1.15.0 in /usr/local/lib/python3.7/dist-packages (from tensorflow>=1.15->malaya) (1.15.0)\n",
            "Requirement already satisfied: wrapt~=1.12.1 in /usr/local/lib/python3.7/dist-packages (from tensorflow>=1.15->malaya) (1.12.1)\n",
            "Requirement already satisfied: astunparse~=1.6.3 in /usr/local/lib/python3.7/dist-packages (from tensorflow>=1.15->malaya) (1.6.3)\n",
            "Requirement already satisfied: grpcio~=1.34.0 in /usr/local/lib/python3.7/dist-packages (from tensorflow>=1.15->malaya) (1.34.1)\n",
            "Requirement already satisfied: typing-extensions~=3.7.4 in /usr/local/lib/python3.7/dist-packages (from tensorflow>=1.15->malaya) (3.7.4.3)\n",
            "Requirement already satisfied: protobuf>=3.9.2 in /usr/local/lib/python3.7/dist-packages (from tensorflow>=1.15->malaya) (3.12.4)\n",
            "Requirement already satisfied: opt-einsum~=3.3.0 in /usr/local/lib/python3.7/dist-packages (from tensorflow>=1.15->malaya) (3.3.0)\n",
            "Requirement already satisfied: gast==0.4.0 in /usr/local/lib/python3.7/dist-packages (from tensorflow>=1.15->malaya) (0.4.0)\n",
            "Requirement already satisfied: google-pasta~=0.2 in /usr/local/lib/python3.7/dist-packages (from tensorflow>=1.15->malaya) (0.2.0)\n",
            "Requirement already satisfied: keras-preprocessing~=1.1.2 in /usr/local/lib/python3.7/dist-packages (from tensorflow>=1.15->malaya) (1.1.2)\n",
            "Requirement already satisfied: termcolor~=1.1.0 in /usr/local/lib/python3.7/dist-packages (from tensorflow>=1.15->malaya) (1.1.0)\n",
            "Requirement already satisfied: tensorboard~=2.5 in /usr/local/lib/python3.7/dist-packages (from tensorflow>=1.15->malaya) (2.5.0)\n",
            "Requirement already satisfied: h5py~=3.1.0 in /usr/local/lib/python3.7/dist-packages (from tensorflow>=1.15->malaya) (3.1.0)\n",
            "Requirement already satisfied: wcwidth in /usr/local/lib/python3.7/dist-packages (from ftfy->malaya) (0.2.5)\n",
            "Requirement already satisfied: pytz in /usr/local/lib/python3.7/dist-packages (from dateparser->malaya) (2018.9)\n",
            "Requirement already satisfied: tzlocal in /usr/local/lib/python3.7/dist-packages (from dateparser->malaya) (1.5.1)\n",
            "Requirement already satisfied: python-dateutil in /usr/local/lib/python3.7/dist-packages (from dateparser->malaya) (2.8.1)\n",
            "Requirement already satisfied: regex!=2019.02.19 in /usr/local/lib/python3.7/dist-packages (from dateparser->malaya) (2019.12.20)\n",
            "Requirement already satisfied: setuptools in /usr/local/lib/python3.7/dist-packages (from protobuf>=3.9.2->tensorflow>=1.15->malaya) (57.0.0)\n",
            "Requirement already satisfied: tensorboard-data-server<0.7.0,>=0.6.0 in /usr/local/lib/python3.7/dist-packages (from tensorboard~=2.5->tensorflow>=1.15->malaya) (0.6.1)\n",
            "Requirement already satisfied: markdown>=2.6.8 in /usr/local/lib/python3.7/dist-packages (from tensorboard~=2.5->tensorflow>=1.15->malaya) (3.3.4)\n",
            "Requirement already satisfied: werkzeug>=0.11.15 in /usr/local/lib/python3.7/dist-packages (from tensorboard~=2.5->tensorflow>=1.15->malaya) (1.0.1)\n",
            "Requirement already satisfied: google-auth-oauthlib<0.5,>=0.4.1 in /usr/local/lib/python3.7/dist-packages (from tensorboard~=2.5->tensorflow>=1.15->malaya) (0.4.4)\n",
            "Requirement already satisfied: tensorboard-plugin-wit>=1.6.0 in /usr/local/lib/python3.7/dist-packages (from tensorboard~=2.5->tensorflow>=1.15->malaya) (1.8.0)\n",
            "Requirement already satisfied: google-auth<2,>=1.6.3 in /usr/local/lib/python3.7/dist-packages (from tensorboard~=2.5->tensorflow>=1.15->malaya) (1.30.0)\n",
            "Requirement already satisfied: cached-property; python_version < \"3.8\" in /usr/local/lib/python3.7/dist-packages (from h5py~=3.1.0->tensorflow>=1.15->malaya) (1.5.2)\n",
            "Requirement already satisfied: importlib-metadata; python_version < \"3.8\" in /usr/local/lib/python3.7/dist-packages (from markdown>=2.6.8->tensorboard~=2.5->tensorflow>=1.15->malaya) (4.0.1)\n",
            "Requirement already satisfied: requests-oauthlib>=0.7.0 in /usr/local/lib/python3.7/dist-packages (from google-auth-oauthlib<0.5,>=0.4.1->tensorboard~=2.5->tensorflow>=1.15->malaya) (1.3.0)\n",
            "Requirement already satisfied: rsa<5,>=3.1.4; python_version >= \"3.6\" in /usr/local/lib/python3.7/dist-packages (from google-auth<2,>=1.6.3->tensorboard~=2.5->tensorflow>=1.15->malaya) (4.7.2)\n",
            "Requirement already satisfied: pyasn1-modules>=0.2.1 in /usr/local/lib/python3.7/dist-packages (from google-auth<2,>=1.6.3->tensorboard~=2.5->tensorflow>=1.15->malaya) (0.2.8)\n",
            "Requirement already satisfied: cachetools<5.0,>=2.0.0 in /usr/local/lib/python3.7/dist-packages (from google-auth<2,>=1.6.3->tensorboard~=2.5->tensorflow>=1.15->malaya) (4.2.2)\n",
            "Requirement already satisfied: zipp>=0.5 in /usr/local/lib/python3.7/dist-packages (from importlib-metadata; python_version < \"3.8\"->markdown>=2.6.8->tensorboard~=2.5->tensorflow>=1.15->malaya) (3.4.1)\n",
            "Requirement already satisfied: oauthlib>=3.0.0 in /usr/local/lib/python3.7/dist-packages (from requests-oauthlib>=0.7.0->google-auth-oauthlib<0.5,>=0.4.1->tensorboard~=2.5->tensorflow>=1.15->malaya) (3.1.0)\n",
            "Requirement already satisfied: pyasn1>=0.1.3 in /usr/local/lib/python3.7/dist-packages (from rsa<5,>=3.1.4; python_version >= \"3.6\"->google-auth<2,>=1.6.3->tensorboard~=2.5->tensorflow>=1.15->malaya) (0.4.8)\n",
            "Building wheels for collected packages: ftfy\n",
            "  Building wheel for ftfy (setup.py) ... \u001b[?25l\u001b[?25hdone\n",
            "  Created wheel for ftfy: filename=ftfy-6.0.3-cp37-none-any.whl size=41935 sha256=e25781d391d70b7fd75e02e8d8198f7a8595b5cf01517743dfd696533ef205bf\n",
            "  Stored in directory: /root/.cache/pip/wheels/99/2c/e6/109c8a28fef7a443f67ba58df21fe1d0067ac3322e75e6b0b7\n",
            "Successfully built ftfy\n",
            "Installing collected packages: memoization, herpetologist, sentencepiece, ftfy, dateparser, unidecode, malaya\n",
            "Successfully installed dateparser-1.0.0 ftfy-6.0.3 herpetologist-0.0.9 malaya-4.3 memoization-0.3.2 sentencepiece-0.1.95 unidecode-1.2.0\n"
          ],
          "name": "stdout"
        }
      ]
    },
    {
      "cell_type": "code",
      "metadata": {
        "colab": {
          "base_uri": "https://localhost:8080/"
        },
        "id": "4KI-9Q1Akie_",
        "outputId": "630952c2-ef60-42c7-ac3f-10cb6b8739ef"
      },
      "source": [
        "import malaya"
      ],
      "execution_count": 3,
      "outputs": [
        {
          "output_type": "stream",
          "text": [
            "/usr/local/lib/python3.7/dist-packages/malaya/function/__init__.py:37: UserWarning: Cannot import beam_search_ops from Tensorflow Addons, `deep_model` for stemmer will not available to use, make sure Tensorflow Addons version >= 0.12.0\n",
            "  'Cannot import beam_search_ops from Tensorflow Addons, `deep_model` for stemmer will not available to use, make sure Tensorflow Addons version >= 0.12.0'\n"
          ],
          "name": "stderr"
        }
      ]
    },
    {
      "cell_type": "markdown",
      "metadata": {
        "id": "WHvoRW6DkstL"
      },
      "source": [
        "### List available Transformer models"
      ]
    },
    {
      "cell_type": "code",
      "metadata": {
        "colab": {
          "base_uri": "https://localhost:8080/",
          "height": 250
        },
        "id": "PiS5osSwkoWM",
        "outputId": "77663fb6-b8df-41b8-8db7-2377106d0291"
      },
      "source": [
        "malaya.sentiment.available_transformer()"
      ],
      "execution_count": 4,
      "outputs": [
        {
          "output_type": "stream",
          "text": [
            "INFO:root:tested on 20% test set.\n"
          ],
          "name": "stderr"
        },
        {
          "output_type": "execute_result",
          "data": {
            "text/html": [
              "<div>\n",
              "<style scoped>\n",
              "    .dataframe tbody tr th:only-of-type {\n",
              "        vertical-align: middle;\n",
              "    }\n",
              "\n",
              "    .dataframe tbody tr th {\n",
              "        vertical-align: top;\n",
              "    }\n",
              "\n",
              "    .dataframe thead th {\n",
              "        text-align: right;\n",
              "    }\n",
              "</style>\n",
              "<table border=\"1\" class=\"dataframe\">\n",
              "  <thead>\n",
              "    <tr style=\"text-align: right;\">\n",
              "      <th></th>\n",
              "      <th>Size (MB)</th>\n",
              "      <th>Quantized Size (MB)</th>\n",
              "      <th>macro precision</th>\n",
              "      <th>macro recall</th>\n",
              "      <th>macro f1-score</th>\n",
              "    </tr>\n",
              "  </thead>\n",
              "  <tbody>\n",
              "    <tr>\n",
              "      <th>bert</th>\n",
              "      <td>425.6</td>\n",
              "      <td>111.00</td>\n",
              "      <td>0.99330</td>\n",
              "      <td>0.99330</td>\n",
              "      <td>0.99329</td>\n",
              "    </tr>\n",
              "    <tr>\n",
              "      <th>tiny-bert</th>\n",
              "      <td>57.4</td>\n",
              "      <td>15.40</td>\n",
              "      <td>0.98774</td>\n",
              "      <td>0.98774</td>\n",
              "      <td>0.98774</td>\n",
              "    </tr>\n",
              "    <tr>\n",
              "      <th>albert</th>\n",
              "      <td>48.6</td>\n",
              "      <td>12.80</td>\n",
              "      <td>0.99227</td>\n",
              "      <td>0.99226</td>\n",
              "      <td>0.99226</td>\n",
              "    </tr>\n",
              "    <tr>\n",
              "      <th>tiny-albert</th>\n",
              "      <td>22.4</td>\n",
              "      <td>5.98</td>\n",
              "      <td>0.98554</td>\n",
              "      <td>0.98550</td>\n",
              "      <td>0.98551</td>\n",
              "    </tr>\n",
              "    <tr>\n",
              "      <th>xlnet</th>\n",
              "      <td>446.6</td>\n",
              "      <td>118.00</td>\n",
              "      <td>0.99353</td>\n",
              "      <td>0.99353</td>\n",
              "      <td>0.99353</td>\n",
              "    </tr>\n",
              "    <tr>\n",
              "      <th>alxlnet</th>\n",
              "      <td>46.8</td>\n",
              "      <td>13.30</td>\n",
              "      <td>0.99188</td>\n",
              "      <td>0.99188</td>\n",
              "      <td>0.99188</td>\n",
              "    </tr>\n",
              "  </tbody>\n",
              "</table>\n",
              "</div>"
            ],
            "text/plain": [
              "             Size (MB)  Quantized Size (MB)  ...  macro recall  macro f1-score\n",
              "bert             425.6               111.00  ...       0.99330         0.99329\n",
              "tiny-bert         57.4                15.40  ...       0.98774         0.98774\n",
              "albert            48.6                12.80  ...       0.99226         0.99226\n",
              "tiny-albert       22.4                 5.98  ...       0.98550         0.98551\n",
              "xlnet            446.6               118.00  ...       0.99353         0.99353\n",
              "alxlnet           46.8                13.30  ...       0.99188         0.99188\n",
              "\n",
              "[6 rows x 5 columns]"
            ]
          },
          "metadata": {
            "tags": []
          },
          "execution_count": 4
        }
      ]
    },
    {
      "cell_type": "code",
      "metadata": {
        "colab": {
          "base_uri": "https://localhost:8080/"
        },
        "id": "C8n2PTtIlKI6",
        "outputId": "9357e794-f6c4-4353-c52f-5bd23974d733"
      },
      "source": [
        "!pip install youtokentome"
      ],
      "execution_count": 6,
      "outputs": [
        {
          "output_type": "stream",
          "text": [
            "Collecting youtokentome\n",
            "\u001b[?25l  Downloading https://files.pythonhosted.org/packages/c8/1c/224cdc3d9a32ed706c8fb1f30b491be6ea5da114ff4edc174014cc24fa43/youtokentome-1.0.6-cp37-cp37m-manylinux2010_x86_64.whl (1.7MB)\n",
            "\r\u001b[K     |▏                               | 10kB 17.5MB/s eta 0:00:01\r\u001b[K     |▍                               | 20kB 22.2MB/s eta 0:00:01\r\u001b[K     |▋                               | 30kB 20.8MB/s eta 0:00:01\r\u001b[K     |▊                               | 40kB 17.5MB/s eta 0:00:01\r\u001b[K     |█                               | 51kB 9.3MB/s eta 0:00:01\r\u001b[K     |█▏                              | 61kB 8.8MB/s eta 0:00:01\r\u001b[K     |█▍                              | 71kB 9.9MB/s eta 0:00:01\r\u001b[K     |█▌                              | 81kB 10.3MB/s eta 0:00:01\r\u001b[K     |█▊                              | 92kB 10.7MB/s eta 0:00:01\r\u001b[K     |██                              | 102kB 8.8MB/s eta 0:00:01\r\u001b[K     |██                              | 112kB 8.8MB/s eta 0:00:01\r\u001b[K     |██▎                             | 122kB 8.8MB/s eta 0:00:01\r\u001b[K     |██▌                             | 133kB 8.8MB/s eta 0:00:01\r\u001b[K     |██▊                             | 143kB 8.8MB/s eta 0:00:01\r\u001b[K     |██▉                             | 153kB 8.8MB/s eta 0:00:01\r\u001b[K     |███                             | 163kB 8.8MB/s eta 0:00:01\r\u001b[K     |███▎                            | 174kB 8.8MB/s eta 0:00:01\r\u001b[K     |███▌                            | 184kB 8.8MB/s eta 0:00:01\r\u001b[K     |███▋                            | 194kB 8.8MB/s eta 0:00:01\r\u001b[K     |███▉                            | 204kB 8.8MB/s eta 0:00:01\r\u001b[K     |████                            | 215kB 8.8MB/s eta 0:00:01\r\u001b[K     |████▏                           | 225kB 8.8MB/s eta 0:00:01\r\u001b[K     |████▍                           | 235kB 8.8MB/s eta 0:00:01\r\u001b[K     |████▋                           | 245kB 8.8MB/s eta 0:00:01\r\u001b[K     |████▉                           | 256kB 8.8MB/s eta 0:00:01\r\u001b[K     |█████                           | 266kB 8.8MB/s eta 0:00:01\r\u001b[K     |█████▏                          | 276kB 8.8MB/s eta 0:00:01\r\u001b[K     |█████▍                          | 286kB 8.8MB/s eta 0:00:01\r\u001b[K     |█████▌                          | 296kB 8.8MB/s eta 0:00:01\r\u001b[K     |█████▊                          | 307kB 8.8MB/s eta 0:00:01\r\u001b[K     |██████                          | 317kB 8.8MB/s eta 0:00:01\r\u001b[K     |██████▏                         | 327kB 8.8MB/s eta 0:00:01\r\u001b[K     |██████▎                         | 337kB 8.8MB/s eta 0:00:01\r\u001b[K     |██████▌                         | 348kB 8.8MB/s eta 0:00:01\r\u001b[K     |██████▊                         | 358kB 8.8MB/s eta 0:00:01\r\u001b[K     |███████                         | 368kB 8.8MB/s eta 0:00:01\r\u001b[K     |███████                         | 378kB 8.8MB/s eta 0:00:01\r\u001b[K     |███████▎                        | 389kB 8.8MB/s eta 0:00:01\r\u001b[K     |███████▌                        | 399kB 8.8MB/s eta 0:00:01\r\u001b[K     |███████▋                        | 409kB 8.8MB/s eta 0:00:01\r\u001b[K     |███████▉                        | 419kB 8.8MB/s eta 0:00:01\r\u001b[K     |████████                        | 430kB 8.8MB/s eta 0:00:01\r\u001b[K     |████████▎                       | 440kB 8.8MB/s eta 0:00:01\r\u001b[K     |████████▍                       | 450kB 8.8MB/s eta 0:00:01\r\u001b[K     |████████▋                       | 460kB 8.8MB/s eta 0:00:01\r\u001b[K     |████████▉                       | 471kB 8.8MB/s eta 0:00:01\r\u001b[K     |█████████                       | 481kB 8.8MB/s eta 0:00:01\r\u001b[K     |█████████▏                      | 491kB 8.8MB/s eta 0:00:01\r\u001b[K     |█████████▍                      | 501kB 8.8MB/s eta 0:00:01\r\u001b[K     |█████████▋                      | 512kB 8.8MB/s eta 0:00:01\r\u001b[K     |█████████▊                      | 522kB 8.8MB/s eta 0:00:01\r\u001b[K     |██████████                      | 532kB 8.8MB/s eta 0:00:01\r\u001b[K     |██████████▏                     | 542kB 8.8MB/s eta 0:00:01\r\u001b[K     |██████████▍                     | 552kB 8.8MB/s eta 0:00:01\r\u001b[K     |██████████▌                     | 563kB 8.8MB/s eta 0:00:01\r\u001b[K     |██████████▊                     | 573kB 8.8MB/s eta 0:00:01\r\u001b[K     |███████████                     | 583kB 8.8MB/s eta 0:00:01\r\u001b[K     |███████████                     | 593kB 8.8MB/s eta 0:00:01\r\u001b[K     |███████████▎                    | 604kB 8.8MB/s eta 0:00:01\r\u001b[K     |███████████▌                    | 614kB 8.8MB/s eta 0:00:01\r\u001b[K     |███████████▊                    | 624kB 8.8MB/s eta 0:00:01\r\u001b[K     |███████████▉                    | 634kB 8.8MB/s eta 0:00:01\r\u001b[K     |████████████                    | 645kB 8.8MB/s eta 0:00:01\r\u001b[K     |████████████▎                   | 655kB 8.8MB/s eta 0:00:01\r\u001b[K     |████████████▍                   | 665kB 8.8MB/s eta 0:00:01\r\u001b[K     |████████████▋                   | 675kB 8.8MB/s eta 0:00:01\r\u001b[K     |████████████▉                   | 686kB 8.8MB/s eta 0:00:01\r\u001b[K     |█████████████                   | 696kB 8.8MB/s eta 0:00:01\r\u001b[K     |█████████████▏                  | 706kB 8.8MB/s eta 0:00:01\r\u001b[K     |█████████████▍                  | 716kB 8.8MB/s eta 0:00:01\r\u001b[K     |█████████████▋                  | 727kB 8.8MB/s eta 0:00:01\r\u001b[K     |█████████████▉                  | 737kB 8.8MB/s eta 0:00:01\r\u001b[K     |██████████████                  | 747kB 8.8MB/s eta 0:00:01\r\u001b[K     |██████████████▏                 | 757kB 8.8MB/s eta 0:00:01\r\u001b[K     |██████████████▍                 | 768kB 8.8MB/s eta 0:00:01\r\u001b[K     |██████████████▌                 | 778kB 8.8MB/s eta 0:00:01\r\u001b[K     |██████████████▊                 | 788kB 8.8MB/s eta 0:00:01\r\u001b[K     |███████████████                 | 798kB 8.8MB/s eta 0:00:01\r\u001b[K     |███████████████▏                | 808kB 8.8MB/s eta 0:00:01\r\u001b[K     |███████████████▎                | 819kB 8.8MB/s eta 0:00:01\r\u001b[K     |███████████████▌                | 829kB 8.8MB/s eta 0:00:01\r\u001b[K     |███████████████▊                | 839kB 8.8MB/s eta 0:00:01\r\u001b[K     |███████████████▉                | 849kB 8.8MB/s eta 0:00:01\r\u001b[K     |████████████████                | 860kB 8.8MB/s eta 0:00:01\r\u001b[K     |████████████████▎               | 870kB 8.8MB/s eta 0:00:01\r\u001b[K     |████████████████▌               | 880kB 8.8MB/s eta 0:00:01\r\u001b[K     |████████████████▋               | 890kB 8.8MB/s eta 0:00:01\r\u001b[K     |████████████████▉               | 901kB 8.8MB/s eta 0:00:01\r\u001b[K     |█████████████████               | 911kB 8.8MB/s eta 0:00:01\r\u001b[K     |█████████████████▎              | 921kB 8.8MB/s eta 0:00:01\r\u001b[K     |█████████████████▍              | 931kB 8.8MB/s eta 0:00:01\r\u001b[K     |█████████████████▋              | 942kB 8.8MB/s eta 0:00:01\r\u001b[K     |█████████████████▉              | 952kB 8.8MB/s eta 0:00:01\r\u001b[K     |██████████████████              | 962kB 8.8MB/s eta 0:00:01\r\u001b[K     |██████████████████▏             | 972kB 8.8MB/s eta 0:00:01\r\u001b[K     |██████████████████▍             | 983kB 8.8MB/s eta 0:00:01\r\u001b[K     |██████████████████▋             | 993kB 8.8MB/s eta 0:00:01\r\u001b[K     |██████████████████▊             | 1.0MB 8.8MB/s eta 0:00:01\r\u001b[K     |███████████████████             | 1.0MB 8.8MB/s eta 0:00:01\r\u001b[K     |███████████████████▏            | 1.0MB 8.8MB/s eta 0:00:01\r\u001b[K     |███████████████████▎            | 1.0MB 8.8MB/s eta 0:00:01\r\u001b[K     |███████████████████▌            | 1.0MB 8.8MB/s eta 0:00:01\r\u001b[K     |███████████████████▊            | 1.1MB 8.8MB/s eta 0:00:01\r\u001b[K     |████████████████████            | 1.1MB 8.8MB/s eta 0:00:01\r\u001b[K     |████████████████████            | 1.1MB 8.8MB/s eta 0:00:01\r\u001b[K     |████████████████████▎           | 1.1MB 8.8MB/s eta 0:00:01\r\u001b[K     |████████████████████▌           | 1.1MB 8.8MB/s eta 0:00:01\r\u001b[K     |████████████████████▊           | 1.1MB 8.8MB/s eta 0:00:01\r\u001b[K     |████████████████████▉           | 1.1MB 8.8MB/s eta 0:00:01\r\u001b[K     |█████████████████████           | 1.1MB 8.8MB/s eta 0:00:01\r\u001b[K     |█████████████████████▎          | 1.1MB 8.8MB/s eta 0:00:01\r\u001b[K     |█████████████████████▍          | 1.1MB 8.8MB/s eta 0:00:01\r\u001b[K     |█████████████████████▋          | 1.2MB 8.8MB/s eta 0:00:01\r\u001b[K     |█████████████████████▉          | 1.2MB 8.8MB/s eta 0:00:01\r\u001b[K     |██████████████████████          | 1.2MB 8.8MB/s eta 0:00:01\r\u001b[K     |██████████████████████▏         | 1.2MB 8.8MB/s eta 0:00:01\r\u001b[K     |██████████████████████▍         | 1.2MB 8.8MB/s eta 0:00:01\r\u001b[K     |██████████████████████▋         | 1.2MB 8.8MB/s eta 0:00:01\r\u001b[K     |██████████████████████▊         | 1.2MB 8.8MB/s eta 0:00:01\r\u001b[K     |███████████████████████         | 1.2MB 8.8MB/s eta 0:00:01\r\u001b[K     |███████████████████████▏        | 1.2MB 8.8MB/s eta 0:00:01\r\u001b[K     |███████████████████████▍        | 1.2MB 8.8MB/s eta 0:00:01\r\u001b[K     |███████████████████████▌        | 1.3MB 8.8MB/s eta 0:00:01\r\u001b[K     |███████████████████████▊        | 1.3MB 8.8MB/s eta 0:00:01\r\u001b[K     |████████████████████████        | 1.3MB 8.8MB/s eta 0:00:01\r\u001b[K     |████████████████████████▏       | 1.3MB 8.8MB/s eta 0:00:01\r\u001b[K     |████████████████████████▎       | 1.3MB 8.8MB/s eta 0:00:01\r\u001b[K     |████████████████████████▌       | 1.3MB 8.8MB/s eta 0:00:01\r\u001b[K     |████████████████████████▊       | 1.3MB 8.8MB/s eta 0:00:01\r\u001b[K     |████████████████████████▉       | 1.3MB 8.8MB/s eta 0:00:01\r\u001b[K     |█████████████████████████       | 1.3MB 8.8MB/s eta 0:00:01\r\u001b[K     |█████████████████████████▎      | 1.4MB 8.8MB/s eta 0:00:01\r\u001b[K     |█████████████████████████▌      | 1.4MB 8.8MB/s eta 0:00:01\r\u001b[K     |█████████████████████████▋      | 1.4MB 8.8MB/s eta 0:00:01\r\u001b[K     |█████████████████████████▉      | 1.4MB 8.8MB/s eta 0:00:01\r\u001b[K     |██████████████████████████      | 1.4MB 8.8MB/s eta 0:00:01\r\u001b[K     |██████████████████████████▏     | 1.4MB 8.8MB/s eta 0:00:01\r\u001b[K     |██████████████████████████▍     | 1.4MB 8.8MB/s eta 0:00:01\r\u001b[K     |██████████████████████████▋     | 1.4MB 8.8MB/s eta 0:00:01\r\u001b[K     |██████████████████████████▉     | 1.4MB 8.8MB/s eta 0:00:01\r\u001b[K     |███████████████████████████     | 1.4MB 8.8MB/s eta 0:00:01\r\u001b[K     |███████████████████████████▏    | 1.5MB 8.8MB/s eta 0:00:01\r\u001b[K     |███████████████████████████▍    | 1.5MB 8.8MB/s eta 0:00:01\r\u001b[K     |███████████████████████████▋    | 1.5MB 8.8MB/s eta 0:00:01\r\u001b[K     |███████████████████████████▊    | 1.5MB 8.8MB/s eta 0:00:01\r\u001b[K     |████████████████████████████    | 1.5MB 8.8MB/s eta 0:00:01\r\u001b[K     |████████████████████████████▏   | 1.5MB 8.8MB/s eta 0:00:01\r\u001b[K     |████████████████████████████▎   | 1.5MB 8.8MB/s eta 0:00:01\r\u001b[K     |████████████████████████████▌   | 1.5MB 8.8MB/s eta 0:00:01\r\u001b[K     |████████████████████████████▊   | 1.5MB 8.8MB/s eta 0:00:01\r\u001b[K     |█████████████████████████████   | 1.5MB 8.8MB/s eta 0:00:01\r\u001b[K     |█████████████████████████████   | 1.6MB 8.8MB/s eta 0:00:01\r\u001b[K     |█████████████████████████████▎  | 1.6MB 8.8MB/s eta 0:00:01\r\u001b[K     |█████████████████████████████▌  | 1.6MB 8.8MB/s eta 0:00:01\r\u001b[K     |█████████████████████████████▋  | 1.6MB 8.8MB/s eta 0:00:01\r\u001b[K     |█████████████████████████████▉  | 1.6MB 8.8MB/s eta 0:00:01\r\u001b[K     |██████████████████████████████  | 1.6MB 8.8MB/s eta 0:00:01\r\u001b[K     |██████████████████████████████▎ | 1.6MB 8.8MB/s eta 0:00:01\r\u001b[K     |██████████████████████████████▍ | 1.6MB 8.8MB/s eta 0:00:01\r\u001b[K     |██████████████████████████████▋ | 1.6MB 8.8MB/s eta 0:00:01\r\u001b[K     |██████████████████████████████▉ | 1.6MB 8.8MB/s eta 0:00:01\r\u001b[K     |███████████████████████████████ | 1.7MB 8.8MB/s eta 0:00:01\r\u001b[K     |███████████████████████████████▏| 1.7MB 8.8MB/s eta 0:00:01\r\u001b[K     |███████████████████████████████▍| 1.7MB 8.8MB/s eta 0:00:01\r\u001b[K     |███████████████████████████████▋| 1.7MB 8.8MB/s eta 0:00:01\r\u001b[K     |███████████████████████████████▊| 1.7MB 8.8MB/s eta 0:00:01\r\u001b[K     |████████████████████████████████| 1.7MB 8.8MB/s eta 0:00:01\r\u001b[K     |████████████████████████████████| 1.7MB 8.8MB/s \n",
            "\u001b[?25hRequirement already satisfied: Click>=7.0 in /usr/local/lib/python3.7/dist-packages (from youtokentome) (7.1.2)\n",
            "Installing collected packages: youtokentome\n",
            "Successfully installed youtokentome-1.0.6\n"
          ],
          "name": "stdout"
        }
      ]
    },
    {
      "cell_type": "code",
      "metadata": {
        "colab": {
          "base_uri": "https://localhost:8080/"
        },
        "id": "-u-p7NfTkw7E",
        "outputId": "4623494c-28d1-4c18-b060-b0ae31d76078"
      },
      "source": [
        "model = malaya.sentiment.multinomial()"
      ],
      "execution_count": 7,
      "outputs": [
        {
          "output_type": "stream",
          "text": [
            "/usr/local/lib/python3.7/dist-packages/sklearn/base.py:318: UserWarning: Trying to unpickle estimator ComplementNB from version 0.22.1 when using version 0.22.2.post1. This might lead to breaking code or invalid results. Use at your own risk.\n",
            "  UserWarning)\n",
            "/usr/local/lib/python3.7/dist-packages/sklearn/base.py:318: UserWarning: Trying to unpickle estimator TfidfTransformer from version 0.22.1 when using version 0.22.2.post1. This might lead to breaking code or invalid results. Use at your own risk.\n",
            "  UserWarning)\n",
            "/usr/local/lib/python3.7/dist-packages/sklearn/base.py:318: UserWarning: Trying to unpickle estimator TfidfVectorizer from version 0.22.1 when using version 0.22.2.post1. This might lead to breaking code or invalid results. Use at your own risk.\n",
            "  UserWarning)\n",
            "/usr/local/lib/python3.7/dist-packages/malaya/preprocessing.py:259: FutureWarning: Possible nested set at position 2289\n",
            "  self.tok = re.compile(r'({})'.format('|'.join(pipeline)))\n"
          ],
          "name": "stderr"
        }
      ]
    },
    {
      "cell_type": "code",
      "metadata": {
        "id": "Lq1yWyb7k9fk"
      },
      "source": [
        "s1 = 'cobain jadi orang susah biar tahu gimana rasanya dihina orang berduit' #N\n",
        "s2 = 'gagal beri kuasa menyanyikan penyamun perasuah rompak duit rakyat' #N\n",
        "s3 = 'inisiatif kerajaan mysalam menyediakan perlindungan kesihatan takaful individu b40 pener' #P\n",
        "s4 = 'raya 2020 2021 bermaksud kunjung mengunjungi untuk rapatkan siratulrahim kunjung meng' #P\n",
        "s5 = 'wajah bingung wajah kuat menangis muka' #Nt\n",
        "s6 = 'datuk masimanjun kerajaan negeri mengenai covid 19 berkata keputusan dibuat berdasarkan keputusan' #Nt"
      ],
      "execution_count": 10,
      "outputs": []
    },
    {
      "cell_type": "code",
      "metadata": {
        "colab": {
          "base_uri": "https://localhost:8080/"
        },
        "id": "nA3LsFomm1zz",
        "outputId": "a0bf61e9-568e-4931-b8ff-b8803fcb4124"
      },
      "source": [
        "model.predict(\n",
        "    [s1,\n",
        "     s2,\n",
        "     s3,\n",
        "     s4,\n",
        "     s5,\n",
        "     s6,\n",
        "     ])"
      ],
      "execution_count": 11,
      "outputs": [
        {
          "output_type": "execute_result",
          "data": {
            "text/plain": [
              "['negative', 'negative', 'positive', 'positive', 'negative', 'negative']"
            ]
          },
          "metadata": {
            "tags": []
          },
          "execution_count": 11
        }
      ]
    },
    {
      "cell_type": "code",
      "metadata": {
        "colab": {
          "base_uri": "https://localhost:8080/"
        },
        "id": "wJddWhRTnKnc",
        "outputId": "c345402a-8514-4277-acd7-12f76c146e5d"
      },
      "source": [
        "model.predict_proba(\n",
        "    [s1,\n",
        "     s2,\n",
        "     s3,\n",
        "     s4,\n",
        "     s5,\n",
        "     s6,\n",
        "     ])"
      ],
      "execution_count": 12,
      "outputs": [
        {
          "output_type": "execute_result",
          "data": {
            "text/plain": [
              "[{'negative': 0.8600090237611457,\n",
              "  'neutral': 0.13859106647646569,\n",
              "  'positive': 0.0013999097623885227},\n",
              " {'negative': 0.9892491733627118,\n",
              "  'neutral': 0.010643318370915367,\n",
              "  'positive': 0.0001075082663728505},\n",
              " {'negative': 0.002590858080194129,\n",
              "  'neutral': 0.25649494993921906,\n",
              "  'positive': 0.7409141919805868},\n",
              " {'negative': 0.002225460347003822,\n",
              "  'neutral': 0.22032057435338115,\n",
              "  'positive': 0.7774539652996151},\n",
              " {'negative': 0.896854409197402,\n",
              "  'neutral': 0.102114134894572,\n",
              "  'positive': 0.001031455908025962},\n",
              " {'negative': 0.5101208023201655,\n",
              "  'neutral': 0.48498040570303613,\n",
              "  'positive': 0.00489879197679828}]"
            ]
          },
          "metadata": {
            "tags": []
          },
          "execution_count": 12
        }
      ]
    },
    {
      "cell_type": "code",
      "metadata": {
        "id": "j5V1hpDToqcD"
      },
      "source": [
        ""
      ],
      "execution_count": null,
      "outputs": []
    }
  ]
}