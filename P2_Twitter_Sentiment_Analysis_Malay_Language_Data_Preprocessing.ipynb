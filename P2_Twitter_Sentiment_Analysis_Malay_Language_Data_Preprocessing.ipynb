{
  "nbformat": 4,
  "nbformat_minor": 0,
  "metadata": {
    "colab": {
      "name": "P2_Twitter Sentiment Analysis-Malay Language_Data Preprocessing.ipynb",
      "provenance": [],
      "collapsed_sections": [],
      "toc_visible": true,
      "mount_file_id": "1m6LRnz4prN51vYCNPnw3WMzXOqFEvL13",
      "authorship_tag": "ABX9TyNiJCtkQhE50RcgfZ2qgJld",
      "include_colab_link": true
    },
    "kernelspec": {
      "name": "python3",
      "display_name": "Python 3"
    },
    "language_info": {
      "name": "python"
    },
    "accelerator": "GPU"
  },
  "cells": [
    {
      "cell_type": "markdown",
      "metadata": {
        "id": "view-in-github",
        "colab_type": "text"
      },
      "source": [
        "<a href=\"https://colab.research.google.com/github/hungryphobic/NLP-projects/blob/main/P2_Twitter_Sentiment_Analysis_Malay_Language_Data_Preprocessing.ipynb\" target=\"_parent\"><img src=\"https://colab.research.google.com/assets/colab-badge.svg\" alt=\"Open In Colab\"/></a>"
      ]
    },
    {
      "cell_type": "markdown",
      "metadata": {
        "id": "GAmspCqWxS5d"
      },
      "source": [
        "# 1) Import Module and package\n",
        "---"
      ]
    },
    {
      "cell_type": "code",
      "metadata": {
        "id": "K0Xela0swjsH"
      },
      "source": [
        "import pandas as pd\n",
        "import re\n",
        "import pickle\n",
        "import numpy as np\n",
        "from csv import reader\n",
        "import nltk\n",
        "from nltk.corpus import stopwords"
      ],
      "execution_count": null,
      "outputs": []
    },
    {
      "cell_type": "markdown",
      "metadata": {
        "id": "RUvLsw4BxZk-"
      },
      "source": [
        "# 2) Load Collected Raw Data\n",
        "---\n",
        "\n",
        "> The data topic and information details can be refered on Part 1 -3.1 of this project."
      ]
    },
    {
      "cell_type": "code",
      "metadata": {
        "id": "MF7zIRfAxgmm"
      },
      "source": [
        "dfKG = pd.read_csv('/content/drive/MyDrive/Colab Notebooks/tweets_data/1_KerajaaanGagal_April29.csv')\n",
        "dfMSSP = pd.read_csv('/content/drive/MyDrive/Colab Notebooks/tweets_data/2_MakeSchoolASaferPlace_April29.csv')\n",
        "dfKN = pd.read_csv('/content/drive/MyDrive/Colab Notebooks/tweets_data/3_KRINanggala402_April29.csv')\n",
        "dfSH = pd.read_csv('/content/drive/MyDrive/Colab Notebooks/tweets_data/4_sinarharian_April29.csv')\n",
        "dfCM = pd.read_csv('/content/drive/MyDrive/Colab Notebooks/tweets_data/5_COVIDMalaysia_April29.csv')\n",
        "dfKJK = pd.read_csv('/content/drive/MyDrive/Colab Notebooks/tweets_data/6_KitaJagaKita_April29.csv')\n",
        "dfJG = pd.read_csv('/content/drive/MyDrive/Colab Notebooks/tweets_data/7_JusticeforGanapathy_April29.csv')\n",
        "dfUPSR = pd.read_csv('/content/drive/MyDrive/Colab Notebooks/tweets_data/8_UPSR_April29.csv')\n",
        "dfARN = pd.read_csv('/content/drive/MyDrive/Colab Notebooks/tweets_data/9_AstroRadioNews_April29.csv')"
      ],
      "execution_count": null,
      "outputs": []
    },
    {
      "cell_type": "markdown",
      "metadata": {
        "id": "qK4rZf7XyVsv"
      },
      "source": [
        "### Test sentence string\n",
        "> * This few sample test is use just to test our model before proceed with raw dataset, to detect failure in line of code and etc...\n",
        "* The sample test text was selected from extracted raw dataset. the sample est should include all the main concern for our preprocessing purpose. It should contains noisy text (Uppercase, mispell word, @mention tag, #hashtag, emoji/emoticon, stopwords, Non-Malay word and etc...)"
      ]
    },
    {
      "cell_type": "code",
      "metadata": {
        "id": "UnOe6kJgykdm"
      },
      "source": [
        "TS1 = '@Marina_Ibrahims Kebabian PN makin terserlah dan muhyiddin kimak \\n#KerajaanGagal' #contain ,#tag, @mention, Uppercase extra character\n",
        "TS2 = '@kuasasiswa you made my day!👏😂\\nso .lma dh X rasa @ujbu57ubj_78BJ gmbira mcm ni 👍 \\n#Keraja...' #contain misspell word, emoticon/emoji, English word\n",
        "TS3 = \"@Izzud1n Omg 😭🤚🏼 1234 like, if we doesn't even get good results for upsr. not that we couldn't do well in sekolah menengah. aigoo https://t.co/K4GiA9l1Iw\" #contain link, emoticon/emoji, English word, "
      ],
      "execution_count": null,
      "outputs": []
    },
    {
      "cell_type": "markdown",
      "metadata": {
        "id": "mREMYhqdzLMa"
      },
      "source": [
        "# 3) Data PreProcessing\n",
        "---"
      ]
    },
    {
      "cell_type": "markdown",
      "metadata": {
        "id": "aEE-0lc507bj"
      },
      "source": [
        "## 3.1) Overall idea\n",
        "\n",
        "> For this project purpose I will be covered 2 procesing tools which is using re- Regular Expression (standard python module for handling both pattern and string) *and combination of other techniques*.This module provides regular expression matching operations similar to those found in Perl. more info check - https://docs.python.org/3/library/re.html.\n",
        "\n",
        "> Next is just PreProcesisng using **Malaya** nltk .which is a toolkit that known for processing Malay Language. **Malaya** is a Natural-Language-Toolkit library for bahasa Malaysia, powered by Deep Learning Tensorflow. More info check - https://malaya.readthedocs.io/en/latest/index.html#"
      ]
    },
    {
      "cell_type": "markdown",
      "metadata": {
        "id": "UynhMqnF1XsZ"
      },
      "source": [
        "## 3.2) PreProcessing 1- reMixin"
      ]
    },
    {
      "cell_type": "markdown",
      "metadata": {
        "id": "sC9tHN592JiE"
      },
      "source": [
        "###The Strategy/Methodology\n",
        "---\n",
        "> reMixin preprocesing is my propose preprocessing step which the overall step is combination of RE module and other other technique; as follows:\n",
        "* Lowercasing the character --using python string manipulation\n",
        "* Removing :\n",
        "  * #Hashtag;i.e) #KerajaanGagal\n",
        "  * @Mention or/@user; i.e) @mohd25\n",
        "  * link; i.e) https://t.co/iCT2wJuiNLy6uiwENsx3\n",
        "* 2 option for emoji and emoticon either:\n",
        "  * 1) Remove \n",
        "  * 2) Translate them into text (Preferable to maintain the information)\n",
        "* Identify English word and Translate them to Malay word -- using Malaya transformer translation\n",
        "* Spelling Correction using Malaya probability spelling correction tools\n",
        "* Removing stopwards and removing shortform word ( because most of them is stopwords and does not really affect the for clasification) i.e; yg == yang; utk == untuk; Except following shortform:\n",
        "  * 'x', 'tk'  == 'tak' or tidak' whcih means 'no'\n",
        "  * 'takda' or 'xda' == ' tak ada' or 'tidak ada' means ' do not have'.\n",
        "* Removing the NonAlphanumeric and special character -re\n",
        "  \n"
      ]
    },
    {
      "cell_type": "markdown",
      "metadata": {
        "id": "XuvpD3EwkvVd"
      },
      "source": [
        "### ***MusSpellingCorrection***\n",
        "> user defined function. my own method of handling shortform word case in noisy malay social media text"
      ]
    },
    {
      "cell_type": "code",
      "metadata": {
        "id": "n43Yupf8k2Yx"
      },
      "source": [
        "import sys\n",
        "sys.path.append('/content/drive/MyDrive/Colab Notebooks/')\n",
        "from MusSpellingCorrection import pembetulEjaan"
      ],
      "execution_count": null,
      "outputs": []
    },
    {
      "cell_type": "markdown",
      "metadata": {
        "id": "tm64QYgeynmh"
      },
      "source": [
        "### ***Translate English to Malay(Bahasa Melayu)*\n",
        "> I just using pretrained transformer model from Malaya nltk "
      ]
    },
    {
      "cell_type": "code",
      "metadata": {
        "colab": {
          "base_uri": "https://localhost:8080/"
        },
        "id": "gdmJSNw9y5dR",
        "outputId": "f7e201f4-2078-4407-ac4d-22f1f06918cc"
      },
      "source": [
        "%%time\n",
        "!pip install malaya-gpu\n",
        "import malaya"
      ],
      "execution_count": null,
      "outputs": [
        {
          "output_type": "stream",
          "text": [],
          "name": "stdout"
        },
        {
          "output_type": "stream",
          "text": [
            "/usr/local/lib/python3.7/dist-packages/malaya/function/__init__.py:37: UserWarning: Cannot import beam_search_ops from Tensorflow Addons, `deep_model` for stemmer will not available to use, make sure Tensorflow Addons version >= 0.12.0\n",
            "  'Cannot import beam_search_ops from Tensorflow Addons, `deep_model` for stemmer will not available to use, make sure Tensorflow Addons version >= 0.12.0'\n"
          ],
          "name": "stderr"
        },
        {
          "output_type": "stream",
          "text": [
            "CPU times: user 3.56 s, sys: 388 ms, total: 3.95 s\n",
            "Wall time: 1min 15s\n"
          ],
          "name": "stdout"
        }
      ]
    },
    {
      "cell_type": "markdown",
      "metadata": {
        "id": "L-zdwM_tylWh"
      },
      "source": [
        "___"
      ]
    },
    {
      "cell_type": "code",
      "metadata": {
        "colab": {
          "base_uri": "https://localhost:8080/",
          "height": 220
        },
        "id": "ZI6Rakm3zhV_",
        "outputId": "787861cc-382f-4b10-b3f6-59b42e95f35c"
      },
      "source": [
        "malaya.translation.en_ms.available_transformer()"
      ],
      "execution_count": null,
      "outputs": [
        {
          "output_type": "stream",
          "text": [
            "INFO:root:tested on 77k EN-MS sentences.\n"
          ],
          "name": "stderr"
        },
        {
          "output_type": "execute_result",
          "data": {
            "text/html": [
              "<div>\n",
              "<style scoped>\n",
              "    .dataframe tbody tr th:only-of-type {\n",
              "        vertical-align: middle;\n",
              "    }\n",
              "\n",
              "    .dataframe tbody tr th {\n",
              "        vertical-align: top;\n",
              "    }\n",
              "\n",
              "    .dataframe thead th {\n",
              "        text-align: right;\n",
              "    }\n",
              "</style>\n",
              "<table border=\"1\" class=\"dataframe\">\n",
              "  <thead>\n",
              "    <tr style=\"text-align: right;\">\n",
              "      <th></th>\n",
              "      <th>Size (MB)</th>\n",
              "      <th>Quantized Size (MB)</th>\n",
              "      <th>BLEU</th>\n",
              "      <th>Suggested length</th>\n",
              "    </tr>\n",
              "  </thead>\n",
              "  <tbody>\n",
              "    <tr>\n",
              "      <th>small</th>\n",
              "      <td>42.7</td>\n",
              "      <td>13.4</td>\n",
              "      <td>0.512</td>\n",
              "      <td>256.0</td>\n",
              "    </tr>\n",
              "    <tr>\n",
              "      <th>base</th>\n",
              "      <td>234.0</td>\n",
              "      <td>82.7</td>\n",
              "      <td>0.696</td>\n",
              "      <td>256.0</td>\n",
              "    </tr>\n",
              "    <tr>\n",
              "      <th>large</th>\n",
              "      <td>817.0</td>\n",
              "      <td>244.0</td>\n",
              "      <td>0.699</td>\n",
              "      <td>256.0</td>\n",
              "    </tr>\n",
              "    <tr>\n",
              "      <th>bigbird</th>\n",
              "      <td>246.0</td>\n",
              "      <td>63.7</td>\n",
              "      <td>0.551</td>\n",
              "      <td>1024.0</td>\n",
              "    </tr>\n",
              "    <tr>\n",
              "      <th>small-bigbird</th>\n",
              "      <td>50.4</td>\n",
              "      <td>13.1</td>\n",
              "      <td>0.522</td>\n",
              "      <td>1024.0</td>\n",
              "    </tr>\n",
              "  </tbody>\n",
              "</table>\n",
              "</div>"
            ],
            "text/plain": [
              "               Size (MB)  Quantized Size (MB)   BLEU  Suggested length\n",
              "small               42.7                 13.4  0.512             256.0\n",
              "base               234.0                 82.7  0.696             256.0\n",
              "large              817.0                244.0  0.699             256.0\n",
              "bigbird            246.0                 63.7  0.551            1024.0\n",
              "small-bigbird       50.4                 13.1  0.522            1024.0"
            ]
          },
          "metadata": {
            "tags": []
          },
          "execution_count": 6
        }
      ]
    },
    {
      "cell_type": "markdown",
      "metadata": {
        "id": "xVoHhK_I5qmo"
      },
      "source": [
        "#### *stripNonAlphaNumeric(string)*"
      ]
    },
    {
      "cell_type": "code",
      "metadata": {
        "colab": {
          "base_uri": "https://localhost:8080/"
        },
        "id": "rj8iH2n9zr8d",
        "outputId": "defd4b35-4175-4a67-b889-c27052f155fc"
      },
      "source": [
        "transformer = malaya.translation.en_ms.transformer()\n",
        "transformer_small = malaya.translation.en_ms.transformer(model = 'small')\n",
        "transformer_large = malaya.translation.en_ms.transformer(model = 'large')"
      ],
      "execution_count": null,
      "outputs": [
        {
          "output_type": "stream",
          "text": [
            "downloading frozen model to /root/Malaya/translation-en-ms/base/model.pb\n"
          ],
          "name": "stdout"
        },
        {
          "output_type": "stream",
          "text": [
            "223MB [00:06, 32.6MB/s]                         \n"
          ],
          "name": "stderr"
        },
        {
          "output_type": "stream",
          "text": [
            "downloading frozen vocab to /root/Malaya/translation-en-ms/base/en-ms.subwords\n"
          ],
          "name": "stdout"
        },
        {
          "output_type": "stream",
          "text": [
            "1.00MB [00:00, 17.4MB/s]                   \n"
          ],
          "name": "stderr"
        },
        {
          "output_type": "stream",
          "text": [
            "downloading frozen model to /root/Malaya/translation-en-ms/small/model.pb\n"
          ],
          "name": "stdout"
        },
        {
          "output_type": "stream",
          "text": [
            " 91%|█████████ | 37.0/40.7 [00:02<00:00, 20.0MB/s]/usr/local/lib/python3.7/dist-packages/tqdm/std.py:484: TqdmWarning: clamping frac to range [0, 1]\n",
            "  charset=Bar.ASCII if ascii is True else ascii or Bar.UTF)\n",
            "101%|██████████| 41.0/40.7 [00:02<00:00, 19.6MB/s]\n"
          ],
          "name": "stderr"
        },
        {
          "output_type": "stream",
          "text": [
            "downloading frozen vocab to /root/Malaya/translation-en-ms/small/en-ms.subwords\n"
          ],
          "name": "stdout"
        },
        {
          "output_type": "stream",
          "text": [
            "1.00MB [00:00, 13.2MB/s]                   \n"
          ],
          "name": "stderr"
        },
        {
          "output_type": "stream",
          "text": [
            "downloading frozen model to /root/Malaya/translation-en-ms/large/model.pb\n"
          ],
          "name": "stdout"
        },
        {
          "output_type": "stream",
          "text": [
            "100%|██████████| 778/778 [00:32<00:00, 23.8MB/s]\n",
            "  0%|          | 0.00/0.22 [00:00<?, ?MB/s]"
          ],
          "name": "stderr"
        },
        {
          "output_type": "stream",
          "text": [
            "downloading frozen vocab to /root/Malaya/translation-en-ms/large/en-ms.subwords\n"
          ],
          "name": "stdout"
        },
        {
          "output_type": "stream",
          "text": [
            "\r1.00MB [00:00, 14.7MB/s]                   \n"
          ],
          "name": "stderr"
        }
      ]
    },
    {
      "cell_type": "code",
      "metadata": {
        "id": "VPX9qHtZzFMI"
      },
      "source": [
        "def stripNonAlphaNum(text):\n",
        "  text = re.compile(r'\\W+', re.UNICODE).split(text)   \n",
        "  return ' '.join(text)"
      ],
      "execution_count": null,
      "outputs": []
    },
    {
      "cell_type": "markdown",
      "metadata": {
        "id": "DGy6AOV9FQUd"
      },
      "source": [
        "#### *StripHashTag(String)*"
      ]
    },
    {
      "cell_type": "code",
      "metadata": {
        "id": "6Ep6M2AR_dme"
      },
      "source": [
        "def stripHashTag(text):\n",
        "  text = re.compile(r'#\\S+', re.UNICODE).split(text)   \n",
        "  return ' '.join(text)"
      ],
      "execution_count": null,
      "outputs": []
    },
    {
      "cell_type": "markdown",
      "metadata": {
        "id": "4bq4DpdXFQxX"
      },
      "source": [
        "#### *StripMention(String)*"
      ]
    },
    {
      "cell_type": "code",
      "metadata": {
        "id": "LYZf9upzAGoB"
      },
      "source": [
        "def stripMention(text):\n",
        "  text = re.compile(r'@\\S+', re.UNICODE).split(text)   \n",
        "  return ' '.join(text)"
      ],
      "execution_count": null,
      "outputs": []
    },
    {
      "cell_type": "markdown",
      "metadata": {
        "id": "DIEUtBmfFRY0"
      },
      "source": [
        "#### *StripHyperLink(String)*"
      ]
    },
    {
      "cell_type": "code",
      "metadata": {
        "id": "09VJrlIXBWlL"
      },
      "source": [
        "def stripHyperLink(text):\n",
        "  text = re.compile(r'https?:\\/\\/\\S+', re.UNICODE).split(text)   \n",
        "  return ' '.join(text)"
      ],
      "execution_count": null,
      "outputs": []
    },
    {
      "cell_type": "markdown",
      "metadata": {
        "id": "YFXo8F_sh8WP"
      },
      "source": [
        "#### *stripUnderscore(String)*"
      ]
    },
    {
      "cell_type": "code",
      "metadata": {
        "id": "Ied0MGOp-k3G"
      },
      "source": [
        "def stripUnderscore(text):\n",
        "  text = re.sub(r'_', ' ', text)\n",
        "  return text"
      ],
      "execution_count": null,
      "outputs": []
    },
    {
      "cell_type": "markdown",
      "metadata": {
        "id": "sTcaeUfi6Mvr"
      },
      "source": [
        "#### *remove_emoji(string)*"
      ]
    },
    {
      "cell_type": "code",
      "metadata": {
        "id": "8lIBEOFG6hp8"
      },
      "source": [
        "def removeEmoji(string):\n",
        "    emoji_pattern = re.compile(\"[\"\n",
        "                           u\"\\U0001F600-\\U0001F64F\" # emoticons\n",
        "                           u\"\\U0001F300-\\U0001F5FF\" # symbols & pictographs\n",
        "                           u\"\\U0001F680-\\U0001F6FF\" # transport & map symbols\n",
        "                           u\"\\U0001F1E0-\\U0001F1FF\" # flags (iOS)\n",
        "                           u\"\\U00002702-\\U000027B0\"\n",
        "                           u\"\\U000024C2-\\U0001F251\"\n",
        "                           \"]+\", flags=re.UNICODE)\n",
        "    return emoji_pattern.sub(r'', string)"
      ],
      "execution_count": null,
      "outputs": []
    },
    {
      "cell_type": "markdown",
      "metadata": {
        "id": "BNXrgMrt7CQS"
      },
      "source": [
        "#### *emojiToText(string)*"
      ]
    },
    {
      "cell_type": "code",
      "metadata": {
        "id": "FABS-9yI7Bxo"
      },
      "source": [
        "#Convert/translate emoji to text\n",
        "with open('/content/drive/MyDrive/Colab Notebooks/Emoji_Dict.p', 'rb') as fp:\n",
        "    Emoji_Dict = pickle.load(fp)\n",
        "    Emoji_Dict = {v: k for k, v in Emoji_Dict.items()}\n",
        "\n",
        "def emojiToText(text):\n",
        "    for emoj in Emoji_Dict:\n",
        "      text = re.sub(r'('+emoj+')',Emoji_Dict[emoj], text)          \n",
        "    return text"
      ],
      "execution_count": null,
      "outputs": []
    },
    {
      "cell_type": "code",
      "metadata": {
        "id": "aTGmBAuEZni0",
        "colab": {
          "base_uri": "https://localhost:8080/"
        },
        "outputId": "4d9174a4-10af-48b8-e76a-d40acd23bed3"
      },
      "source": [
        "Emoji_Dict"
      ],
      "execution_count": null,
      "outputs": [
        {
          "output_type": "execute_result",
          "data": {
            "text/plain": [ ]
          },
          "metadata": {
            "tags": []
          },
          "execution_count": 15
        }
      ]
    },
    {
      "cell_type": "markdown",
      "metadata": {
        "id": "MZssxSEVAt-W"
      },
      "source": [
        "#### *removeStopWord(string)*"
      ]
    },
    {
      "cell_type": "code",
      "metadata": {
        "id": "nMb4bnsUnKtt"
      },
      "source": [
        "stopWord = open('/content/drive/MyDrive/Colab Notebooks/MalayStopWord.csv', 'r').read().split()\n",
        "def removeStopWord(text):\n",
        "  text = text.split()\n",
        "  text = [word for word in text if word not in stopWord]\n",
        "  return ' '.join(text)\n"
      ],
      "execution_count": null,
      "outputs": []
    },
    {
      "cell_type": "markdown",
      "metadata": {
        "id": "UyV_QJkHlaFx"
      },
      "source": [
        "#### *pembetulEjaan(string)*\n",
        "refer MusSpellingCorrection.py file"
      ]
    },
    {
      "cell_type": "markdown",
      "metadata": {
        "id": "odfCJ1H_58Xz"
      },
      "source": [
        "#### ***reMixin(string)***"
      ]
    },
    {
      "cell_type": "code",
      "metadata": {
        "id": "8MUU7IQ25Wby"
      },
      "source": [
        "def reMixin(text):\n",
        "  text = text.lower()\n",
        "  text = emojiToText(text) \n",
        "  text = stripHashTag(text)\n",
        "  text = stripMention(text)\n",
        "  text = stripHyperLink(text)\n",
        "  text = stripNonAlphaNum(str(text))\n",
        "  text = stripUnderscore(text)\n",
        "  text = transformer.beam_decoder([text])\n",
        "  text = stripNonAlphaNum(str(text))\n",
        "  text = pembetulEjaan(text)  \n",
        "  text = removeStopWord(text)\n",
        "  return text"
      ],
      "execution_count": null,
      "outputs": []
    },
    {
      "cell_type": "code",
      "metadata": {
        "colab": {
          "base_uri": "https://localhost:8080/"
        },
        "id": "IDhcN4p-79_U",
        "outputId": "9c2be70b-3280-490e-c7ab-8b205312058e"
      },
      "source": [
        "%%time\n",
        "print(TS2)\n",
        "print(reMixin(TS2))"
      ],
      "execution_count": null,
      "outputs": [
        {
          "output_type": "stream",
          "text": [
            "@kuasasiswa you made my day!👏😂\n",
            "so .lma dh X rasa @ujbu57ubj_78BJ gmbira mcm ni 👍 \n",
            "#Keraja...\n",
            "membuat hari bertepuk tangan air mata kegembiraan jadi tak rasa gembira thumbs up\n",
            "CPU times: user 21.1 s, sys: 9.1 s, total: 30.2 s\n",
            "Wall time: 23.3 s\n"
          ],
          "name": "stdout"
        }
      ]
    },
    {
      "cell_type": "markdown",
      "metadata": {
        "id": "DPJ8N8TPHyEr"
      },
      "source": [
        "### **PreProcesing using reMixin and export the clan data**"
      ]
    },
    {
      "cell_type": "code",
      "metadata": {
        "colab": {
          "base_uri": "https://localhost:8080/"
        },
        "id": "5KsBu8wWIEAj",
        "outputId": "fc8728b9-ac0f-4c2e-f4b0-355fc6fec795"
      },
      "source": [
        "%%time\n",
        "dfKG['CD-RE'] = dfKG['Raw'].astype(str).apply(reMixin)"
      ],
      "execution_count": null,
      "outputs": [
        {
          "output_type": "stream",
          "text": [
            "CPU times: user 13min 10s, sys: 2min 26s, total: 15min 36s\n",
            "Wall time: 9min 33s\n"
          ],
          "name": "stdout"
        }
      ]
    },
    {
      "cell_type": "code",
      "metadata": {
        "colab": {
          "base_uri": "https://localhost:8080/"
        },
        "id": "x1qIeioOIEDQ",
        "outputId": "cfdca776-0c9a-4b5c-a1cc-19e52df7c560"
      },
      "source": [
        "%%time\n",
        "dfKG.to_csv ('/content/drive/MyDrive/Colab Notebooks/tweets_data/clean dataset/1.csv', index = False, header=True)"
      ],
      "execution_count": null,
      "outputs": [
        {
          "output_type": "stream",
          "text": [
            "CPU times: user 3.02 ms, sys: 811 µs, total: 3.83 ms\n",
            "Wall time: 10.1 ms\n"
          ],
          "name": "stdout"
        }
      ]
    },
    {
      "cell_type": "code",
      "metadata": {
        "colab": {
          "base_uri": "https://localhost:8080/"
        },
        "id": "MwXpMK7bIEGZ",
        "outputId": "9623e5f5-9b23-46c1-8238-405cf0c3290f"
      },
      "source": [
        "%%time\n",
        "dfMSSP['CD-RE'] = dfMSSP['Raw'].astype(str).apply(reMixin)"
      ],
      "execution_count": null,
      "outputs": [
        {
          "output_type": "stream",
          "text": [
            "CPU times: user 16min 41s, sys: 3min 1s, total: 19min 43s\n",
            "Wall time: 12min 1s\n"
          ],
          "name": "stdout"
        }
      ]
    },
    {
      "cell_type": "code",
      "metadata": {
        "colab": {
          "base_uri": "https://localhost:8080/"
        },
        "id": "3f1xe9DJIEIt",
        "outputId": "4ff237fa-a254-472f-da5c-1fc8f06b74bd"
      },
      "source": [
        "%%time\n",
        "dfMSSP.to_csv ('/content/drive/MyDrive/Colab Notebooks/tweets_data/clean dataset/2.csv', index = False, header=True)"
      ],
      "execution_count": null,
      "outputs": [
        {
          "output_type": "stream",
          "text": [
            "CPU times: user 2.52 ms, sys: 1.1 ms, total: 3.62 ms\n",
            "Wall time: 7.87 ms\n"
          ],
          "name": "stdout"
        }
      ]
    },
    {
      "cell_type": "code",
      "metadata": {
        "colab": {
          "base_uri": "https://localhost:8080/"
        },
        "id": "B71nw2HwIELq",
        "outputId": "c9ab8ed3-2b6f-4ac0-8c2c-5b43c1100a19"
      },
      "source": [
        "%%time\n",
        "dfKN['CD-RE'] = dfKN['Raw'].astype(str).apply(reMixin)"
      ],
      "execution_count": null,
      "outputs": [
        {
          "output_type": "stream",
          "text": [
            "CPU times: user 17min 45s, sys: 3min 22s, total: 21min 7s\n",
            "Wall time: 12min 57s\n"
          ],
          "name": "stdout"
        }
      ]
    },
    {
      "cell_type": "code",
      "metadata": {
        "colab": {
          "base_uri": "https://localhost:8080/"
        },
        "id": "7iyUXKhNIGHP",
        "outputId": "7affb25c-836d-44de-f0bc-f5d648aa62c2"
      },
      "source": [
        "%%time\n",
        "dfKN.to_csv ('/content/drive/MyDrive/Colab Notebooks/tweets_data/clean dataset/3.csv', index = False, header=True)"
      ],
      "execution_count": null,
      "outputs": [
        {
          "output_type": "stream",
          "text": [
            "CPU times: user 1.55 ms, sys: 1.92 ms, total: 3.47 ms\n",
            "Wall time: 12.3 ms\n"
          ],
          "name": "stdout"
        }
      ]
    },
    {
      "cell_type": "code",
      "metadata": {
        "id": "rlg_IueLFyRA",
        "colab": {
          "base_uri": "https://localhost:8080/"
        },
        "outputId": "66af0dd9-dfb1-4883-8b50-6f6100570c55"
      },
      "source": [
        "%%time\n",
        "dfSH['CD-RE'] = dfSH['Raw'].astype(str).apply(reMixin)"
      ],
      "execution_count": null,
      "outputs": [
        {
          "output_type": "stream",
          "text": [
            "CPU times: user 18min 17s, sys: 3min 45s, total: 22min 2s\n",
            "Wall time: 13min 35s\n"
          ],
          "name": "stdout"
        }
      ]
    },
    {
      "cell_type": "code",
      "metadata": {
        "colab": {
          "base_uri": "https://localhost:8080/"
        },
        "id": "D7sxYMqfW90x",
        "outputId": "431c4aff-fd43-46cf-be18-89f228a50fab"
      },
      "source": [
        "%%time\n",
        "dfSH.to_csv ('/content/drive/MyDrive/Colab Notebooks/tweets_data/clean dataset/4.csv', index = False, header=True)"
      ],
      "execution_count": null,
      "outputs": [
        {
          "output_type": "stream",
          "text": [
            "CPU times: user 3.13 ms, sys: 0 ns, total: 3.13 ms\n",
            "Wall time: 8.49 ms\n"
          ],
          "name": "stdout"
        }
      ]
    },
    {
      "cell_type": "code",
      "metadata": {
        "colab": {
          "base_uri": "https://localhost:8080/"
        },
        "id": "63IuwyR-IZvZ",
        "outputId": "f186ac99-dc2a-4030-eada-c4d395114b73"
      },
      "source": [
        "%%time\n",
        "dfCM['CD-RE'] = dfCM['Raw'].astype(str).apply(reMixin)"
      ],
      "execution_count": null,
      "outputs": [
        {
          "output_type": "stream",
          "text": [
            "CPU times: user 2min 1s, sys: 28.8 s, total: 2min 30s\n",
            "Wall time: 1min 34s\n"
          ],
          "name": "stdout"
        }
      ]
    },
    {
      "cell_type": "code",
      "metadata": {
        "colab": {
          "base_uri": "https://localhost:8080/"
        },
        "id": "ObV3KtrnIZyG",
        "outputId": "cb8ce49d-20e1-4ad2-b0c2-7df65e83d046"
      },
      "source": [
        "%%time\n",
        "dfCM.to_csv ('/content/drive/MyDrive/Colab Notebooks/tweets_data/clean dataset/5.csv', index = False, header=True)"
      ],
      "execution_count": null,
      "outputs": [
        {
          "output_type": "stream",
          "text": [
            "CPU times: user 2.63 ms, sys: 98 µs, total: 2.73 ms\n",
            "Wall time: 10.1 ms\n"
          ],
          "name": "stdout"
        }
      ]
    },
    {
      "cell_type": "code",
      "metadata": {
        "colab": {
          "base_uri": "https://localhost:8080/"
        },
        "id": "GE2xSlVtIZ1x",
        "outputId": "226cf6d6-00d4-43d0-d705-8f92684859e2"
      },
      "source": [
        "%%time\n",
        "dfKJK['CD-RE'] = dfKJK['Raw'].astype(str).apply(reMixin)"
      ],
      "execution_count": null,
      "outputs": [
        {
          "output_type": "stream",
          "text": [
            "CPU times: user 15min 6s, sys: 2min 53s, total: 17min 59s\n",
            "Wall time: 11min 2s\n"
          ],
          "name": "stdout"
        }
      ]
    },
    {
      "cell_type": "code",
      "metadata": {
        "colab": {
          "base_uri": "https://localhost:8080/"
        },
        "id": "xO9rJDkmIZ3Z",
        "outputId": "56994162-f8d4-46a3-d063-f9f25b3f3a6c"
      },
      "source": [
        "%%time\n",
        "dfKJK.to_csv ('/content/drive/MyDrive/Colab Notebooks/tweets_data/clean dataset/6.csv', index = False, header=True)"
      ],
      "execution_count": null,
      "outputs": [
        {
          "output_type": "stream",
          "text": [
            "CPU times: user 3.5 ms, sys: 858 µs, total: 4.36 ms\n",
            "Wall time: 7.49 ms\n"
          ],
          "name": "stdout"
        }
      ]
    },
    {
      "cell_type": "code",
      "metadata": {
        "colab": {
          "base_uri": "https://localhost:8080/"
        },
        "id": "zOVEOYkJIZ6Q",
        "outputId": "4faa2547-c94a-44c3-bb01-e57541169912"
      },
      "source": [
        "%%time\n",
        "dfJG['CD-RE'] = dfJG['Raw'].astype(str).apply(reMixin)"
      ],
      "execution_count": null,
      "outputs": [
        {
          "output_type": "stream",
          "text": [
            "CPU times: user 11min 6s, sys: 2min 2s, total: 13min 9s\n",
            "Wall time: 8min 3s\n"
          ],
          "name": "stdout"
        }
      ]
    },
    {
      "cell_type": "code",
      "metadata": {
        "colab": {
          "base_uri": "https://localhost:8080/"
        },
        "id": "gJpv8aboIksQ",
        "outputId": "768ab033-1fe0-466a-da30-7e141f764d52"
      },
      "source": [
        "%%time\n",
        "dfJG.to_csv ('/content/drive/MyDrive/Colab Notebooks/tweets_data/clean dataset/7.csv', index = False, header=True)"
      ],
      "execution_count": null,
      "outputs": [
        {
          "output_type": "stream",
          "text": [
            "CPU times: user 3.04 ms, sys: 668 µs, total: 3.71 ms\n",
            "Wall time: 9.13 ms\n"
          ],
          "name": "stdout"
        }
      ]
    },
    {
      "cell_type": "code",
      "metadata": {
        "colab": {
          "base_uri": "https://localhost:8080/"
        },
        "id": "BJFtxxt9rMAg",
        "outputId": "05abf8b1-32d5-492f-9beb-e9ac185cdb3c"
      },
      "source": [
        "%%time\n",
        "dfUPSR['CD-RE'] = dfUPSR['Raw'].astype(str).apply(reMixin)"
      ],
      "execution_count": null,
      "outputs": [
        {
          "output_type": "stream",
          "text": [
            "CPU times: user 21min 3s, sys: 4min 6s, total: 25min 10s\n",
            "Wall time: 15min 25s\n"
          ],
          "name": "stdout"
        }
      ]
    },
    {
      "cell_type": "code",
      "metadata": {
        "id": "YN66X5mSXDLt",
        "colab": {
          "base_uri": "https://localhost:8080/"
        },
        "outputId": "cfa82e94-8d11-434c-eba4-d804f56b0b2f"
      },
      "source": [
        "%%time\n",
        "dfUPSR.to_csv ('/content/drive/MyDrive/Colab Notebooks/tweets_data/clean dataset/8.csv', index = False, header=True)"
      ],
      "execution_count": null,
      "outputs": [
        {
          "output_type": "stream",
          "text": [
            "CPU times: user 2.55 ms, sys: 880 µs, total: 3.43 ms\n",
            "Wall time: 10.2 ms\n"
          ],
          "name": "stdout"
        }
      ]
    },
    {
      "cell_type": "code",
      "metadata": {
        "colab": {
          "base_uri": "https://localhost:8080/"
        },
        "id": "o39uIoy-ItQ0",
        "outputId": "89e2beaf-4aba-4186-ca16-fc10699ecf66"
      },
      "source": [
        "%%time\n",
        "dfARN['CD-RE'] = dfARN['Raw'].astype(str).apply(reMixin)"
      ],
      "execution_count": null,
      "outputs": [
        {
          "output_type": "stream",
          "text": [
            "CPU times: user 17min 16s, sys: 3min 22s, total: 20min 38s\n",
            "Wall time: 12min 41s\n"
          ],
          "name": "stdout"
        }
      ]
    },
    {
      "cell_type": "code",
      "metadata": {
        "colab": {
          "base_uri": "https://localhost:8080/"
        },
        "id": "J1CVvxciIti8",
        "outputId": "461f8837-381b-4676-ca35-f9737f9789cb"
      },
      "source": [
        "%%time\n",
        "dfARN.to_csv ('/content/drive/MyDrive/Colab Notebooks/tweets_data/clean dataset/9.csv', index = False, header=True)"
      ],
      "execution_count": null,
      "outputs": [
        {
          "output_type": "stream",
          "text": [
            "CPU times: user 3.16 ms, sys: 610 µs, total: 3.77 ms\n",
            "Wall time: 8.66 ms\n"
          ],
          "name": "stdout"
        }
      ]
    }
  ]
}
