{
  "nbformat": 4,
  "nbformat_minor": 0,
  "metadata": {
    "colab": {
      "name": "P2_Twitter Sentiment Analysis-Malay Language_Data Preprocessing.ipynb",
      "provenance": [],
      "collapsed_sections": [],
      "toc_visible": true,
      "mount_file_id": "1m6LRnz4prN51vYCNPnw3WMzXOqFEvL13",
      "authorship_tag": "ABX9TyNiJCtkQhE50RcgfZ2qgJld",
      "include_colab_link": true
    },
    "kernelspec": {
      "name": "python3",
      "display_name": "Python 3"
    },
    "language_info": {
      "name": "python"
    },
    "accelerator": "GPU"
  },
  "cells": [
    {
      "cell_type": "markdown",
      "metadata": {
        "id": "view-in-github",
        "colab_type": "text"
      },
      "source": [
        "<a href=\"https://colab.research.google.com/github/hungryphobic/NLP-projects/blob/main/P2_Twitter_Sentiment_Analysis_Malay_Language_Data_Preprocessing.ipynb\" target=\"_parent\"><img src=\"https://colab.research.google.com/assets/colab-badge.svg\" alt=\"Open In Colab\"/></a>"
      ]
    },
    {
      "cell_type": "markdown",
      "metadata": {
        "id": "GAmspCqWxS5d"
      },
      "source": [
        "# 1) Import Module and package\n",
        "---"
      ]
    },
    {
      "cell_type": "code",
      "metadata": {
        "id": "K0Xela0swjsH"
      },
      "source": [
        "import pandas as pd\n",
        "import re\n",
        "import pickle\n",
        "import numpy as np\n",
        "from csv import reader\n",
        "import nltk\n",
        "from nltk.corpus import stopwords"
      ],
      "execution_count": null,
      "outputs": []
    },
    {
      "cell_type": "markdown",
      "metadata": {
        "id": "RUvLsw4BxZk-"
      },
      "source": [
        "# 2) Load Collected Raw Data\n",
        "---\n",
        "\n",
        "> The data topic and information details can be refered on Part 1 -3.1 of this project."
      ]
    },
    {
      "cell_type": "code",
      "metadata": {
        "id": "MF7zIRfAxgmm"
      },
      "source": [
        "dfKG = pd.read_csv('/content/drive/MyDrive/Colab Notebooks/tweets_data/1_KerajaaanGagal_April29.csv')\n",
        "dfMSSP = pd.read_csv('/content/drive/MyDrive/Colab Notebooks/tweets_data/2_MakeSchoolASaferPlace_April29.csv')\n",
        "dfKN = pd.read_csv('/content/drive/MyDrive/Colab Notebooks/tweets_data/3_KRINanggala402_April29.csv')\n",
        "dfSH = pd.read_csv('/content/drive/MyDrive/Colab Notebooks/tweets_data/4_sinarharian_April29.csv')\n",
        "dfCM = pd.read_csv('/content/drive/MyDrive/Colab Notebooks/tweets_data/5_COVIDMalaysia_April29.csv')\n",
        "dfKJK = pd.read_csv('/content/drive/MyDrive/Colab Notebooks/tweets_data/6_KitaJagaKita_April29.csv')\n",
        "dfJG = pd.read_csv('/content/drive/MyDrive/Colab Notebooks/tweets_data/7_JusticeforGanapathy_April29.csv')\n",
        "dfUPSR = pd.read_csv('/content/drive/MyDrive/Colab Notebooks/tweets_data/8_UPSR_April29.csv')\n",
        "dfARN = pd.read_csv('/content/drive/MyDrive/Colab Notebooks/tweets_data/9_AstroRadioNews_April29.csv')"
      ],
      "execution_count": null,
      "outputs": []
    },
    {
      "cell_type": "markdown",
      "metadata": {
        "id": "qK4rZf7XyVsv"
      },
      "source": [
        "### Test sentence string\n",
        "> * This few sample test is use just to test our model before proceed with raw dataset, to detect failure in line of code and etc...\n",
        "* The sample test text was selected from extracted raw dataset. the sample est should include all the main concern for our preprocessing purpose. It should contains noisy text (Uppercase, mispell word, @mention tag, #hashtag, emoji/emoticon, stopwords, Non-Malay word and etc...)"
      ]
    },
    {
      "cell_type": "code",
      "metadata": {
        "id": "UnOe6kJgykdm"
      },
      "source": [
        "TS1 = '@Marina_Ibrahims Kebabian PN makin terserlah dan muhyiddin kimak \\n#KerajaanGagal' #contain ,#tag, @mention, Uppercase extra character\n",
        "TS2 = '@kuasasiswa you made my day!👏😂\\nso .lma dh X rasa @ujbu57ubj_78BJ gmbira mcm ni 👍 \\n#Keraja...' #contain misspell word, emoticon/emoji, English word\n",
        "TS3 = \"@Izzud1n Omg 😭🤚🏼 1234 like, if we doesn't even get good results for upsr. not that we couldn't do well in sekolah menengah. aigoo https://t.co/K4GiA9l1Iw\" #contain link, emoticon/emoji, English word, "
      ],
      "execution_count": null,
      "outputs": []
    },
    {
      "cell_type": "markdown",
      "metadata": {
        "id": "mREMYhqdzLMa"
      },
      "source": [
        "# 3) Data PreProcessing\n",
        "---"
      ]
    },
    {
      "cell_type": "markdown",
      "metadata": {
        "id": "aEE-0lc507bj"
      },
      "source": [
        "## 3.1) Overall idea\n",
        "\n",
        "> For this project purpose I will be covered 2 procesing tools which is using re- Regular Expression (standard python module for handling both pattern and string) *and combination of other techniques*.This module provides regular expression matching operations similar to those found in Perl. more info check - https://docs.python.org/3/library/re.html.\n",
        "\n",
        "> Next is just PreProcesisng using **Malaya** nltk .which is a toolkit that known for processing Malay Language. **Malaya** is a Natural-Language-Toolkit library for bahasa Malaysia, powered by Deep Learning Tensorflow. More info check - https://malaya.readthedocs.io/en/latest/index.html#"
      ]
    },
    {
      "cell_type": "markdown",
      "metadata": {
        "id": "UynhMqnF1XsZ"
      },
      "source": [
        "## 3.2) PreProcessing 1- reMixin"
      ]
    },
    {
      "cell_type": "markdown",
      "metadata": {
        "id": "sC9tHN592JiE"
      },
      "source": [
        "###The Strategy/Methodology\n",
        "---\n",
        "> reMixin preprocesing is my propose preprocessing step which the overall step is combination of RE module and other other technique; as follows:\n",
        "* Lowercasing the character --using python string manipulation\n",
        "* Removing :\n",
        "  * #Hashtag;i.e) #KerajaanGagal\n",
        "  * @Mention or/@user; i.e) @mohd25\n",
        "  * link; i.e) https://t.co/iCT2wJuiNLy6uiwENsx3\n",
        "* 2 option for emoji and emoticon either:\n",
        "  * 1) Remove \n",
        "  * 2) Translate them into text (Preferable to maintain the information)\n",
        "* Identify English word and Translate them to Malay word -- using Malaya transformer translation\n",
        "* Spelling Correction using Malaya probability spelling correction tools\n",
        "* Removing stopwards and removing shortform word ( because most of them is stopwords and does not really affect the for clasification) i.e; yg == yang; utk == untuk; Except following shortform:\n",
        "  * 'x', 'tk'  == 'tak' or tidak' whcih means 'no'\n",
        "  * 'takda' or 'xda' == ' tak ada' or 'tidak ada' means ' do not have'.\n",
        "* Removing the NonAlphanumeric and special character -re\n",
        "  \n"
      ]
    },
    {
      "cell_type": "markdown",
      "metadata": {
        "id": "XuvpD3EwkvVd"
      },
      "source": [
        "### ***MusSpellingCorrection***\n",
        "> user defined function. my own method of handling shortform word case in noisy malay social media text"
      ]
    },
    {
      "cell_type": "code",
      "metadata": {
        "id": "n43Yupf8k2Yx"
      },
      "source": [
        "import sys\n",
        "sys.path.append('/content/drive/MyDrive/Colab Notebooks/')\n",
        "from MusSpellingCorrection import pembetulEjaan"
      ],
      "execution_count": null,
      "outputs": []
    },
    {
      "cell_type": "markdown",
      "metadata": {
        "id": "tm64QYgeynmh"
      },
      "source": [
        "### ***Translate English to Malay(Bahasa Melayu)*\n",
        "> I just using pretrained transformer model from Malaya nltk "
      ]
    },
    {
      "cell_type": "code",
      "metadata": {
        "colab": {
          "base_uri": "https://localhost:8080/"
        },
        "id": "gdmJSNw9y5dR",
        "outputId": "f7e201f4-2078-4407-ac4d-22f1f06918cc"
      },
      "source": [
        "%%time\n",
        "!pip install malaya-gpu\n",
        "import malaya"
      ],
      "execution_count": null,
      "outputs": [
        {
          "output_type": "stream",
          "text": [
            "Collecting malaya-gpu\n",
            "\u001b[?25l  Downloading https://files.pythonhosted.org/packages/67/3b/d9acdd8d2a9f2d1264a6b60c286ce406c86416c29ef72da93da6d169f1a4/malaya_gpu-4.3-py3-none-any.whl (2.2MB)\n",
            "\u001b[K     |████████████████████████████████| 2.2MB 8.3MB/s \n",
            "\u001b[?25hRequirement already satisfied: numpy in /usr/local/lib/python3.7/dist-packages (from malaya-gpu) (1.19.5)\n",
            "Requirement already satisfied: scikit-learn in /usr/local/lib/python3.7/dist-packages (from malaya-gpu) (0.22.2.post1)\n",
            "Requirement already satisfied: networkx in /usr/local/lib/python3.7/dist-packages (from malaya-gpu) (2.5.1)\n",
            "Collecting dateparser\n",
            "\u001b[?25l  Downloading https://files.pythonhosted.org/packages/78/c4/b5ddc3eeac974d85055d88c1e6b62cc492fc1a93dbe3b66a45a756a7b807/dateparser-1.0.0-py2.py3-none-any.whl (279kB)\n",
            "\u001b[K     |████████████████████████████████| 286kB 52.8MB/s \n",
            "\u001b[?25hCollecting sentencepiece\n",
            "\u001b[?25l  Downloading https://files.pythonhosted.org/packages/f5/99/e0808cb947ba10f575839c43e8fafc9cc44e4a7a2c8f79c60db48220a577/sentencepiece-0.1.95-cp37-cp37m-manylinux2014_x86_64.whl (1.2MB)\n",
            "\u001b[K     |████████████████████████████████| 1.2MB 44.2MB/s \n",
            "\u001b[?25hCollecting ftfy\n",
            "\u001b[?25l  Downloading https://files.pythonhosted.org/packages/af/da/d215a091986e5f01b80f5145cff6f22e2dc57c6b048aab2e882a07018473/ftfy-6.0.3.tar.gz (64kB)\n",
            "\u001b[K     |████████████████████████████████| 71kB 11.6MB/s \n",
            "\u001b[?25hCollecting herpetologist\n",
            "  Downloading https://files.pythonhosted.org/packages/83/58/8ad7d0ccd94e6810c08baf040f622e44807afafc5fdc20c58f4a0a774e01/herpetologist-0.0.9-py3-none-any.whl\n",
            "Requirement already satisfied: requests in /usr/local/lib/python3.7/dist-packages (from malaya-gpu) (2.23.0)\n",
            "Collecting tensorflow-gpu>=1.15\n",
            "\u001b[?25l  Downloading https://files.pythonhosted.org/packages/1d/a2/5ccf0a418eb22e0a2ae9edc1e7f5456d0a4b8b49524572897564b4030a9b/tensorflow_gpu-2.5.0-cp37-cp37m-manylinux2010_x86_64.whl (454.3MB)\n",
            "\u001b[K     |████████████████████████████████| 454.3MB 38kB/s \n",
            "\u001b[?25hCollecting unidecode\n",
            "\u001b[?25l  Downloading https://files.pythonhosted.org/packages/9e/25/723487ca2a52ebcee88a34d7d1f5a4b80b793f179ee0f62d5371938dfa01/Unidecode-1.2.0-py2.py3-none-any.whl (241kB)\n",
            "\u001b[K     |████████████████████████████████| 245kB 54.9MB/s \n",
            "\u001b[?25hRequirement already satisfied: tqdm in /usr/local/lib/python3.7/dist-packages (from malaya-gpu) (4.41.1)\n",
            "Requirement already satisfied: scipy in /usr/local/lib/python3.7/dist-packages (from malaya-gpu) (1.4.1)\n",
            "Requirement already satisfied: joblib>=0.11 in /usr/local/lib/python3.7/dist-packages (from scikit-learn->malaya-gpu) (1.0.1)\n",
            "Requirement already satisfied: decorator<5,>=4.3 in /usr/local/lib/python3.7/dist-packages (from networkx->malaya-gpu) (4.4.2)\n",
            "Requirement already satisfied: regex!=2019.02.19 in /usr/local/lib/python3.7/dist-packages (from dateparser->malaya-gpu) (2019.12.20)\n",
            "Requirement already satisfied: pytz in /usr/local/lib/python3.7/dist-packages (from dateparser->malaya-gpu) (2018.9)\n",
            "Requirement already satisfied: tzlocal in /usr/local/lib/python3.7/dist-packages (from dateparser->malaya-gpu) (1.5.1)\n",
            "Requirement already satisfied: python-dateutil in /usr/local/lib/python3.7/dist-packages (from dateparser->malaya-gpu) (2.8.1)\n",
            "Requirement already satisfied: wcwidth in /usr/local/lib/python3.7/dist-packages (from ftfy->malaya-gpu) (0.2.5)\n",
            "Collecting memoization\n",
            "  Downloading https://files.pythonhosted.org/packages/16/87/37229296c2a9506867d5f5440b9aac015d97af54c951cdfc129bb4bb8d75/memoization-0.3.2-py3-none-any.whl\n",
            "Requirement already satisfied: idna<3,>=2.5 in /usr/local/lib/python3.7/dist-packages (from requests->malaya-gpu) (2.10)\n",
            "Requirement already satisfied: urllib3!=1.25.0,!=1.25.1,<1.26,>=1.21.1 in /usr/local/lib/python3.7/dist-packages (from requests->malaya-gpu) (1.24.3)\n",
            "Requirement already satisfied: chardet<4,>=3.0.2 in /usr/local/lib/python3.7/dist-packages (from requests->malaya-gpu) (3.0.4)\n",
            "Requirement already satisfied: certifi>=2017.4.17 in /usr/local/lib/python3.7/dist-packages (from requests->malaya-gpu) (2020.12.5)\n",
            "Requirement already satisfied: grpcio~=1.34.0 in /usr/local/lib/python3.7/dist-packages (from tensorflow-gpu>=1.15->malaya-gpu) (1.34.1)\n",
            "Requirement already satisfied: google-pasta~=0.2 in /usr/local/lib/python3.7/dist-packages (from tensorflow-gpu>=1.15->malaya-gpu) (0.2.0)\n",
            "Requirement already satisfied: tensorboard~=2.5 in /usr/local/lib/python3.7/dist-packages (from tensorflow-gpu>=1.15->malaya-gpu) (2.5.0)\n",
            "Requirement already satisfied: absl-py~=0.10 in /usr/local/lib/python3.7/dist-packages (from tensorflow-gpu>=1.15->malaya-gpu) (0.12.0)\n",
            "Requirement already satisfied: h5py~=3.1.0 in /usr/local/lib/python3.7/dist-packages (from tensorflow-gpu>=1.15->malaya-gpu) (3.1.0)\n",
            "Requirement already satisfied: opt-einsum~=3.3.0 in /usr/local/lib/python3.7/dist-packages (from tensorflow-gpu>=1.15->malaya-gpu) (3.3.0)\n",
            "Requirement already satisfied: astunparse~=1.6.3 in /usr/local/lib/python3.7/dist-packages (from tensorflow-gpu>=1.15->malaya-gpu) (1.6.3)\n",
            "Requirement already satisfied: protobuf>=3.9.2 in /usr/local/lib/python3.7/dist-packages (from tensorflow-gpu>=1.15->malaya-gpu) (3.12.4)\n",
            "Requirement already satisfied: gast==0.4.0 in /usr/local/lib/python3.7/dist-packages (from tensorflow-gpu>=1.15->malaya-gpu) (0.4.0)\n",
            "Requirement already satisfied: wrapt~=1.12.1 in /usr/local/lib/python3.7/dist-packages (from tensorflow-gpu>=1.15->malaya-gpu) (1.12.1)\n",
            "Requirement already satisfied: six~=1.15.0 in /usr/local/lib/python3.7/dist-packages (from tensorflow-gpu>=1.15->malaya-gpu) (1.15.0)\n",
            "Requirement already satisfied: keras-nightly~=2.5.0.dev in /usr/local/lib/python3.7/dist-packages (from tensorflow-gpu>=1.15->malaya-gpu) (2.5.0.dev2021032900)\n",
            "Requirement already satisfied: wheel~=0.35 in /usr/local/lib/python3.7/dist-packages (from tensorflow-gpu>=1.15->malaya-gpu) (0.36.2)\n",
            "Requirement already satisfied: flatbuffers~=1.12.0 in /usr/local/lib/python3.7/dist-packages (from tensorflow-gpu>=1.15->malaya-gpu) (1.12)\n",
            "Requirement already satisfied: tensorflow-estimator<2.6.0,>=2.5.0rc0 in /usr/local/lib/python3.7/dist-packages (from tensorflow-gpu>=1.15->malaya-gpu) (2.5.0)\n",
            "Requirement already satisfied: typing-extensions~=3.7.4 in /usr/local/lib/python3.7/dist-packages (from tensorflow-gpu>=1.15->malaya-gpu) (3.7.4.3)\n",
            "Requirement already satisfied: keras-preprocessing~=1.1.2 in /usr/local/lib/python3.7/dist-packages (from tensorflow-gpu>=1.15->malaya-gpu) (1.1.2)\n",
            "Requirement already satisfied: termcolor~=1.1.0 in /usr/local/lib/python3.7/dist-packages (from tensorflow-gpu>=1.15->malaya-gpu) (1.1.0)\n",
            "Requirement already satisfied: tensorboard-plugin-wit>=1.6.0 in /usr/local/lib/python3.7/dist-packages (from tensorboard~=2.5->tensorflow-gpu>=1.15->malaya-gpu) (1.8.0)\n",
            "Requirement already satisfied: setuptools>=41.0.0 in /usr/local/lib/python3.7/dist-packages (from tensorboard~=2.5->tensorflow-gpu>=1.15->malaya-gpu) (57.0.0)\n",
            "Requirement already satisfied: google-auth-oauthlib<0.5,>=0.4.1 in /usr/local/lib/python3.7/dist-packages (from tensorboard~=2.5->tensorflow-gpu>=1.15->malaya-gpu) (0.4.4)\n",
            "Requirement already satisfied: tensorboard-data-server<0.7.0,>=0.6.0 in /usr/local/lib/python3.7/dist-packages (from tensorboard~=2.5->tensorflow-gpu>=1.15->malaya-gpu) (0.6.1)\n",
            "Requirement already satisfied: werkzeug>=0.11.15 in /usr/local/lib/python3.7/dist-packages (from tensorboard~=2.5->tensorflow-gpu>=1.15->malaya-gpu) (1.0.1)\n",
            "Requirement already satisfied: google-auth<2,>=1.6.3 in /usr/local/lib/python3.7/dist-packages (from tensorboard~=2.5->tensorflow-gpu>=1.15->malaya-gpu) (1.30.0)\n",
            "Requirement already satisfied: markdown>=2.6.8 in /usr/local/lib/python3.7/dist-packages (from tensorboard~=2.5->tensorflow-gpu>=1.15->malaya-gpu) (3.3.4)\n",
            "Requirement already satisfied: cached-property; python_version < \"3.8\" in /usr/local/lib/python3.7/dist-packages (from h5py~=3.1.0->tensorflow-gpu>=1.15->malaya-gpu) (1.5.2)\n",
            "Requirement already satisfied: requests-oauthlib>=0.7.0 in /usr/local/lib/python3.7/dist-packages (from google-auth-oauthlib<0.5,>=0.4.1->tensorboard~=2.5->tensorflow-gpu>=1.15->malaya-gpu) (1.3.0)\n",
            "Requirement already satisfied: rsa<5,>=3.1.4; python_version >= \"3.6\" in /usr/local/lib/python3.7/dist-packages (from google-auth<2,>=1.6.3->tensorboard~=2.5->tensorflow-gpu>=1.15->malaya-gpu) (4.7.2)\n",
            "Requirement already satisfied: cachetools<5.0,>=2.0.0 in /usr/local/lib/python3.7/dist-packages (from google-auth<2,>=1.6.3->tensorboard~=2.5->tensorflow-gpu>=1.15->malaya-gpu) (4.2.2)\n",
            "Requirement already satisfied: pyasn1-modules>=0.2.1 in /usr/local/lib/python3.7/dist-packages (from google-auth<2,>=1.6.3->tensorboard~=2.5->tensorflow-gpu>=1.15->malaya-gpu) (0.2.8)\n",
            "Requirement already satisfied: importlib-metadata; python_version < \"3.8\" in /usr/local/lib/python3.7/dist-packages (from markdown>=2.6.8->tensorboard~=2.5->tensorflow-gpu>=1.15->malaya-gpu) (4.0.1)\n",
            "Requirement already satisfied: oauthlib>=3.0.0 in /usr/local/lib/python3.7/dist-packages (from requests-oauthlib>=0.7.0->google-auth-oauthlib<0.5,>=0.4.1->tensorboard~=2.5->tensorflow-gpu>=1.15->malaya-gpu) (3.1.0)\n",
            "Requirement already satisfied: pyasn1>=0.1.3 in /usr/local/lib/python3.7/dist-packages (from rsa<5,>=3.1.4; python_version >= \"3.6\"->google-auth<2,>=1.6.3->tensorboard~=2.5->tensorflow-gpu>=1.15->malaya-gpu) (0.4.8)\n",
            "Requirement already satisfied: zipp>=0.5 in /usr/local/lib/python3.7/dist-packages (from importlib-metadata; python_version < \"3.8\"->markdown>=2.6.8->tensorboard~=2.5->tensorflow-gpu>=1.15->malaya-gpu) (3.4.1)\n",
            "Building wheels for collected packages: ftfy\n",
            "  Building wheel for ftfy (setup.py) ... \u001b[?25l\u001b[?25hdone\n",
            "  Created wheel for ftfy: filename=ftfy-6.0.3-cp37-none-any.whl size=41935 sha256=e06463c9847bd9ac252e0910b254e1612e994d26973f3d3b6586f21d5d353826\n",
            "  Stored in directory: /root/.cache/pip/wheels/99/2c/e6/109c8a28fef7a443f67ba58df21fe1d0067ac3322e75e6b0b7\n",
            "Successfully built ftfy\n",
            "Installing collected packages: dateparser, sentencepiece, ftfy, memoization, herpetologist, tensorflow-gpu, unidecode, malaya-gpu\n",
            "Successfully installed dateparser-1.0.0 ftfy-6.0.3 herpetologist-0.0.9 malaya-gpu-4.3 memoization-0.3.2 sentencepiece-0.1.95 tensorflow-gpu-2.5.0 unidecode-1.2.0\n"
          ],
          "name": "stdout"
        },
        {
          "output_type": "stream",
          "text": [
            "/usr/local/lib/python3.7/dist-packages/malaya/function/__init__.py:37: UserWarning: Cannot import beam_search_ops from Tensorflow Addons, `deep_model` for stemmer will not available to use, make sure Tensorflow Addons version >= 0.12.0\n",
            "  'Cannot import beam_search_ops from Tensorflow Addons, `deep_model` for stemmer will not available to use, make sure Tensorflow Addons version >= 0.12.0'\n"
          ],
          "name": "stderr"
        },
        {
          "output_type": "stream",
          "text": [
            "CPU times: user 3.56 s, sys: 388 ms, total: 3.95 s\n",
            "Wall time: 1min 15s\n"
          ],
          "name": "stdout"
        }
      ]
    },
    {
      "cell_type": "markdown",
      "metadata": {
        "id": "L-zdwM_tylWh"
      },
      "source": [
        "___"
      ]
    },
    {
      "cell_type": "code",
      "metadata": {
        "colab": {
          "base_uri": "https://localhost:8080/",
          "height": 220
        },
        "id": "ZI6Rakm3zhV_",
        "outputId": "787861cc-382f-4b10-b3f6-59b42e95f35c"
      },
      "source": [
        "malaya.translation.en_ms.available_transformer()"
      ],
      "execution_count": null,
      "outputs": [
        {
          "output_type": "stream",
          "text": [
            "INFO:root:tested on 77k EN-MS sentences.\n"
          ],
          "name": "stderr"
        },
        {
          "output_type": "execute_result",
          "data": {
            "text/html": [
              "<div>\n",
              "<style scoped>\n",
              "    .dataframe tbody tr th:only-of-type {\n",
              "        vertical-align: middle;\n",
              "    }\n",
              "\n",
              "    .dataframe tbody tr th {\n",
              "        vertical-align: top;\n",
              "    }\n",
              "\n",
              "    .dataframe thead th {\n",
              "        text-align: right;\n",
              "    }\n",
              "</style>\n",
              "<table border=\"1\" class=\"dataframe\">\n",
              "  <thead>\n",
              "    <tr style=\"text-align: right;\">\n",
              "      <th></th>\n",
              "      <th>Size (MB)</th>\n",
              "      <th>Quantized Size (MB)</th>\n",
              "      <th>BLEU</th>\n",
              "      <th>Suggested length</th>\n",
              "    </tr>\n",
              "  </thead>\n",
              "  <tbody>\n",
              "    <tr>\n",
              "      <th>small</th>\n",
              "      <td>42.7</td>\n",
              "      <td>13.4</td>\n",
              "      <td>0.512</td>\n",
              "      <td>256.0</td>\n",
              "    </tr>\n",
              "    <tr>\n",
              "      <th>base</th>\n",
              "      <td>234.0</td>\n",
              "      <td>82.7</td>\n",
              "      <td>0.696</td>\n",
              "      <td>256.0</td>\n",
              "    </tr>\n",
              "    <tr>\n",
              "      <th>large</th>\n",
              "      <td>817.0</td>\n",
              "      <td>244.0</td>\n",
              "      <td>0.699</td>\n",
              "      <td>256.0</td>\n",
              "    </tr>\n",
              "    <tr>\n",
              "      <th>bigbird</th>\n",
              "      <td>246.0</td>\n",
              "      <td>63.7</td>\n",
              "      <td>0.551</td>\n",
              "      <td>1024.0</td>\n",
              "    </tr>\n",
              "    <tr>\n",
              "      <th>small-bigbird</th>\n",
              "      <td>50.4</td>\n",
              "      <td>13.1</td>\n",
              "      <td>0.522</td>\n",
              "      <td>1024.0</td>\n",
              "    </tr>\n",
              "  </tbody>\n",
              "</table>\n",
              "</div>"
            ],
            "text/plain": [
              "               Size (MB)  Quantized Size (MB)   BLEU  Suggested length\n",
              "small               42.7                 13.4  0.512             256.0\n",
              "base               234.0                 82.7  0.696             256.0\n",
              "large              817.0                244.0  0.699             256.0\n",
              "bigbird            246.0                 63.7  0.551            1024.0\n",
              "small-bigbird       50.4                 13.1  0.522            1024.0"
            ]
          },
          "metadata": {
            "tags": []
          },
          "execution_count": 6
        }
      ]
    },
    {
      "cell_type": "markdown",
      "metadata": {
        "id": "xVoHhK_I5qmo"
      },
      "source": [
        "#### *stripNonAlphaNumeric(string)*"
      ]
    },
    {
      "cell_type": "code",
      "metadata": {
        "colab": {
          "base_uri": "https://localhost:8080/"
        },
        "id": "rj8iH2n9zr8d",
        "outputId": "defd4b35-4175-4a67-b889-c27052f155fc"
      },
      "source": [
        "transformer = malaya.translation.en_ms.transformer()\n",
        "transformer_small = malaya.translation.en_ms.transformer(model = 'small')\n",
        "transformer_large = malaya.translation.en_ms.transformer(model = 'large')"
      ],
      "execution_count": null,
      "outputs": [
        {
          "output_type": "stream",
          "text": [
            "downloading frozen model to /root/Malaya/translation-en-ms/base/model.pb\n"
          ],
          "name": "stdout"
        },
        {
          "output_type": "stream",
          "text": [
            "223MB [00:06, 32.6MB/s]                         \n"
          ],
          "name": "stderr"
        },
        {
          "output_type": "stream",
          "text": [
            "downloading frozen vocab to /root/Malaya/translation-en-ms/base/en-ms.subwords\n"
          ],
          "name": "stdout"
        },
        {
          "output_type": "stream",
          "text": [
            "1.00MB [00:00, 17.4MB/s]                   \n"
          ],
          "name": "stderr"
        },
        {
          "output_type": "stream",
          "text": [
            "downloading frozen model to /root/Malaya/translation-en-ms/small/model.pb\n"
          ],
          "name": "stdout"
        },
        {
          "output_type": "stream",
          "text": [
            " 91%|█████████ | 37.0/40.7 [00:02<00:00, 20.0MB/s]/usr/local/lib/python3.7/dist-packages/tqdm/std.py:484: TqdmWarning: clamping frac to range [0, 1]\n",
            "  charset=Bar.ASCII if ascii is True else ascii or Bar.UTF)\n",
            "101%|██████████| 41.0/40.7 [00:02<00:00, 19.6MB/s]\n"
          ],
          "name": "stderr"
        },
        {
          "output_type": "stream",
          "text": [
            "downloading frozen vocab to /root/Malaya/translation-en-ms/small/en-ms.subwords\n"
          ],
          "name": "stdout"
        },
        {
          "output_type": "stream",
          "text": [
            "1.00MB [00:00, 13.2MB/s]                   \n"
          ],
          "name": "stderr"
        },
        {
          "output_type": "stream",
          "text": [
            "downloading frozen model to /root/Malaya/translation-en-ms/large/model.pb\n"
          ],
          "name": "stdout"
        },
        {
          "output_type": "stream",
          "text": [
            "100%|██████████| 778/778 [00:32<00:00, 23.8MB/s]\n",
            "  0%|          | 0.00/0.22 [00:00<?, ?MB/s]"
          ],
          "name": "stderr"
        },
        {
          "output_type": "stream",
          "text": [
            "downloading frozen vocab to /root/Malaya/translation-en-ms/large/en-ms.subwords\n"
          ],
          "name": "stdout"
        },
        {
          "output_type": "stream",
          "text": [
            "\r1.00MB [00:00, 14.7MB/s]                   \n"
          ],
          "name": "stderr"
        }
      ]
    },
    {
      "cell_type": "code",
      "metadata": {
        "id": "VPX9qHtZzFMI"
      },
      "source": [
        "def stripNonAlphaNum(text):\n",
        "  text = re.compile(r'\\W+', re.UNICODE).split(text)   \n",
        "  return ' '.join(text)"
      ],
      "execution_count": null,
      "outputs": []
    },
    {
      "cell_type": "markdown",
      "metadata": {
        "id": "DGy6AOV9FQUd"
      },
      "source": [
        "#### *StripHashTag(String)*"
      ]
    },
    {
      "cell_type": "code",
      "metadata": {
        "id": "6Ep6M2AR_dme"
      },
      "source": [
        "def stripHashTag(text):\n",
        "  text = re.compile(r'#\\S+', re.UNICODE).split(text)   \n",
        "  return ' '.join(text)"
      ],
      "execution_count": null,
      "outputs": []
    },
    {
      "cell_type": "markdown",
      "metadata": {
        "id": "4bq4DpdXFQxX"
      },
      "source": [
        "#### *StripMention(String)*"
      ]
    },
    {
      "cell_type": "code",
      "metadata": {
        "id": "LYZf9upzAGoB"
      },
      "source": [
        "def stripMention(text):\n",
        "  text = re.compile(r'@\\S+', re.UNICODE).split(text)   \n",
        "  return ' '.join(text)"
      ],
      "execution_count": null,
      "outputs": []
    },
    {
      "cell_type": "markdown",
      "metadata": {
        "id": "DIEUtBmfFRY0"
      },
      "source": [
        "#### *StripHyperLink(String)*"
      ]
    },
    {
      "cell_type": "code",
      "metadata": {
        "id": "09VJrlIXBWlL"
      },
      "source": [
        "def stripHyperLink(text):\n",
        "  text = re.compile(r'https?:\\/\\/\\S+', re.UNICODE).split(text)   \n",
        "  return ' '.join(text)"
      ],
      "execution_count": null,
      "outputs": []
    },
    {
      "cell_type": "markdown",
      "metadata": {
        "id": "YFXo8F_sh8WP"
      },
      "source": [
        "#### *stripUnderscore(String)*"
      ]
    },
    {
      "cell_type": "code",
      "metadata": {
        "id": "Ied0MGOp-k3G"
      },
      "source": [
        "def stripUnderscore(text):\n",
        "  text = re.sub(r'_', ' ', text)\n",
        "  return text"
      ],
      "execution_count": null,
      "outputs": []
    },
    {
      "cell_type": "markdown",
      "metadata": {
        "id": "sTcaeUfi6Mvr"
      },
      "source": [
        "#### *remove_emoji(string)*"
      ]
    },
    {
      "cell_type": "code",
      "metadata": {
        "id": "8lIBEOFG6hp8"
      },
      "source": [
        "def removeEmoji(string):\n",
        "    emoji_pattern = re.compile(\"[\"\n",
        "                           u\"\\U0001F600-\\U0001F64F\" # emoticons\n",
        "                           u\"\\U0001F300-\\U0001F5FF\" # symbols & pictographs\n",
        "                           u\"\\U0001F680-\\U0001F6FF\" # transport & map symbols\n",
        "                           u\"\\U0001F1E0-\\U0001F1FF\" # flags (iOS)\n",
        "                           u\"\\U00002702-\\U000027B0\"\n",
        "                           u\"\\U000024C2-\\U0001F251\"\n",
        "                           \"]+\", flags=re.UNICODE)\n",
        "    return emoji_pattern.sub(r'', string)"
      ],
      "execution_count": null,
      "outputs": []
    },
    {
      "cell_type": "markdown",
      "metadata": {
        "id": "BNXrgMrt7CQS"
      },
      "source": [
        "#### *emojiToText(string)*"
      ]
    },
    {
      "cell_type": "code",
      "metadata": {
        "id": "FABS-9yI7Bxo"
      },
      "source": [
        "#Convert/translate emoji to text\n",
        "with open('/content/drive/MyDrive/Colab Notebooks/Emoji_Dict.p', 'rb') as fp:\n",
        "    Emoji_Dict = pickle.load(fp)\n",
        "    Emoji_Dict = {v: k for k, v in Emoji_Dict.items()}\n",
        "\n",
        "def emojiToText(text):\n",
        "    for emoj in Emoji_Dict:\n",
        "      text = re.sub(r'('+emoj+')',Emoji_Dict[emoj], text)          \n",
        "    return text"
      ],
      "execution_count": null,
      "outputs": []
    },
    {
      "cell_type": "code",
      "metadata": {
        "id": "aTGmBAuEZni0",
        "colab": {
          "base_uri": "https://localhost:8080/"
        },
        "outputId": "4d9174a4-10af-48b8-e76a-d40acd23bed3"
      },
      "source": [
        "Emoji_Dict"
      ],
      "execution_count": null,
      "outputs": [
        {
          "output_type": "execute_result",
          "data": {
            "text/plain": [
              "{'🥇': ':1st_place_medal:',\n",
              " '🥈': ':2nd_place_medal:',\n",
              " '🥉': ':3rd_place_medal:',\n",
              " '🆎': ':AB_button_(blood_type):',\n",
              " '🏧': ':ATM_sign:',\n",
              " '🅰': ':A_button_(blood_type):',\n",
              " '🇦 🇫': ':Afghanistan:',\n",
              " '🇦 🇱': ':Albania:',\n",
              " '🇩 🇿': ':Algeria:',\n",
              " '🇦 🇸': ':American_Samoa:',\n",
              " '🇦 🇩': ':Andorra:',\n",
              " '🇦 🇴': ':Angola:',\n",
              " '🇦 🇮': ':Anguilla:',\n",
              " '🇦 🇶': ':Antarctica:',\n",
              " '🇦 🇬': ':Antigua_&_Barbuda:',\n",
              " '♒': ':Aquarius:',\n",
              " '🇦 🇷': ':Argentina:',\n",
              " '♈': ':Aries:',\n",
              " '🇦 🇲': ':Armenia:',\n",
              " '🇦 🇼': ':Aruba:',\n",
              " '🇦 🇨': ':Ascension_Island:',\n",
              " '🇦 🇺': ':Australia:',\n",
              " '🇦 🇹': ':Austria:',\n",
              " '🇦 🇿': ':Azerbaijan:',\n",
              " '🔙': ':BACK_arrow:',\n",
              " '🅱': ':B_button_(blood_type):',\n",
              " '🇧 🇸': ':Bahamas:',\n",
              " '🇧 🇭': ':Bahrain:',\n",
              " '🇧 🇩': ':Bangladesh:',\n",
              " '🇧 🇧': ':Barbados:',\n",
              " '🇧 🇾': ':Belarus:',\n",
              " '🇧 🇪': ':Belgium:',\n",
              " '🇧 🇿': ':Belize:',\n",
              " '🇧 🇯': ':Benin:',\n",
              " '🇧 🇲': ':Bermuda:',\n",
              " '🇧 🇹': ':Bhutan:',\n",
              " '🇧 🇴': ':Bolivia:',\n",
              " '🇧 🇦': ':Bosnia_&_Herzegovina:',\n",
              " '🇧 🇼': ':Botswana:',\n",
              " '🇧 🇻': ':Bouvet_Island:',\n",
              " '🇧 🇷': ':Brazil:',\n",
              " '🇮 🇴': ':British_Indian_Ocean_Territory:',\n",
              " '🇻 🇬': ':British_Virgin_Islands:',\n",
              " '🇧 🇳': ':Brunei:',\n",
              " '🇧 🇬': ':Bulgaria:',\n",
              " '🇧 🇫': ':Burkina_Faso:',\n",
              " '🇧 🇮': ':Burundi:',\n",
              " '🆑': ':CL_button:',\n",
              " '🆒': ':COOL_button:',\n",
              " '🇰 🇭': ':Cambodia:',\n",
              " '🇨 🇲': ':Cameroon:',\n",
              " '🇨 🇦': ':Canada:',\n",
              " '🇮 🇨': ':Canary_Islands:',\n",
              " '♋': ':Cancer:',\n",
              " '🇨 🇻': ':Cape_Verde:',\n",
              " '♑': ':Capricorn:',\n",
              " '🇧 🇶': ':Caribbean_Netherlands:',\n",
              " '🇰 🇾': ':Cayman_Islands:',\n",
              " '🇨 🇫': ':Central_African_Republic:',\n",
              " '🇪 🇦': ':Ceuta_&_Melilla:',\n",
              " '🇹 🇩': ':Chad:',\n",
              " '🇨 🇱': ':Chile:',\n",
              " '🇨 🇳': ':China:',\n",
              " '🇨 🇽': ':Christmas_Island:',\n",
              " '🎄': ':Christmas_tree:',\n",
              " '🇨 🇵': ':Clipperton_Island:',\n",
              " '🇨 🇨': ':Cocos_(Keeling)_Islands:',\n",
              " '🇨 🇴': ':Colombia:',\n",
              " '🇰 🇲': ':Comoros:',\n",
              " '🇨 🇬': ':Congo_-_Brazzaville:',\n",
              " '🇨 🇩': ':Congo_-_Kinshasa:',\n",
              " '🇨 🇰': ':Cook_Islands:',\n",
              " '🇨 🇷': ':Costa_Rica:',\n",
              " '🇭 🇷': ':Croatia:',\n",
              " '🇨 🇺': ':Cuba:',\n",
              " '🇨 🇼': ':Curaçao:',\n",
              " '🇨 🇾': ':Cyprus:',\n",
              " '🇨 🇿': ':Czech_Republic:',\n",
              " '🇨 🇮': ':Côte_d’Ivoire:',\n",
              " '🇩 🇰': ':Denmark:',\n",
              " '🇩 🇬': ':Diego_Garcia:',\n",
              " '🇩 🇯': ':Djibouti:',\n",
              " '🇩 🇲': ':Dominica:',\n",
              " '🇩 🇴': ':Dominican_Republic:',\n",
              " '🔚': ':END_arrow:',\n",
              " '🇪 🇨': ':Ecuador:',\n",
              " '🇪 🇬': ':Egypt:',\n",
              " '🇸 🇻': ':El_Salvador:',\n",
              " '🇬 🇶': ':Equatorial_Guinea:',\n",
              " '🇪 🇷': ':Eritrea:',\n",
              " '🇪 🇪': ':Estonia:',\n",
              " '🇪 🇹': ':Ethiopia:',\n",
              " '🇪 🇺': ':European_Union:',\n",
              " '🆓': ':FREE_button:',\n",
              " '🇫 🇰': ':Falkland_Islands:',\n",
              " '🇫 🇴': ':Faroe_Islands:',\n",
              " '🇫 🇯': ':Fiji:',\n",
              " '🇫 🇮': ':Finland:',\n",
              " '🇫 🇷': ':France:',\n",
              " '🇬 🇫': ':French_Guiana:',\n",
              " '🇵 🇫': ':French_Polynesia:',\n",
              " '🇹 🇫': ':French_Southern_Territories:',\n",
              " '🇬 🇦': ':Gabon:',\n",
              " '🇬 🇲': ':Gambia:',\n",
              " '♊': ':Gemini:',\n",
              " '🇬 🇪': ':Georgia:',\n",
              " '🇩 🇪': ':Germany:',\n",
              " '🇬 🇭': ':Ghana:',\n",
              " '🇬 🇮': ':Gibraltar:',\n",
              " '🇬 🇷': ':Greece:',\n",
              " '🇬 🇱': ':Greenland:',\n",
              " '🇬 🇩': ':Grenada:',\n",
              " '🇬 🇵': ':Guadeloupe:',\n",
              " '🇬 🇺': ':Guam:',\n",
              " '🇬 🇹': ':Guatemala:',\n",
              " '🇬 🇬': ':Guernsey:',\n",
              " '🇬 🇳': ':Guinea:',\n",
              " '🇬 🇼': ':Guinea-Bissau:',\n",
              " '🇬 🇾': ':Guyana:',\n",
              " '🇭 🇹': ':Haiti:',\n",
              " '🇭 🇲': ':Heard_&_McDonald_Islands:',\n",
              " '🇭 🇳': ':Honduras:',\n",
              " '🇭 🇰': ':Hong_Kong_SAR_China:',\n",
              " '🇭 🇺': ':Hungary:',\n",
              " '🆔': ':ID_button:',\n",
              " '🇮 🇸': ':Iceland:',\n",
              " '🇮 🇳': ':India:',\n",
              " '🇮 🇩': ':Indonesia:',\n",
              " '🇮 🇷': ':Iran:',\n",
              " '🇮 🇶': ':Iraq:',\n",
              " '🇮 🇪': ':Ireland:',\n",
              " '🇮 🇲': ':Isle_of_Man:',\n",
              " '🇮 🇱': ':Israel:',\n",
              " '🇮 🇹': ':Italy:',\n",
              " '🇯 🇲': ':Jamaica:',\n",
              " '🇯 🇵': ':Japan:',\n",
              " '🉑': ':Japanese_acceptable_button:',\n",
              " '🈸': ':Japanese_application_button:',\n",
              " '🉐': ':Japanese_bargain_button:',\n",
              " '🏯': ':Japanese_castle:',\n",
              " '㊗': ':Japanese_congratulations_button:',\n",
              " '🈹': ':Japanese_discount_button:',\n",
              " '🎎': ':Japanese_dolls:',\n",
              " '🈚': ':Japanese_free_of_charge_button:',\n",
              " '🈁': ':Japanese_here_button:',\n",
              " '🈷': ':Japanese_monthly_amount_button:',\n",
              " '🈵': ':Japanese_no_vacancy_button:',\n",
              " '🈶': ':Japanese_not_free_of_charge_button:',\n",
              " '🈺': ':Japanese_open_for_business_button:',\n",
              " '🈴': ':Japanese_passing_grade_button:',\n",
              " '🏣': ':Japanese_post_office:',\n",
              " '🈲': ':Japanese_prohibited_button:',\n",
              " '🈯': ':Japanese_reserved_button:',\n",
              " '㊙': ':Japanese_secret_button:',\n",
              " '🈂': ':Japanese_service_charge_button:',\n",
              " '🔰': ':Japanese_symbol_for_beginner:',\n",
              " '🈳': ':Japanese_vacancy_button:',\n",
              " '🇯 🇪': ':Jersey:',\n",
              " '🇯 🇴': ':Jordan:',\n",
              " '🇰 🇿': ':Kazakhstan:',\n",
              " '🇰 🇪': ':Kenya:',\n",
              " '🇰 🇮': ':Kiribati:',\n",
              " '🇽 🇰': ':Kosovo:',\n",
              " '🇰 🇼': ':Kuwait:',\n",
              " '🇰 🇬': ':Kyrgyzstan:',\n",
              " '🇱 🇦': ':Laos:',\n",
              " '🇱 🇻': ':Latvia:',\n",
              " '🇱 🇧': ':Lebanon:',\n",
              " '♌': ':Leo:',\n",
              " '🇱 🇸': ':Lesotho:',\n",
              " '🇱 🇷': ':Liberia:',\n",
              " '♎': ':Libra:',\n",
              " '🇱 🇾': ':Libya:',\n",
              " '🇱 🇮': ':Liechtenstein:',\n",
              " '🇱 🇹': ':Lithuania:',\n",
              " '🇱 🇺': ':Luxembourg:',\n",
              " '🇲 🇴': ':Macau_SAR_China:',\n",
              " '🇲 🇰': ':Macedonia:',\n",
              " '🇲 🇬': ':Madagascar:',\n",
              " '🇲 🇼': ':Malawi:',\n",
              " '🇲 🇾': ':Malaysia:',\n",
              " '🇲 🇻': ':Maldives:',\n",
              " '🇲 🇱': ':Mali:',\n",
              " '🇲 🇹': ':Malta:',\n",
              " '🇲 🇭': ':Marshall_Islands:',\n",
              " '🇲 🇶': ':Martinique:',\n",
              " '🇲 🇷': ':Mauritania:',\n",
              " '🇲 🇺': ':Mauritius:',\n",
              " '🇾 🇹': ':Mayotte:',\n",
              " '🇲 🇽': ':Mexico:',\n",
              " '🇫 🇲': ':Micronesia:',\n",
              " '🇲 🇩': ':Moldova:',\n",
              " '🇲 🇨': ':Monaco:',\n",
              " '🇲 🇳': ':Mongolia:',\n",
              " '🇲 🇪': ':Montenegro:',\n",
              " '🇲 🇸': ':Montserrat:',\n",
              " '🇲 🇦': ':Morocco:',\n",
              " '🇲 🇿': ':Mozambique:',\n",
              " '🤶': ':Mrs._Claus:',\n",
              " '🤶 🏿': ':Mrs._Claus_dark_skin_tone:',\n",
              " '🤶 🏻': ':Mrs._Claus_light_skin_tone:',\n",
              " '🤶 🏾': ':Mrs._Claus_medium-dark_skin_tone:',\n",
              " '🤶 🏼': ':Mrs._Claus_medium-light_skin_tone:',\n",
              " '🤶 🏽': ':Mrs._Claus_medium_skin_tone:',\n",
              " '🇲 🇲': ':Myanmar_(Burma):',\n",
              " '🆕': ':NEW_button:',\n",
              " '🆖': ':NG_button:',\n",
              " '🇳 🇦': ':Namibia:',\n",
              " '🇳 🇷': ':Nauru:',\n",
              " '🇳 🇵': ':Nepal:',\n",
              " '🇳 🇱': ':Netherlands:',\n",
              " '🇳 🇨': ':New_Caledonia:',\n",
              " '🇳 🇿': ':New_Zealand:',\n",
              " '🇳 🇮': ':Nicaragua:',\n",
              " '🇳 🇪': ':Niger:',\n",
              " '🇳 🇬': ':Nigeria:',\n",
              " '🇳 🇺': ':Niue:',\n",
              " '🇳 🇫': ':Norfolk_Island:',\n",
              " '🇰 🇵': ':North_Korea:',\n",
              " '🇲 🇵': ':Northern_Mariana_Islands:',\n",
              " '🇳 🇴': ':Norway:',\n",
              " '🆗': ':OK_button:',\n",
              " '👌': ':OK_hand:',\n",
              " '👌 🏿': ':OK_hand_dark_skin_tone:',\n",
              " '👌 🏻': ':OK_hand_light_skin_tone:',\n",
              " '👌 🏾': ':OK_hand_medium-dark_skin_tone:',\n",
              " '👌 🏼': ':OK_hand_medium-light_skin_tone:',\n",
              " '👌 🏽': ':OK_hand_medium_skin_tone:',\n",
              " '🔛': ':ON!_arrow:',\n",
              " '🅾': ':O_button_(blood_type):',\n",
              " '🇴 🇲': ':Oman:',\n",
              " '⛎': ':Ophiuchus:',\n",
              " '🅿': ':P_button:',\n",
              " '🇵 🇰': ':Pakistan:',\n",
              " '🇵 🇼': ':Palau:',\n",
              " '🇵 🇸': ':Palestinian_Territories:',\n",
              " '🇵 🇦': ':Panama:',\n",
              " '🇵 🇬': ':Papua_New_Guinea:',\n",
              " '🇵 🇾': ':Paraguay:',\n",
              " '🇵 🇪': ':Peru:',\n",
              " '🇵 🇭': ':Philippines:',\n",
              " '♓': ':Pisces:',\n",
              " '🇵 🇳': ':Pitcairn_Islands:',\n",
              " '🇵 🇱': ':Poland:',\n",
              " '🇵 🇹': ':Portugal:',\n",
              " '🇵 🇷': ':Puerto_Rico:',\n",
              " '🇶 🇦': ':Qatar:',\n",
              " '🇷 🇴': ':Romania:',\n",
              " '🇷 🇺': ':Russia:',\n",
              " '🇷 🇼': ':Rwanda:',\n",
              " '🇷 🇪': ':Réunion:',\n",
              " '🔜': ':SOON_arrow:',\n",
              " '🆘': ':SOS_button:',\n",
              " '♐': ':Sagittarius:',\n",
              " '🇼 🇸': ':Samoa:',\n",
              " '🇸 🇲': ':San_Marino:',\n",
              " '🎅': ':Santa_Claus:',\n",
              " '🎅 🏿': ':Santa_Claus_dark_skin_tone:',\n",
              " '🎅 🏻': ':Santa_Claus_light_skin_tone:',\n",
              " '🎅 🏾': ':Santa_Claus_medium-dark_skin_tone:',\n",
              " '🎅 🏼': ':Santa_Claus_medium-light_skin_tone:',\n",
              " '🎅 🏽': ':Santa_Claus_medium_skin_tone:',\n",
              " '🇸 🇦': ':Saudi_Arabia:',\n",
              " '♏': ':Scorpius:',\n",
              " '🇸 🇳': ':Senegal:',\n",
              " '🇷 🇸': ':Serbia:',\n",
              " '🇸 🇨': ':Seychelles:',\n",
              " '🇸 🇱': ':Sierra_Leone:',\n",
              " '🇸 🇬': ':Singapore:',\n",
              " '🇸 🇽': ':Sint_Maarten:',\n",
              " '🇸 🇰': ':Slovakia:',\n",
              " '🇸 🇮': ':Slovenia:',\n",
              " '🇸 🇧': ':Solomon_Islands:',\n",
              " '🇸 🇴': ':Somalia:',\n",
              " '🇿 🇦': ':South_Africa:',\n",
              " '🇬 🇸': ':South_Georgia_&_South_Sandwich_Islands:',\n",
              " '🇰 🇷': ':South_Korea:',\n",
              " '🇸 🇸': ':South_Sudan:',\n",
              " '🇪 🇸': ':Spain:',\n",
              " '🇱 🇰': ':Sri_Lanka:',\n",
              " '🇧 🇱': ':St._Barthélemy:',\n",
              " '🇸 🇭': ':St._Helena:',\n",
              " '🇰 🇳': ':St._Kitts_&_Nevis:',\n",
              " '🇱 🇨': ':St._Lucia:',\n",
              " '🇲 🇫': ':St._Martin:',\n",
              " '🇵 🇲': ':St._Pierre_&_Miquelon:',\n",
              " '🇻 🇨': ':St._Vincent_&_Grenadines:',\n",
              " '🗽': ':Statue_of_Liberty:',\n",
              " '🇸 🇩': ':Sudan:',\n",
              " '🇸 🇷': ':Suriname:',\n",
              " '🇸 🇯': ':Svalbard_&_Jan_Mayen:',\n",
              " '🇸 🇿': ':Swaziland:',\n",
              " '🇸 🇪': ':Sweden:',\n",
              " '🇨 🇭': ':Switzerland:',\n",
              " '🇸 🇾': ':Syria:',\n",
              " '🇸 🇹': ':São_Tomé_&_Príncipe:',\n",
              " '🔝': ':TOP_arrow:',\n",
              " '🇹 🇼': ':Taiwan:',\n",
              " '🇹 🇯': ':Tajikistan:',\n",
              " '🇹 🇿': ':Tanzania:',\n",
              " '♉': ':Taurus:',\n",
              " '🇹 🇭': ':Thailand:',\n",
              " '🇹 🇱': ':Timor-Leste:',\n",
              " '🇹 🇬': ':Togo:',\n",
              " '🇹 🇰': ':Tokelau:',\n",
              " '🗼': ':Tokyo_tower:',\n",
              " '🇹 🇴': ':Tonga:',\n",
              " '🇹 🇹': ':Trinidad_&_Tobago:',\n",
              " '🇹 🇦': ':Tristan_da_Cunha:',\n",
              " '🇹 🇳': ':Tunisia:',\n",
              " '🇹 🇷': ':Turkey:',\n",
              " '🇹 🇲': ':Turkmenistan:',\n",
              " '🇹 🇨': ':Turks_&_Caicos_Islands:',\n",
              " '🇹 🇻': ':Tuvalu:',\n",
              " '🇺 🇲': ':U.S._Outlying_Islands:',\n",
              " '🇻 🇮': ':U.S._Virgin_Islands:',\n",
              " '🆙': ':UP!_button:',\n",
              " '🇺 🇬': ':Uganda:',\n",
              " '🇺 🇦': ':Ukraine:',\n",
              " '🇦 🇪': ':United_Arab_Emirates:',\n",
              " '🇬 🇧': ':United_Kingdom:',\n",
              " '🇺 🇳': ':United_Nations:',\n",
              " '🇺 🇸': ':United_States:',\n",
              " '🇺 🇾': ':Uruguay:',\n",
              " '🇺 🇿': ':Uzbekistan:',\n",
              " '🆚': ':VS_button:',\n",
              " '🇻 🇺': ':Vanuatu:',\n",
              " '🇻 🇦': ':Vatican_City:',\n",
              " '🇻 🇪': ':Venezuela:',\n",
              " '🇻 🇳': ':Vietnam:',\n",
              " '♍': ':Virgo:',\n",
              " '🇼 🇫': ':Wallis_&_Futuna:',\n",
              " '🇪 🇭': ':Western_Sahara:',\n",
              " '🇾 🇪': ':Yemen:',\n",
              " '🇿 🇲': ':Zambia:',\n",
              " '🇿 🇼': ':Zimbabwe:',\n",
              " '🎟': ':admission_tickets:',\n",
              " '🚡': ':aerial_tramway:',\n",
              " '✈': ':airplane:',\n",
              " '🛬': ':airplane_arrival:',\n",
              " '🛫': ':airplane_departure:',\n",
              " '⏰': ':alarm_clock:',\n",
              " '⚗': ':alembic:',\n",
              " '👽': ':alien:',\n",
              " '👾': ':alien_monster:',\n",
              " '🚑': ':ambulance:',\n",
              " '🏈': ':american_football:',\n",
              " '🏺': ':amphora:',\n",
              " '⚓': ':anchor:',\n",
              " '💢': ':anger_symbol:',\n",
              " '😠': ':angry_face:',\n",
              " '👿': ':angry_face_with_horns:',\n",
              " '😧': ':anguished_face:',\n",
              " '🐜': ':ant:',\n",
              " '📶': ':antenna_bars:',\n",
              " '🔄': ':anticlockwise_arrows_button:',\n",
              " '🚛': ':articulated_lorry:',\n",
              " '🎨': ':artist_palette:',\n",
              " '😲': ':astonished_face:',\n",
              " '⚛': ':atom_symbol:',\n",
              " '🚗': ':automobile:',\n",
              " '🥑': ':avocado:',\n",
              " '👶': ':baby:',\n",
              " '👼': ':baby_angel:',\n",
              " '👼 🏿': ':baby_angel_dark_skin_tone:',\n",
              " '👼 🏻': ':baby_angel_light_skin_tone:',\n",
              " '👼 🏾': ':baby_angel_medium-dark_skin_tone:',\n",
              " '👼 🏼': ':baby_angel_medium-light_skin_tone:',\n",
              " '👼 🏽': ':baby_angel_medium_skin_tone:',\n",
              " '🍼': ':baby_bottle:',\n",
              " '🐤': ':baby_chick:',\n",
              " '👶 🏿': ':baby_dark_skin_tone:',\n",
              " '👶 🏻': ':baby_light_skin_tone:',\n",
              " '👶 🏾': ':baby_medium-dark_skin_tone:',\n",
              " '👶 🏼': ':baby_medium-light_skin_tone:',\n",
              " '👶 🏽': ':baby_medium_skin_tone:',\n",
              " '🚼': ':baby_symbol:',\n",
              " '👇': ':backhand_index_pointing_down:',\n",
              " '👇 🏿': ':backhand_index_pointing_down_dark_skin_tone:',\n",
              " '👇 🏻': ':backhand_index_pointing_down_light_skin_tone:',\n",
              " '👇 🏾': ':backhand_index_pointing_down_medium-dark_skin_tone:',\n",
              " '👇 🏼': ':backhand_index_pointing_down_medium-light_skin_tone:',\n",
              " '👇 🏽': ':backhand_index_pointing_down_medium_skin_tone:',\n",
              " '👈': ':backhand_index_pointing_left:',\n",
              " '👈 🏿': ':backhand_index_pointing_left_dark_skin_tone:',\n",
              " '👈 🏻': ':backhand_index_pointing_left_light_skin_tone:',\n",
              " '👈 🏾': ':backhand_index_pointing_left_medium-dark_skin_tone:',\n",
              " '👈 🏼': ':backhand_index_pointing_left_medium-light_skin_tone:',\n",
              " '👈 🏽': ':backhand_index_pointing_left_medium_skin_tone:',\n",
              " '👉': ':backhand_index_pointing_right:',\n",
              " '👉 🏿': ':backhand_index_pointing_right_dark_skin_tone:',\n",
              " '👉 🏻': ':backhand_index_pointing_right_light_skin_tone:',\n",
              " '👉 🏾': ':backhand_index_pointing_right_medium-dark_skin_tone:',\n",
              " '👉 🏼': ':backhand_index_pointing_right_medium-light_skin_tone:',\n",
              " '👉 🏽': ':backhand_index_pointing_right_medium_skin_tone:',\n",
              " '👆': ':backhand_index_pointing_up:',\n",
              " '👆 🏿': ':backhand_index_pointing_up_dark_skin_tone:',\n",
              " '👆 🏻': ':backhand_index_pointing_up_light_skin_tone:',\n",
              " '👆 🏾': ':backhand_index_pointing_up_medium-dark_skin_tone:',\n",
              " '👆 🏼': ':backhand_index_pointing_up_medium-light_skin_tone:',\n",
              " '👆 🏽': ':backhand_index_pointing_up_medium_skin_tone:',\n",
              " '🥓': ':bacon:',\n",
              " '🏸': ':badminton:',\n",
              " '🛄': ':baggage_claim:',\n",
              " '🥖': ':baguette_bread:',\n",
              " '⚖': ':balance_scale:',\n",
              " '🎈': ':balloon:',\n",
              " '🗳': ':ballot_box_with_ballot:',\n",
              " '☑': ':ballot_box_with_check:',\n",
              " '🍌': ':banana:',\n",
              " '🏦': ':bank:',\n",
              " '📊': ':bar_chart:',\n",
              " '💈': ':barber_pole:',\n",
              " '⚾': ':baseball:',\n",
              " '🏀': ':basketball:',\n",
              " '🦇': ':bat:',\n",
              " '🛁': ':bathtub:',\n",
              " '🔋': ':battery:',\n",
              " '🏖': ':beach_with_umbrella:',\n",
              " '🐻': ':bear_face:',\n",
              " '💓': ':beating_heart:',\n",
              " '🛏': ':bed:',\n",
              " '🍺': ':beer_mug:',\n",
              " '🔔': ':bell:',\n",
              " '🔕': ':bell_with_slash:',\n",
              " '🛎': ':bellhop_bell:',\n",
              " '🍱': ':bento_box:',\n",
              " '🚲': ':bicycle:',\n",
              " '👙': ':bikini:',\n",
              " '☣': ':biohazard:',\n",
              " '🐦': ':bird:',\n",
              " '🎂': ':birthday_cake:',\n",
              " '⚫': ':black_circle:',\n",
              " '🏴': ':black_flag:',\n",
              " '🖤': ':black_heart:',\n",
              " '⬛': ':black_large_square:',\n",
              " '◾': ':black_medium-small_square:',\n",
              " '◼': ':black_medium_square:',\n",
              " '✒': ':black_nib:',\n",
              " '▪': ':black_small_square:',\n",
              " '🔲': ':black_square_button:',\n",
              " '👱 \\u200d ♂ ️': ':blond-haired_man:',\n",
              " '👱 🏿 \\u200d ♂ ️': ':blond-haired_man_dark_skin_tone:',\n",
              " '👱 🏻 \\u200d ♂ ️': ':blond-haired_man_light_skin_tone:',\n",
              " '👱 🏾 \\u200d ♂ ️': ':blond-haired_man_medium-dark_skin_tone:',\n",
              " '👱 🏼 \\u200d ♂ ️': ':blond-haired_man_medium-light_skin_tone:',\n",
              " '👱 🏽 \\u200d ♂ ️': ':blond-haired_man_medium_skin_tone:',\n",
              " '👱': ':blond-haired_person:',\n",
              " '👱 🏿': ':blond-haired_person_dark_skin_tone:',\n",
              " '👱 🏻': ':blond-haired_person_light_skin_tone:',\n",
              " '👱 🏾': ':blond-haired_person_medium-dark_skin_tone:',\n",
              " '👱 🏼': ':blond-haired_person_medium-light_skin_tone:',\n",
              " '👱 🏽': ':blond-haired_person_medium_skin_tone:',\n",
              " '👱 \\u200d ♀ ️': ':blond-haired_woman:',\n",
              " '👱 🏿 \\u200d ♀ ️': ':blond-haired_woman_dark_skin_tone:',\n",
              " '👱 🏻 \\u200d ♀ ️': ':blond-haired_woman_light_skin_tone:',\n",
              " '👱 🏾 \\u200d ♀ ️': ':blond-haired_woman_medium-dark_skin_tone:',\n",
              " '👱 🏼 \\u200d ♀ ️': ':blond-haired_woman_medium-light_skin_tone:',\n",
              " '👱 🏽 \\u200d ♀ ️': ':blond-haired_woman_medium_skin_tone:',\n",
              " '🌼': ':blossom:',\n",
              " '🐡': ':blowfish:',\n",
              " '📘': ':blue_book:',\n",
              " '🔵': ':blue_circle:',\n",
              " '💙': ':blue_heart:',\n",
              " '🐗': ':boar:',\n",
              " '💣': ':bomb:',\n",
              " '🔖': ':bookmark:',\n",
              " '📑': ':bookmark_tabs:',\n",
              " '📚': ':books:',\n",
              " '🍾': ':bottle_with_popping_cork:',\n",
              " '💐': ':bouquet:',\n",
              " '🏹': ':bow_and_arrow:',\n",
              " '🎳': ':bowling:',\n",
              " '🥊': ':boxing_glove:',\n",
              " '👦': ':boy:',\n",
              " '👦 🏿': ':boy_dark_skin_tone:',\n",
              " '👦 🏻': ':boy_light_skin_tone:',\n",
              " '👦 🏾': ':boy_medium-dark_skin_tone:',\n",
              " '👦 🏼': ':boy_medium-light_skin_tone:',\n",
              " '👦 🏽': ':boy_medium_skin_tone:',\n",
              " '🍞': ':bread:',\n",
              " '👰': ':bride_with_veil:',\n",
              " '👰 🏿': ':bride_with_veil_dark_skin_tone:',\n",
              " '👰 🏻': ':bride_with_veil_light_skin_tone:',\n",
              " '👰 🏾': ':bride_with_veil_medium-dark_skin_tone:',\n",
              " '👰 🏼': ':bride_with_veil_medium-light_skin_tone:',\n",
              " '👰 🏽': ':bride_with_veil_medium_skin_tone:',\n",
              " '🌉': ':bridge_at_night:',\n",
              " '💼': ':briefcase:',\n",
              " '🔆': ':bright_button:',\n",
              " '💔': ':broken_heart:',\n",
              " '🐛': ':bug:',\n",
              " '🏗': ':building_construction:',\n",
              " '🌯': ':burrito:',\n",
              " '🚌': ':bus:',\n",
              " '🚏': ':bus_stop:',\n",
              " '👤': ':bust_in_silhouette:',\n",
              " '👥': ':busts_in_silhouette:',\n",
              " '🦋': ':butterfly:',\n",
              " '🌵': ':cactus:',\n",
              " '📅': ':calendar:',\n",
              " '🤙': ':call_me_hand:',\n",
              " '🤙 🏿': ':call_me_hand_dark_skin_tone:',\n",
              " '🤙 🏻': ':call_me_hand_light_skin_tone:',\n",
              " '🤙 🏾': ':call_me_hand_medium-dark_skin_tone:',\n",
              " '🤙 🏼': ':call_me_hand_medium-light_skin_tone:',\n",
              " '🤙 🏽': ':call_me_hand_medium_skin_tone:',\n",
              " '🐪': ':camel:',\n",
              " '📷': ':camera:',\n",
              " '📸': ':camera_with_flash:',\n",
              " '🏕': ':camping:',\n",
              " '🕯': ':candle:',\n",
              " '🍬': ':candy:',\n",
              " '🛶': ':canoe:',\n",
              " '🗃': ':card_file_box:',\n",
              " '📇': ':card_index:',\n",
              " '🗂': ':card_index_dividers:',\n",
              " '🎠': ':carousel_horse:',\n",
              " '🎏': ':carp_streamer:',\n",
              " '🥕': ':carrot:',\n",
              " '🏰': ':castle:',\n",
              " '🐈': ':cat:',\n",
              " '🐱': ':cat_face:',\n",
              " '😹': ':cat_face_with_tears_of_joy:',\n",
              " '😼': ':cat_face_with_wry_smile:',\n",
              " '⛓': ':chains:',\n",
              " '📉': ':chart_decreasing:',\n",
              " '📈': ':chart_increasing:',\n",
              " '💹': ':chart_increasing_with_yen:',\n",
              " '🧀': ':cheese_wedge:',\n",
              " '🏁': ':chequered_flag:',\n",
              " '🍒': ':cherries:',\n",
              " '🌸': ':cherry_blossom:',\n",
              " '🌰': ':chestnut:',\n",
              " '🐔': ':chicken:',\n",
              " '🚸': ':children_crossing:',\n",
              " '🐿': ':chipmunk:',\n",
              " '🍫': ':chocolate_bar:',\n",
              " '⛪': ':church:',\n",
              " '🚬': ':cigarette:',\n",
              " '🎦': ':cinema:',\n",
              " 'Ⓜ': ':circled_M:',\n",
              " '🎪': ':circus_tent:',\n",
              " '🏙': ':cityscape:',\n",
              " '🌆': ':cityscape_at_dusk:',\n",
              " '🗜': ':clamp:',\n",
              " '🎬': ':clapper_board:',\n",
              " '👏': ':clapping_hands:',\n",
              " '👏 🏿': ':clapping_hands_dark_skin_tone:',\n",
              " '👏 🏻': ':clapping_hands_light_skin_tone:',\n",
              " '👏 🏾': ':clapping_hands_medium-dark_skin_tone:',\n",
              " '👏 🏼': ':clapping_hands_medium-light_skin_tone:',\n",
              " '👏 🏽': ':clapping_hands_medium_skin_tone:',\n",
              " '🏛': ':classical_building:',\n",
              " '🍻': ':clinking_beer_mugs:',\n",
              " '🥂': ':clinking_glasses:',\n",
              " '📋': ':clipboard:',\n",
              " '🔃': ':clockwise_vertical_arrows:',\n",
              " '📕': ':closed_book:',\n",
              " '📪': ':closed_mailbox_with_lowered_flag:',\n",
              " '📫': ':closed_mailbox_with_raised_flag:',\n",
              " '🌂': ':closed_umbrella:',\n",
              " '☁': ':cloud:',\n",
              " '🌩': ':cloud_with_lightning:',\n",
              " '⛈': ':cloud_with_lightning_and_rain:',\n",
              " '🌧': ':cloud_with_rain:',\n",
              " '🌨': ':cloud_with_snow:',\n",
              " '🤡': ':clown_face:',\n",
              " '♣': ':club_suit:',\n",
              " '👝': ':clutch_bag:',\n",
              " '🍸': ':cocktail_glass:',\n",
              " '⚰': ':coffin:',\n",
              " '💥': ':collision:',\n",
              " '☄': ':comet:',\n",
              " '💽': ':computer_disk:',\n",
              " '🖱': ':computer_mouse:',\n",
              " '🎊': ':confetti_ball:',\n",
              " '😖': ':confounded_face:',\n",
              " '😕': ':confused_face:',\n",
              " '🚧': ':construction:',\n",
              " '👷': ':construction_worker:',\n",
              " '👷 🏿': ':construction_worker_dark_skin_tone:',\n",
              " '👷 🏻': ':construction_worker_light_skin_tone:',\n",
              " '👷 🏾': ':construction_worker_medium-dark_skin_tone:',\n",
              " '👷 🏼': ':construction_worker_medium-light_skin_tone:',\n",
              " '👷 🏽': ':construction_worker_medium_skin_tone:',\n",
              " '🎛': ':control_knobs:',\n",
              " '🏪': ':convenience_store:',\n",
              " '🍚': ':cooked_rice:',\n",
              " '🍪': ':cookie:',\n",
              " '🍳': ':cooking:',\n",
              " '©': ':copyright:',\n",
              " '🛋': ':couch_and_lamp:',\n",
              " '💑': ':couple_with_heart:',\n",
              " '👨 \\u200d ❤ ️ \\u200d 👨': ':couple_with_heart_man_man:',\n",
              " '👩 \\u200d ❤ ️ \\u200d 👨': ':couple_with_heart_woman_man:',\n",
              " '👩 \\u200d ❤ ️ \\u200d 👩': ':couple_with_heart_woman_woman:',\n",
              " '🐄': ':cow:',\n",
              " '🐮': ':cow_face:',\n",
              " '🤠': ':cowboy_hat_face:',\n",
              " '🦀': ':crab:',\n",
              " '🖍': ':crayon:',\n",
              " '💳': ':credit_card:',\n",
              " '🌙': ':crescent_moon:',\n",
              " '🏏': ':cricket:',\n",
              " '🐊': ':crocodile:',\n",
              " '🥐': ':croissant:',\n",
              " '❌': ':cross_mark:',\n",
              " '❎': ':cross_mark_button:',\n",
              " '🤞': ':crossed_fingers:',\n",
              " '🤞 🏿': ':crossed_fingers_dark_skin_tone:',\n",
              " '🤞 🏻': ':crossed_fingers_light_skin_tone:',\n",
              " '🤞 🏾': ':crossed_fingers_medium-dark_skin_tone:',\n",
              " '🤞 🏼': ':crossed_fingers_medium-light_skin_tone:',\n",
              " '🤞 🏽': ':crossed_fingers_medium_skin_tone:',\n",
              " '🎌': ':crossed_flags:',\n",
              " '⚔': ':crossed_swords:',\n",
              " '👑': ':crown:',\n",
              " '😿': ':crying_cat_face:',\n",
              " '😢': ':crying_face:',\n",
              " '🔮': ':crystal_ball:',\n",
              " '🥒': ':cucumber:',\n",
              " '➰': ':curly_loop:',\n",
              " '💱': ':currency_exchange:',\n",
              " '🍛': ':curry_rice:',\n",
              " '🍮': ':custard:',\n",
              " '🛃': ':customs:',\n",
              " '🌀': ':cyclone:',\n",
              " '🗡': ':dagger:',\n",
              " '🍡': ':dango:',\n",
              " '🏿': ':dark_skin_tone:',\n",
              " '💨': ':dashing_away:',\n",
              " '🌳': ':deciduous_tree:',\n",
              " '🦌': ':deer:',\n",
              " '🚚': ':delivery_truck:',\n",
              " '🏬': ':department_store:',\n",
              " '🏚': ':derelict_house:',\n",
              " '🏜': ':desert:',\n",
              " '🏝': ':desert_island:',\n",
              " '🖥': ':desktop_computer:',\n",
              " '🕵': ':detective:',\n",
              " '🕵 🏿': ':detective_dark_skin_tone:',\n",
              " '🕵 🏻': ':detective_light_skin_tone:',\n",
              " '🕵 🏾': ':detective_medium-dark_skin_tone:',\n",
              " '🕵 🏼': ':detective_medium-light_skin_tone:',\n",
              " '🕵 🏽': ':detective_medium_skin_tone:',\n",
              " '♦': ':diamond_suit:',\n",
              " '💠': ':diamond_with_a_dot:',\n",
              " '🔅': ':dim_button:',\n",
              " '🎯': ':direct_hit:',\n",
              " '😥': ':disappointed_but_relieved_face:',\n",
              " '😞': ':disappointed_face:',\n",
              " '💫': ':dizzy:',\n",
              " '😵': ':dizzy_face:',\n",
              " '🐕': ':dog:',\n",
              " '🐶': ':dog_face:',\n",
              " '💵': ':dollar_banknote:',\n",
              " '🐬': ':dolphin:',\n",
              " '🚪': ':door:',\n",
              " '🔯': ':dotted_six-pointed_star:',\n",
              " '➿': ':double_curly_loop:',\n",
              " '‼': ':double_exclamation_mark:',\n",
              " '🍩': ':doughnut:',\n",
              " '🕊': ':dove:',\n",
              " '↙': ':down-left_arrow:',\n",
              " '↘': ':down-right_arrow:',\n",
              " '⬇': ':down_arrow:',\n",
              " '🔽': ':down_button:',\n",
              " '🐉': ':dragon:',\n",
              " '🐲': ':dragon_face:',\n",
              " '👗': ':dress:',\n",
              " '🤤': ':drooling_face:',\n",
              " '💧': ':droplet:',\n",
              " '🥁': ':drum:',\n",
              " '🦆': ':duck:',\n",
              " '📀': ':dvd:',\n",
              " '📧': ':e-mail:',\n",
              " '🦅': ':eagle:',\n",
              " '👂': ':ear:',\n",
              " '👂 🏿': ':ear_dark_skin_tone:',\n",
              " '👂 🏻': ':ear_light_skin_tone:',\n",
              " '👂 🏾': ':ear_medium-dark_skin_tone:',\n",
              " '👂 🏼': ':ear_medium-light_skin_tone:',\n",
              " '👂 🏽': ':ear_medium_skin_tone:',\n",
              " '🌽': ':ear_of_corn:',\n",
              " '🥚': ':egg:',\n",
              " '🍆': ':eggplant:',\n",
              " '✴': ':eight-pointed_star:',\n",
              " '✳': ':eight-spoked_asterisk:',\n",
              " '🕣': ':eight-thirty:',\n",
              " '🕗': ':eight_o’clock:',\n",
              " '⏏': ':eject_button:',\n",
              " '🔌': ':electric_plug:',\n",
              " '🐘': ':elephant:',\n",
              " '🕦': ':eleven-thirty:',\n",
              " '🕚': ':eleven_o’clock:',\n",
              " '✉': ':envelope:',\n",
              " '📩': ':envelope_with_arrow:',\n",
              " '💶': ':euro_banknote:',\n",
              " '🌲': ':evergreen_tree:',\n",
              " '❗': ':exclamation_mark:',\n",
              " '⁉': ':exclamation_question_mark:',\n",
              " '😑': ':expressionless_face:',\n",
              " '👁': ':eye:',\n",
              " '👁 ️ \\u200d 🗨 ️': ':eye_in_speech_bubble:',\n",
              " '👀': ':eyes:',\n",
              " '😘': ':face_blowing_a_kiss:',\n",
              " '😋': ':face_savouring_delicious_food:',\n",
              " '😱': ':face_screaming_in_fear:',\n",
              " '😓': ':face_with_cold_sweat:',\n",
              " '🤕': ':face_with_head-bandage:',\n",
              " '😷': ':face_with_medical_mask:',\n",
              " '😮': ':face_with_open_mouth:',\n",
              " '😰': ':face_with_open_mouth_&_cold_sweat:',\n",
              " '🙄': ':face_with_rolling_eyes:',\n",
              " '😤': ':face_with_steam_from_nose:',\n",
              " '😛': ':face_with_stuck-out_tongue:',\n",
              " '😝': ':face_with_stuck-out_tongue_&_closed_eyes:',\n",
              " '😜': ':face_with_stuck-out_tongue_&_winking_eye:',\n",
              " '😂': ':face_with_tears_of_joy:',\n",
              " '🤒': ':face_with_thermometer:',\n",
              " '😶': ':face_without_mouth:',\n",
              " '🏭': ':factory:',\n",
              " '🍂': ':fallen_leaf:',\n",
              " '👪': ':family:',\n",
              " '👨 \\u200d 👦': ':family_man_boy:',\n",
              " '👨 \\u200d 👦 \\u200d 👦': ':family_man_boy_boy:',\n",
              " '👨 \\u200d 👧': ':family_man_girl:',\n",
              " '👨 \\u200d 👧 \\u200d 👦': ':family_man_girl_boy:',\n",
              " '👨 \\u200d 👧 \\u200d 👧': ':family_man_girl_girl:',\n",
              " '👨 \\u200d 👨 \\u200d 👦': ':family_man_man_boy:',\n",
              " '👨 \\u200d 👨 \\u200d 👦 \\u200d 👦': ':family_man_man_boy_boy:',\n",
              " '👨 \\u200d 👨 \\u200d 👧': ':family_man_man_girl:',\n",
              " '👨 \\u200d 👨 \\u200d 👧 \\u200d 👦': ':family_man_man_girl_boy:',\n",
              " '👨 \\u200d 👨 \\u200d 👧 \\u200d 👧': ':family_man_man_girl_girl:',\n",
              " '👨 \\u200d 👩 \\u200d 👦': ':family_man_woman_boy:',\n",
              " '👨 \\u200d 👩 \\u200d 👦 \\u200d 👦': ':family_man_woman_boy_boy:',\n",
              " '👨 \\u200d 👩 \\u200d 👧': ':family_man_woman_girl:',\n",
              " '👨 \\u200d 👩 \\u200d 👧 \\u200d 👦': ':family_man_woman_girl_boy:',\n",
              " '👨 \\u200d 👩 \\u200d 👧 \\u200d 👧': ':family_man_woman_girl_girl:',\n",
              " '👩 \\u200d 👦': ':family_woman_boy:',\n",
              " '👩 \\u200d 👦 \\u200d 👦': ':family_woman_boy_boy:',\n",
              " '👩 \\u200d 👧': ':family_woman_girl:',\n",
              " '👩 \\u200d 👧 \\u200d 👦': ':family_woman_girl_boy:',\n",
              " '👩 \\u200d 👧 \\u200d 👧': ':family_woman_girl_girl:',\n",
              " '👩 \\u200d 👩 \\u200d 👦': ':family_woman_woman_boy:',\n",
              " '👩 \\u200d 👩 \\u200d 👦 \\u200d 👦': ':family_woman_woman_boy_boy:',\n",
              " '👩 \\u200d 👩 \\u200d 👧': ':family_woman_woman_girl:',\n",
              " '👩 \\u200d 👩 \\u200d 👧 \\u200d 👦': ':family_woman_woman_girl_boy:',\n",
              " '👩 \\u200d 👩 \\u200d 👧 \\u200d 👧': ':family_woman_woman_girl_girl:',\n",
              " '⏩': ':fast-forward_button:',\n",
              " '⏬': ':fast_down_button:',\n",
              " '⏪': ':fast_reverse_button:',\n",
              " '⏫': ':fast_up_button:',\n",
              " '📠': ':fax_machine:',\n",
              " '😨': ':fearful_face:',\n",
              " '♀': ':female_sign:',\n",
              " '🎡': ':ferris_wheel:',\n",
              " '⛴': ':ferry:',\n",
              " '🏑': ':field_hockey:',\n",
              " '🗄': ':file_cabinet:',\n",
              " '📁': ':file_folder:',\n",
              " '🎞': ':film_frames:',\n",
              " '📽': ':film_projector:',\n",
              " '🔥': ':fire:',\n",
              " '🚒': ':fire_engine:',\n",
              " '🎆': ':fireworks:',\n",
              " '🌓': ':first_quarter_moon:',\n",
              " '🌛': ':first_quarter_moon_with_face:',\n",
              " '🐟': ':fish:',\n",
              " '🍥': ':fish_cake_with_swirl:',\n",
              " '🎣': ':fishing_pole:',\n",
              " '🕠': ':five-thirty:',\n",
              " '🕔': ':five_o’clock:',\n",
              " '⛳': ':flag_in_hole:',\n",
              " '🔦': ':flashlight:',\n",
              " '⚜': ':fleur-de-lis:',\n",
              " '💪': ':flexed_biceps:',\n",
              " '💪 🏿': ':flexed_biceps_dark_skin_tone:',\n",
              " '💪 🏻': ':flexed_biceps_light_skin_tone:',\n",
              " '💪 🏾': ':flexed_biceps_medium-dark_skin_tone:',\n",
              " '💪 🏼': ':flexed_biceps_medium-light_skin_tone:',\n",
              " '💪 🏽': ':flexed_biceps_medium_skin_tone:',\n",
              " '💾': ':floppy_disk:',\n",
              " '🎴': ':flower_playing_cards:',\n",
              " '😳': ':flushed_face:',\n",
              " '🌫': ':fog:',\n",
              " '🌁': ':foggy:',\n",
              " '🙏': ':folded_hands:',\n",
              " '🙏 🏿': ':folded_hands_dark_skin_tone:',\n",
              " '🙏 🏻': ':folded_hands_light_skin_tone:',\n",
              " '🙏 🏾': ':folded_hands_medium-dark_skin_tone:',\n",
              " '🙏 🏼': ':folded_hands_medium-light_skin_tone:',\n",
              " '🙏 🏽': ':folded_hands_medium_skin_tone:',\n",
              " '👣': ':footprints:',\n",
              " '🍴': ':fork_and_knife:',\n",
              " '🍽': ':fork_and_knife_with_plate:',\n",
              " '⛲': ':fountain:',\n",
              " '🖋': ':fountain_pen:',\n",
              " '🕟': ':four-thirty:',\n",
              " '🍀': ':four_leaf_clover:',\n",
              " '🕓': ':four_o’clock:',\n",
              " '🦊': ':fox_face:',\n",
              " '🖼': ':framed_picture:',\n",
              " '🍟': ':french_fries:',\n",
              " '🍤': ':fried_shrimp:',\n",
              " '🐸': ':frog_face:',\n",
              " '🐥': ':front-facing_baby_chick:',\n",
              " '☹': ':frowning_face:',\n",
              " '😦': ':frowning_face_with_open_mouth:',\n",
              " '⛽': ':fuel_pump:',\n",
              " '🌕': ':full_moon:',\n",
              " '🌝': ':full_moon_with_face:',\n",
              " '⚱': ':funeral_urn:',\n",
              " '🎲': ':game_die:',\n",
              " '⚙': ':gear:',\n",
              " '💎': ':gem_stone:',\n",
              " '👻': ':ghost:',\n",
              " '👧': ':girl:',\n",
              " '👧 🏿': ':girl_dark_skin_tone:',\n",
              " '👧 🏻': ':girl_light_skin_tone:',\n",
              " '👧 🏾': ':girl_medium-dark_skin_tone:',\n",
              " '👧 🏼': ':girl_medium-light_skin_tone:',\n",
              " '👧 🏽': ':girl_medium_skin_tone:',\n",
              " '🥛': ':glass_of_milk:',\n",
              " '👓': ':glasses:',\n",
              " '🌎': ':globe_showing_Americas:',\n",
              " '🌏': ':globe_showing_Asia-Australia:',\n",
              " '🌍': ':globe_showing_Europe-Africa:',\n",
              " '🌐': ':globe_with_meridians:',\n",
              " '🌟': ':glowing_star:',\n",
              " '🥅': ':goal_net:',\n",
              " '🐐': ':goat:',\n",
              " '👺': ':goblin:',\n",
              " '🦍': ':gorilla:',\n",
              " '🎓': ':graduation_cap:',\n",
              " '🍇': ':grapes:',\n",
              " '🍏': ':green_apple:',\n",
              " '📗': ':green_book:',\n",
              " '💚': ':green_heart:',\n",
              " '🥗': ':green_salad:',\n",
              " '😬': ':grimacing_face:',\n",
              " '😸': ':grinning_cat_face_with_smiling_eyes:',\n",
              " '😀': ':grinning_face:',\n",
              " '😁': ':grinning_face_with_smiling_eyes:',\n",
              " '💗': ':growing_heart:',\n",
              " '💂': ':guard:',\n",
              " '💂 🏿': ':guard_dark_skin_tone:',\n",
              " '💂 🏻': ':guard_light_skin_tone:',\n",
              " '💂 🏾': ':guard_medium-dark_skin_tone:',\n",
              " '💂 🏼': ':guard_medium-light_skin_tone:',\n",
              " '💂 🏽': ':guard_medium_skin_tone:',\n",
              " '🎸': ':guitar:',\n",
              " '🍔': ':hamburger:',\n",
              " '🔨': ':hammer:',\n",
              " '⚒': ':hammer_and_pick:',\n",
              " '🛠': ':hammer_and_wrench:',\n",
              " '🐹': ':hamster_face:',\n",
              " '👜': ':handbag:',\n",
              " '🤝': ':handshake:',\n",
              " '🐣': ':hatching_chick:',\n",
              " '🎧': ':headphone:',\n",
              " '🙉': ':hear-no-evil_monkey:',\n",
              " '💟': ':heart_decoration:',\n",
              " '♥': ':heart_suit:',\n",
              " '💘': ':heart_with_arrow:',\n",
              " '💝': ':heart_with_ribbon:',\n",
              " '✔': ':heavy_check_mark:',\n",
              " '➗': ':heavy_division_sign:',\n",
              " '💲': ':heavy_dollar_sign:',\n",
              " '❣': ':heavy_heart_exclamation:',\n",
              " '⭕': ':heavy_large_circle:',\n",
              " '➖': ':heavy_minus_sign:',\n",
              " '✖': ':heavy_multiplication_x:',\n",
              " '➕': ':heavy_plus_sign:',\n",
              " '🚁': ':helicopter:',\n",
              " '🌿': ':herb:',\n",
              " '🌺': ':hibiscus:',\n",
              " '👠': ':high-heeled_shoe:',\n",
              " '🚄': ':high-speed_train:',\n",
              " '🚅': ':high-speed_train_with_bullet_nose:',\n",
              " '⚡': ':high_voltage:',\n",
              " '🕳': ':hole:',\n",
              " '🍯': ':honey_pot:',\n",
              " '🐝': ':honeybee:',\n",
              " '🚥': ':horizontal_traffic_light:',\n",
              " '🐎': ':horse:',\n",
              " '🐴': ':horse_face:',\n",
              " '🏇': ':horse_racing:',\n",
              " '🏇 🏿': ':horse_racing_dark_skin_tone:',\n",
              " '🏇 🏻': ':horse_racing_light_skin_tone:',\n",
              " '🏇 🏾': ':horse_racing_medium-dark_skin_tone:',\n",
              " '🏇 🏼': ':horse_racing_medium-light_skin_tone:',\n",
              " '🏇 🏽': ':horse_racing_medium_skin_tone:',\n",
              " '🏥': ':hospital:',\n",
              " '☕': ':hot_beverage:',\n",
              " '🌭': ':hot_dog:',\n",
              " '🌶': ':hot_pepper:',\n",
              " '♨': ':hot_springs:',\n",
              " '🏨': ':hotel:',\n",
              " '⌛': ':hourglass:',\n",
              " '⏳': ':hourglass_with_flowing_sand:',\n",
              " '🏠': ':house:',\n",
              " '🏡': ':house_with_garden:',\n",
              " '🤗': ':hugging_face:',\n",
              " '💯': ':hundred_points:',\n",
              " '😯': ':hushed_face:',\n",
              " '🍨': ':ice_cream:',\n",
              " '🏒': ':ice_hockey:',\n",
              " '⛸': ':ice_skate:',\n",
              " '📥': ':inbox_tray:',\n",
              " '📨': ':incoming_envelope:',\n",
              " '☝': ':index_pointing_up:',\n",
              " '☝ 🏿': ':index_pointing_up_dark_skin_tone:',\n",
              " '☝ 🏻': ':index_pointing_up_light_skin_tone:',\n",
              " '☝ 🏾': ':index_pointing_up_medium-dark_skin_tone:',\n",
              " '☝ 🏼': ':index_pointing_up_medium-light_skin_tone:',\n",
              " '☝ 🏽': ':index_pointing_up_medium_skin_tone:',\n",
              " 'ℹ': ':information:',\n",
              " '🔤': ':input_latin_letters:',\n",
              " '🔡': ':input_latin_lowercase:',\n",
              " '🔠': ':input_latin_uppercase:',\n",
              " '🔢': ':input_numbers:',\n",
              " '🔣': ':input_symbols:',\n",
              " '🎃': ':jack-o-lantern:',\n",
              " '👖': ':jeans:',\n",
              " '🃏': ':joker:',\n",
              " '🕹': ':joystick:',\n",
              " '🕋': ':kaaba:',\n",
              " '🔑': ':key:',\n",
              " '⌨': ':keyboard:',\n",
              " '# ️ ⃣': ':keycap_#:',\n",
              " '0 ️ ⃣': ':keycap_0:',\n",
              " '1 ️ ⃣': ':keycap_1:',\n",
              " '🔟': ':keycap_10:',\n",
              " '2 ️ ⃣': ':keycap_2:',\n",
              " '3 ️ ⃣': ':keycap_3:',\n",
              " '4 ️ ⃣': ':keycap_4:',\n",
              " '5 ️ ⃣': ':keycap_5:',\n",
              " '6 ️ ⃣': ':keycap_6:',\n",
              " '7 ️ ⃣': ':keycap_7:',\n",
              " '8 ️ ⃣': ':keycap_8:',\n",
              " '9 ️ ⃣': ':keycap_9:',\n",
              " '🛴': ':kick_scooter:',\n",
              " '👘': ':kimono:',\n",
              " '💏': ':kiss:',\n",
              " '👨 \\u200d ❤ ️ \\u200d 💋 \\u200d 👨': ':kiss_man_man:',\n",
              " '💋': ':kiss_mark:',\n",
              " '👩 \\u200d ❤ ️ \\u200d 💋 \\u200d 👨': ':kiss_woman_man:',\n",
              " '👩 \\u200d ❤ ️ \\u200d 💋 \\u200d 👩': ':kiss_woman_woman:',\n",
              " '😽': ':kissing_cat_face_with_closed_eyes:',\n",
              " '😗': ':kissing_face:',\n",
              " '😚': ':kissing_face_with_closed_eyes:',\n",
              " '😙': ':kissing_face_with_smiling_eyes:',\n",
              " '🔪': ':kitchen_knife:',\n",
              " '🥝': ':kiwi_fruit:',\n",
              " '🐨': ':koala:',\n",
              " '🏷': ':label:',\n",
              " '🐞': ':lady_beetle:',\n",
              " '💻': ':laptop_computer:',\n",
              " '🔷': ':large_blue_diamond:',\n",
              " '🔶': ':large_orange_diamond:',\n",
              " '🌗': ':last_quarter_moon:',\n",
              " '🌜': ':last_quarter_moon_with_face:',\n",
              " '⏮': ':last_track_button:',\n",
              " '✝': ':latin_cross:',\n",
              " '🍃': ':leaf_fluttering_in_wind:',\n",
              " '📒': ':ledger:',\n",
              " '🤛': ':left-facing_fist:',\n",
              " '🤛 🏿': ':left-facing_fist_dark_skin_tone:',\n",
              " '🤛 🏻': ':left-facing_fist_light_skin_tone:',\n",
              " '🤛 🏾': ':left-facing_fist_medium-dark_skin_tone:',\n",
              " '🤛 🏼': ':left-facing_fist_medium-light_skin_tone:',\n",
              " '🤛 🏽': ':left-facing_fist_medium_skin_tone:',\n",
              " '🔍': ':left-pointing_magnifying_glass:',\n",
              " '↔': ':left-right_arrow:',\n",
              " '⬅': ':left_arrow:',\n",
              " '↪': ':left_arrow_curving_right:',\n",
              " '🛅': ':left_luggage:',\n",
              " '🗨': ':left_speech_bubble:',\n",
              " '🍋': ':lemon:',\n",
              " '🐆': ':leopard:',\n",
              " '🎚': ':level_slider:',\n",
              " '💡': ':light_bulb:',\n",
              " '🚈': ':light_rail:',\n",
              " '🏻': ':light_skin_tone:',\n",
              " '🔗': ':link:',\n",
              " '🖇': ':linked_paperclips:',\n",
              " '🦁': ':lion_face:',\n",
              " '💄': ':lipstick:',\n",
              " '🚮': ':litter_in_bin_sign:',\n",
              " '🦎': ':lizard:',\n",
              " '🔒': ':locked:',\n",
              " '🔐': ':locked_with_key:',\n",
              " '🔏': ':locked_with_pen:',\n",
              " '🚂': ':locomotive:',\n",
              " '🍭': ':lollipop:',\n",
              " '😭': ':loudly_crying_face:',\n",
              " '📢': ':loudspeaker:',\n",
              " '🏩': ':love_hotel:',\n",
              " ...}"
            ]
          },
          "metadata": {
            "tags": []
          },
          "execution_count": 15
        }
      ]
    },
    {
      "cell_type": "markdown",
      "metadata": {
        "id": "MZssxSEVAt-W"
      },
      "source": [
        "#### *removeStopWord(string)*"
      ]
    },
    {
      "cell_type": "code",
      "metadata": {
        "id": "nMb4bnsUnKtt"
      },
      "source": [
        "stopWord = open('/content/drive/MyDrive/Colab Notebooks/MalayStopWord.csv', 'r').read().split()\n",
        "def removeStopWord(text):\n",
        "  text = text.split()\n",
        "  text = [word for word in text if word not in stopWord]\n",
        "  return ' '.join(text)\n"
      ],
      "execution_count": null,
      "outputs": []
    },
    {
      "cell_type": "markdown",
      "metadata": {
        "id": "UyV_QJkHlaFx"
      },
      "source": [
        "#### *pembetulEjaan(string)*\n",
        "refer MusSpellingCorrection.py file"
      ]
    },
    {
      "cell_type": "markdown",
      "metadata": {
        "id": "odfCJ1H_58Xz"
      },
      "source": [
        "#### ***reMixin(string)***"
      ]
    },
    {
      "cell_type": "code",
      "metadata": {
        "id": "8MUU7IQ25Wby"
      },
      "source": [
        "def reMixin(text):\n",
        "  text = text.lower()\n",
        "  text = emojiToText(text) \n",
        "  text = stripHashTag(text)\n",
        "  text = stripMention(text)\n",
        "  text = stripHyperLink(text)\n",
        "  text = stripNonAlphaNum(str(text))\n",
        "  text = stripUnderscore(text)\n",
        "  text = transformer.beam_decoder([text])\n",
        "  text = stripNonAlphaNum(str(text))\n",
        "  text = pembetulEjaan(text)  \n",
        "  text = removeStopWord(text)\n",
        "  return text"
      ],
      "execution_count": null,
      "outputs": []
    },
    {
      "cell_type": "code",
      "metadata": {
        "colab": {
          "base_uri": "https://localhost:8080/"
        },
        "id": "IDhcN4p-79_U",
        "outputId": "9c2be70b-3280-490e-c7ab-8b205312058e"
      },
      "source": [
        "%%time\n",
        "print(TS2)\n",
        "print(reMixin(TS2))"
      ],
      "execution_count": null,
      "outputs": [
        {
          "output_type": "stream",
          "text": [
            "@kuasasiswa you made my day!👏😂\n",
            "so .lma dh X rasa @ujbu57ubj_78BJ gmbira mcm ni 👍 \n",
            "#Keraja...\n",
            "membuat hari bertepuk tangan air mata kegembiraan jadi tak rasa gembira thumbs up\n",
            "CPU times: user 21.1 s, sys: 9.1 s, total: 30.2 s\n",
            "Wall time: 23.3 s\n"
          ],
          "name": "stdout"
        }
      ]
    },
    {
      "cell_type": "markdown",
      "metadata": {
        "id": "DPJ8N8TPHyEr"
      },
      "source": [
        "### **PreProcesing using reMixin and export the clan data**"
      ]
    },
    {
      "cell_type": "code",
      "metadata": {
        "colab": {
          "base_uri": "https://localhost:8080/"
        },
        "id": "5KsBu8wWIEAj",
        "outputId": "fc8728b9-ac0f-4c2e-f4b0-355fc6fec795"
      },
      "source": [
        "%%time\n",
        "dfKG['CD-RE'] = dfKG['Raw'].astype(str).apply(reMixin)"
      ],
      "execution_count": null,
      "outputs": [
        {
          "output_type": "stream",
          "text": [
            "CPU times: user 13min 10s, sys: 2min 26s, total: 15min 36s\n",
            "Wall time: 9min 33s\n"
          ],
          "name": "stdout"
        }
      ]
    },
    {
      "cell_type": "code",
      "metadata": {
        "colab": {
          "base_uri": "https://localhost:8080/"
        },
        "id": "x1qIeioOIEDQ",
        "outputId": "cfdca776-0c9a-4b5c-a1cc-19e52df7c560"
      },
      "source": [
        "%%time\n",
        "dfKG.to_csv ('/content/drive/MyDrive/Colab Notebooks/tweets_data/clean dataset/1.csv', index = False, header=True)"
      ],
      "execution_count": null,
      "outputs": [
        {
          "output_type": "stream",
          "text": [
            "CPU times: user 3.02 ms, sys: 811 µs, total: 3.83 ms\n",
            "Wall time: 10.1 ms\n"
          ],
          "name": "stdout"
        }
      ]
    },
    {
      "cell_type": "code",
      "metadata": {
        "colab": {
          "base_uri": "https://localhost:8080/"
        },
        "id": "MwXpMK7bIEGZ",
        "outputId": "9623e5f5-9b23-46c1-8238-405cf0c3290f"
      },
      "source": [
        "%%time\n",
        "dfMSSP['CD-RE'] = dfMSSP['Raw'].astype(str).apply(reMixin)"
      ],
      "execution_count": null,
      "outputs": [
        {
          "output_type": "stream",
          "text": [
            "CPU times: user 16min 41s, sys: 3min 1s, total: 19min 43s\n",
            "Wall time: 12min 1s\n"
          ],
          "name": "stdout"
        }
      ]
    },
    {
      "cell_type": "code",
      "metadata": {
        "colab": {
          "base_uri": "https://localhost:8080/"
        },
        "id": "3f1xe9DJIEIt",
        "outputId": "4ff237fa-a254-472f-da5c-1fc8f06b74bd"
      },
      "source": [
        "%%time\n",
        "dfMSSP.to_csv ('/content/drive/MyDrive/Colab Notebooks/tweets_data/clean dataset/2.csv', index = False, header=True)"
      ],
      "execution_count": null,
      "outputs": [
        {
          "output_type": "stream",
          "text": [
            "CPU times: user 2.52 ms, sys: 1.1 ms, total: 3.62 ms\n",
            "Wall time: 7.87 ms\n"
          ],
          "name": "stdout"
        }
      ]
    },
    {
      "cell_type": "code",
      "metadata": {
        "colab": {
          "base_uri": "https://localhost:8080/"
        },
        "id": "B71nw2HwIELq",
        "outputId": "c9ab8ed3-2b6f-4ac0-8c2c-5b43c1100a19"
      },
      "source": [
        "%%time\n",
        "dfKN['CD-RE'] = dfKN['Raw'].astype(str).apply(reMixin)"
      ],
      "execution_count": null,
      "outputs": [
        {
          "output_type": "stream",
          "text": [
            "CPU times: user 17min 45s, sys: 3min 22s, total: 21min 7s\n",
            "Wall time: 12min 57s\n"
          ],
          "name": "stdout"
        }
      ]
    },
    {
      "cell_type": "code",
      "metadata": {
        "colab": {
          "base_uri": "https://localhost:8080/"
        },
        "id": "7iyUXKhNIGHP",
        "outputId": "7affb25c-836d-44de-f0bc-f5d648aa62c2"
      },
      "source": [
        "%%time\n",
        "dfKN.to_csv ('/content/drive/MyDrive/Colab Notebooks/tweets_data/clean dataset/3.csv', index = False, header=True)"
      ],
      "execution_count": null,
      "outputs": [
        {
          "output_type": "stream",
          "text": [
            "CPU times: user 1.55 ms, sys: 1.92 ms, total: 3.47 ms\n",
            "Wall time: 12.3 ms\n"
          ],
          "name": "stdout"
        }
      ]
    },
    {
      "cell_type": "code",
      "metadata": {
        "id": "rlg_IueLFyRA",
        "colab": {
          "base_uri": "https://localhost:8080/"
        },
        "outputId": "66af0dd9-dfb1-4883-8b50-6f6100570c55"
      },
      "source": [
        "%%time\n",
        "dfSH['CD-RE'] = dfSH['Raw'].astype(str).apply(reMixin)"
      ],
      "execution_count": null,
      "outputs": [
        {
          "output_type": "stream",
          "text": [
            "CPU times: user 18min 17s, sys: 3min 45s, total: 22min 2s\n",
            "Wall time: 13min 35s\n"
          ],
          "name": "stdout"
        }
      ]
    },
    {
      "cell_type": "code",
      "metadata": {
        "colab": {
          "base_uri": "https://localhost:8080/"
        },
        "id": "D7sxYMqfW90x",
        "outputId": "431c4aff-fd43-46cf-be18-89f228a50fab"
      },
      "source": [
        "%%time\n",
        "dfSH.to_csv ('/content/drive/MyDrive/Colab Notebooks/tweets_data/clean dataset/4.csv', index = False, header=True)"
      ],
      "execution_count": null,
      "outputs": [
        {
          "output_type": "stream",
          "text": [
            "CPU times: user 3.13 ms, sys: 0 ns, total: 3.13 ms\n",
            "Wall time: 8.49 ms\n"
          ],
          "name": "stdout"
        }
      ]
    },
    {
      "cell_type": "code",
      "metadata": {
        "colab": {
          "base_uri": "https://localhost:8080/"
        },
        "id": "63IuwyR-IZvZ",
        "outputId": "f186ac99-dc2a-4030-eada-c4d395114b73"
      },
      "source": [
        "%%time\n",
        "dfCM['CD-RE'] = dfCM['Raw'].astype(str).apply(reMixin)"
      ],
      "execution_count": null,
      "outputs": [
        {
          "output_type": "stream",
          "text": [
            "CPU times: user 2min 1s, sys: 28.8 s, total: 2min 30s\n",
            "Wall time: 1min 34s\n"
          ],
          "name": "stdout"
        }
      ]
    },
    {
      "cell_type": "code",
      "metadata": {
        "colab": {
          "base_uri": "https://localhost:8080/"
        },
        "id": "ObV3KtrnIZyG",
        "outputId": "cb8ce49d-20e1-4ad2-b0c2-7df65e83d046"
      },
      "source": [
        "%%time\n",
        "dfCM.to_csv ('/content/drive/MyDrive/Colab Notebooks/tweets_data/clean dataset/5.csv', index = False, header=True)"
      ],
      "execution_count": null,
      "outputs": [
        {
          "output_type": "stream",
          "text": [
            "CPU times: user 2.63 ms, sys: 98 µs, total: 2.73 ms\n",
            "Wall time: 10.1 ms\n"
          ],
          "name": "stdout"
        }
      ]
    },
    {
      "cell_type": "code",
      "metadata": {
        "colab": {
          "base_uri": "https://localhost:8080/"
        },
        "id": "GE2xSlVtIZ1x",
        "outputId": "226cf6d6-00d4-43d0-d705-8f92684859e2"
      },
      "source": [
        "%%time\n",
        "dfKJK['CD-RE'] = dfKJK['Raw'].astype(str).apply(reMixin)"
      ],
      "execution_count": null,
      "outputs": [
        {
          "output_type": "stream",
          "text": [
            "CPU times: user 15min 6s, sys: 2min 53s, total: 17min 59s\n",
            "Wall time: 11min 2s\n"
          ],
          "name": "stdout"
        }
      ]
    },
    {
      "cell_type": "code",
      "metadata": {
        "colab": {
          "base_uri": "https://localhost:8080/"
        },
        "id": "xO9rJDkmIZ3Z",
        "outputId": "56994162-f8d4-46a3-d063-f9f25b3f3a6c"
      },
      "source": [
        "%%time\n",
        "dfKJK.to_csv ('/content/drive/MyDrive/Colab Notebooks/tweets_data/clean dataset/6.csv', index = False, header=True)"
      ],
      "execution_count": null,
      "outputs": [
        {
          "output_type": "stream",
          "text": [
            "CPU times: user 3.5 ms, sys: 858 µs, total: 4.36 ms\n",
            "Wall time: 7.49 ms\n"
          ],
          "name": "stdout"
        }
      ]
    },
    {
      "cell_type": "code",
      "metadata": {
        "colab": {
          "base_uri": "https://localhost:8080/"
        },
        "id": "zOVEOYkJIZ6Q",
        "outputId": "4faa2547-c94a-44c3-bb01-e57541169912"
      },
      "source": [
        "%%time\n",
        "dfJG['CD-RE'] = dfJG['Raw'].astype(str).apply(reMixin)"
      ],
      "execution_count": null,
      "outputs": [
        {
          "output_type": "stream",
          "text": [
            "CPU times: user 11min 6s, sys: 2min 2s, total: 13min 9s\n",
            "Wall time: 8min 3s\n"
          ],
          "name": "stdout"
        }
      ]
    },
    {
      "cell_type": "code",
      "metadata": {
        "colab": {
          "base_uri": "https://localhost:8080/"
        },
        "id": "gJpv8aboIksQ",
        "outputId": "768ab033-1fe0-466a-da30-7e141f764d52"
      },
      "source": [
        "%%time\n",
        "dfJG.to_csv ('/content/drive/MyDrive/Colab Notebooks/tweets_data/clean dataset/7.csv', index = False, header=True)"
      ],
      "execution_count": null,
      "outputs": [
        {
          "output_type": "stream",
          "text": [
            "CPU times: user 3.04 ms, sys: 668 µs, total: 3.71 ms\n",
            "Wall time: 9.13 ms\n"
          ],
          "name": "stdout"
        }
      ]
    },
    {
      "cell_type": "code",
      "metadata": {
        "colab": {
          "base_uri": "https://localhost:8080/"
        },
        "id": "BJFtxxt9rMAg",
        "outputId": "05abf8b1-32d5-492f-9beb-e9ac185cdb3c"
      },
      "source": [
        "%%time\n",
        "dfUPSR['CD-RE'] = dfUPSR['Raw'].astype(str).apply(reMixin)"
      ],
      "execution_count": null,
      "outputs": [
        {
          "output_type": "stream",
          "text": [
            "CPU times: user 21min 3s, sys: 4min 6s, total: 25min 10s\n",
            "Wall time: 15min 25s\n"
          ],
          "name": "stdout"
        }
      ]
    },
    {
      "cell_type": "code",
      "metadata": {
        "id": "YN66X5mSXDLt",
        "colab": {
          "base_uri": "https://localhost:8080/"
        },
        "outputId": "cfa82e94-8d11-434c-eba4-d804f56b0b2f"
      },
      "source": [
        "%%time\n",
        "dfUPSR.to_csv ('/content/drive/MyDrive/Colab Notebooks/tweets_data/clean dataset/8.csv', index = False, header=True)"
      ],
      "execution_count": null,
      "outputs": [
        {
          "output_type": "stream",
          "text": [
            "CPU times: user 2.55 ms, sys: 880 µs, total: 3.43 ms\n",
            "Wall time: 10.2 ms\n"
          ],
          "name": "stdout"
        }
      ]
    },
    {
      "cell_type": "code",
      "metadata": {
        "colab": {
          "base_uri": "https://localhost:8080/"
        },
        "id": "o39uIoy-ItQ0",
        "outputId": "89e2beaf-4aba-4186-ca16-fc10699ecf66"
      },
      "source": [
        "%%time\n",
        "dfARN['CD-RE'] = dfARN['Raw'].astype(str).apply(reMixin)"
      ],
      "execution_count": null,
      "outputs": [
        {
          "output_type": "stream",
          "text": [
            "CPU times: user 17min 16s, sys: 3min 22s, total: 20min 38s\n",
            "Wall time: 12min 41s\n"
          ],
          "name": "stdout"
        }
      ]
    },
    {
      "cell_type": "code",
      "metadata": {
        "colab": {
          "base_uri": "https://localhost:8080/"
        },
        "id": "J1CVvxciIti8",
        "outputId": "461f8837-381b-4676-ca35-f9737f9789cb"
      },
      "source": [
        "%%time\n",
        "dfARN.to_csv ('/content/drive/MyDrive/Colab Notebooks/tweets_data/clean dataset/9.csv', index = False, header=True)"
      ],
      "execution_count": null,
      "outputs": [
        {
          "output_type": "stream",
          "text": [
            "CPU times: user 3.16 ms, sys: 610 µs, total: 3.77 ms\n",
            "Wall time: 8.66 ms\n"
          ],
          "name": "stdout"
        }
      ]
    }
  ]
}