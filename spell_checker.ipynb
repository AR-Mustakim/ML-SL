{
  "nbformat": 4,
  "nbformat_minor": 0,
  "metadata": {
    "colab": {
      "name": "spell checker.ipynb",
      "provenance": [],
      "collapsed_sections": [],
      "toc_visible": true,
      "mount_file_id": "13u7sOdOBIzGd43GNUpvuLoUYwCE2u-Au",
      "authorship_tag": "ABX9TyO/xO34ghIsY9QOaoAp9Dez",
      "include_colab_link": true
    },
    "kernelspec": {
      "display_name": "Python 3",
      "name": "python3"
    },
    "language_info": {
      "name": "python"
    }
  },
  "cells": [
    {
      "cell_type": "markdown",
      "metadata": {
        "id": "view-in-github",
        "colab_type": "text"
      },
      "source": [
        "<a href=\"https://colab.research.google.com/github/hungryphobic/NLP-projects/blob/main/spell_checker.ipynb\" target=\"_parent\"><img src=\"https://colab.research.google.com/assets/colab-badge.svg\" alt=\"Open In Colab\"/></a>"
      ]
    },
    {
      "cell_type": "markdown",
      "metadata": {
        "id": "GnS6tK6xn_Oy"
      },
      "source": [
        "# **Spell Checker**\n",
        "___"
      ]
    },
    {
      "cell_type": "markdown",
      "metadata": {
        "id": "JomY5zA3q3kK"
      },
      "source": [
        "# **Introduction**\n",
        "The objective of spell checker is to find the incorrect wordor typos of Malay languuages.\n",
        "Themain intention is to correct the shortform of social media text,normally people nowadays used.\n",
        "The is a some term assign to this kind of problem like *Bahasa SMS*. The main attention people use this kind of text because of 1) Time, as it take short time to type using shortform; and 2) character limited per post's social media  like twitter which you can only use up to 180 character per tweets. So to convey their tweets in limited amount of character they tend to use this way of typing. eventhough it not spell in full even most of the time they even use number as a word, almost every social media nowadays able to understand the message in full; 3) it become a trend at first and then it become normalize.\n",
        "\n",
        "For natural language processing or text processing. This kind of text data been known as noisy text data.Noisy text does not comply with rules the program uses to identify and categorize words, phrases and clauses in a particular language. This kind of data can affect the accuracy of Natural Language Processing (NLP) algorithm for text classification, opinin mining and etc; as it cause a lot aabbreviation, incorrect representation of actual form from its original word form suggested by linguistic expert.\n",
        "\n",
        ">For example:\n",
        " **message like:** \" *saya nak ke kedai untuk membeli makanan dan barang keperluan* \"\n",
        "  ( translate as ' I want to go to market to buy food and groceries ).\n",
        "  \n",
        ">**written as:** \" *sy nk ke kdai utk bli mknn n brg kprluan* \""
      ]
    },
    {
      "cell_type": "markdown",
      "metadata": {
        "id": "s05vcDtYrxj2"
      },
      "source": [
        "## Step for implementing spell checker (Suggested from most tutorial online)\n",
        "1. Identify the mispelled word\n",
        "2. Fisnd string and the n edit distance away from the mispelled word\n",
        "3. Filter suggested candidate to retain only the ones found in vocabulary\n",
        "4. Order the filtered candidate base don word probability.\n",
        "5. Choose one the most likely candidate.\n",
        "\n"
      ]
    },
    {
      "cell_type": "markdown",
      "metadata": {
        "id": "BsT1UTQnAHpj"
      },
      "source": [
        "## Proposed idea ( this idea inspired by proposed method by chekima and alfred paper)\n",
        "\n",
        "Provide dictionary/ list of shortform word of malay language and perform spelling correction by search."
      ]
    },
    {
      "cell_type": "code",
      "metadata": {
        "id": "l9hRRCPhq-yL",
        "colab": {
          "base_uri": "https://localhost:8080/"
        },
        "outputId": "a358d1c9-8cde-4b31-9a63-ba026003adce"
      },
      "source": [
        "%time\n",
        "import pandas as pd\n",
        "import re\n",
        "import pickle\n",
        "import csv"
      ],
      "execution_count": null,
      "outputs": [
        {
          "output_type": "stream",
          "text": [
            "CPU times: user 3 µs, sys: 1 µs, total: 4 µs\n",
            "Wall time: 6.68 µs\n"
          ],
          "name": "stdout"
        }
      ]
    },
    {
      "cell_type": "code",
      "metadata": {
        "id": "Q8JI6z73CYTj"
      },
      "source": [
        "\n",
        "data_dict = {'4 ' :'untuk '\n",
        ",'adk ' :'adik '\n",
        ",'ak ' :'aku '\n",
        ",'ank ' :'anak '\n",
        ",'aq ' :'aku '\n",
        ",'ats ' :'atas '\n",
        ",'awk ' :'awak '\n",
        ",'awl ' :'awal '\n",
        ",'ayh ' :'ayah '\n",
        ",'aym ' :'ayam '\n",
        ",'bg ' :'bagi '\n",
        ",'bgn ' :'bangun '\n",
        ",'bhg ' :'bahagian '\n",
        ",'bhs ' :'bahasa '\n",
        ",'bhsa ' :'bahasa '\n",
        ",'bkn ' :'bukan '\n",
        ",'blh ' :'boleh '\n",
        ",'bole ' :'boleh '\n",
        ",'ble ' :'bila '\n",
        ",'bli ' :'beli '\n",
        ",'blkg ' :'belakang '\n",
        ",'bln ' :'bulan '\n",
        ",'bnyk ' :'banyak '\n",
        ",'bpk ' :'bapa '\n",
        ",'brt ' :'berat '\n",
        ",'btg ' :'batang '\n",
        ",'camtu ' :'begitu '\n",
        ",'cg ' :'cikgu '\n",
        ",'da ' :'sudah '\n",
        ",'dah ' :'sudah '\n",
        ",'ddk ' :'duduk '\n",
        ",'dgn ' :'dengan '\n",
        ",'dgr ' :'dengar '\n",
        ",'dh ' :'sudah '\n",
        ",'dik ' :'adik '\n",
        ",'dkt ' :'dekat '\n",
        ",'dll ' :'dan lain-lain '\n",
        ",'dlm ' :'dalam '\n",
        ",'dlu ' :'dulu '\n",
        ",'dngr ' :'dengar '\n",
        ",'dpn ' :'depan '\n",
        ",'dpt ' :'dapat '\n",
        ",'dr ' :'dari '\n",
        ",'dri ' :'dari '\n",
        ",'drpd ' :'daripada '\n",
        ",'dsb ' :'dan sebagainya '\n",
        ",'dtg ' :'datang '\n",
        ",'fhm ' :'faham '\n",
        ",'g ' :'pergi '\n",
        ",'gi ' :'pergi '\n",
        ",'gler ' :'gila '\n",
        ",'gla ' :'gila '\n",
        ",'gmbira ' :'gembira '\n",
        ",'hb ' :'hari bulan '\n",
        ",'hdp ' :'hadap '\n",
        ",'hj ' :'haji '\n",
        ",'hr ' :'hari '\n",
        ",'hri ' :'hari '\n",
        ",'je ' :'sahaja '\n",
        ",'ja ' :'sahaja '\n",
        ",'jd ' :'jadi '\n",
        ",'jgn ' :'jangan '\n",
        ",'jln ' :'jalan '\n",
        ",'k ' :'ok '\n",
        ",'kat ' :'di '\n",
        ",'kg ' :'kampung '\n",
        ",'klau ' :'kalau '\n",
        ",'kls ' :'kelas '\n",
        ",'km ' :'kilometer '\n",
        ",'kmpg ' :'kampung '\n",
        ",'kmpln ' :'kumpulan '\n",
        ",'kn ' :'kan '\n",
        ",'kondo ' :'kondominium '\n",
        ",'korang ' :'kamu semua '\n",
        ",'kpd ' :'kepada '\n",
        ",'krn ' :'kerana '\n",
        ",'krna ' :'kerana '\n",
        ",'ku ' :'aku '\n",
        ",'kump ' :'kumpulan '\n",
        ",'kwn ' :'kawan '\n",
        ",'la ' :'la '\n",
        ",'lah ' :'la '\n",
        ",'lbh ' :'lebih '\n",
        ",'lbih ' :'lebih '\n",
        ",'lg ' :'lagi '\n",
        ",'lma ' :'lama '\n",
        ",'lpr ' :'lapar '\n",
        ",'mau ' :'mahu '\n",
        ",'mcm ' :'macam '\n",
        ",'mkn ' :'makan '\n",
        ",'mknn ' :'makanan '\n",
        ",'mlm ' :'malam '\n",
        ",'mls ' :'malas '\n",
        ",'mn ' :'mana '\n",
        ",'mna ' :'mana '\n",
        ",'mrk ' :'mereka '\n",
        ",'msia ' :'malaysia '\n",
        ",'msk ' :'masak '\n",
        ",'mslh ' :'masalah '\n",
        ",'ni ' :'ini '\n",
        ",'nk ' :'nak '\n",
        ",'nmpk ' :'nampak '\n",
        ",'org ' :'orang '\n",
        ",'pa ' :'apa '\n",
        ",'pak ' :'bapa '\n",
        ",'pd ' :'pada '\n",
        ",'pdg ' :'padang '\n",
        ",'pe ' :'apa '\n",
        ",'pg ' :'pagi '\n",
        ",'pi ' :'pergi '\n",
        ",'pkul ' :'pukul '\n",
        ",'plg ' :'paling '\n",
        ",'pling ' :'paling '\n",
        ",'pon ' :'pun '\n",
        ",'pp ' :'pipi '\n",
        ",'prof ' :'profesor '\n",
        ",'ptg ' :'petang '\n",
        ",'pulak ' :'pula '\n",
        ",'pyh ' :'payah '\n",
        ",'rmh ' :'rumah '\n",
        ",'ska ' :'suka '\n",
        ",'sbb ' :'sebab '\n",
        ",'sblm ' :'sebelum '\n",
        ",'sklh ' :'sekolah '\n",
        ",'skrg ' :'sekarang '\n",
        ",'skt ' :'sikit '\n",
        ",'skit ' :'sikit '\n",
        ",'slm ' :'salam '\n",
        ",'soklan ' :'soalan '\n",
        ",'sy ' :'saya '\n",
        ",'takkan ' :'tak akan '\n",
        ",'tau ' :'tahu '\n",
        ",'tdk' :'tidak '\n",
        ",'tetiba ' :'tiba-tiba '\n",
        ",'tk ' :'tak '\n",
        ",'tkkn ' :'tak akan '\n",
        ",'tkt ' :'takut '\n",
        ",'tkut ' :'takut '\n",
        ",'tn ' :'tuan '\n",
        ",'tngk ' :'tengok '\n",
        ",'tp ' :'tapi '\n",
        ",'tpi ' :'tapi '\n",
        ",'tu ' :'itu '\n",
        ",'utk ' :'untuk '\n",
        ",'x ' :'tak '\n",
        ",'ye ' :'ya '\n",
        ",'yg ' :'yang '\n",
        "}"
      ],
      "execution_count": null,
      "outputs": []
    },
    {
      "cell_type": "code",
      "metadata": {
        "id": "n3FTWjKeDCkL"
      },
      "source": [
        "with open('/content/drive/MyDrive/Colab Notebooks/ShortFormMelayu.p', 'wb') as pickle_file:\n",
        "  pickle.dump(data_dict, pickle_file)"
      ],
      "execution_count": null,
      "outputs": []
    },
    {
      "cell_type": "code",
      "metadata": {
        "id": "Wa4WCGOOFijw",
        "colab": {
          "base_uri": "https://localhost:8080/"
        },
        "outputId": "866de7eb-8066-49fa-b54a-e045eaebc675"
      },
      "source": [
        "%time\n",
        "with open('/content/drive/MyDrive/Colab Notebooks/ShortFormMelayu.p', 'rb') as fp:\n",
        "    sf_Dict = pickle.load(fp)\n",
        "    sf_Dict = {v: k for v, k in sf_Dict.items()}"
      ],
      "execution_count": null,
      "outputs": [
        {
          "output_type": "stream",
          "text": [
            "CPU times: user 5 µs, sys: 1e+03 ns, total: 6 µs\n",
            "Wall time: 9.78 µs\n"
          ],
          "name": "stdout"
        }
      ]
    },
    {
      "cell_type": "code",
      "metadata": {
        "id": "Uv3P0w6NHJAk"
      },
      "source": [
        "def pembetulEjaan(text):\n",
        "  for word in sf_Dict:\n",
        "    text = re.sub(r'\\b'+word+'', sf_Dict[word], text)\n",
        "  return text\n",
        "\n",
        " #\"_\".join(sf_Dict[emoj].replace(\",\",\"\").replace(\":\",\"\").split())"
      ],
      "execution_count": null,
      "outputs": []
    },
    {
      "cell_type": "code",
      "metadata": {
        "colab": {
          "base_uri": "https://localhost:8080/"
        },
        "id": "cs-oQtR5VjoQ",
        "outputId": "b76d8312-1fb1-466f-9fd5-d70c30116fb3"
      },
      "source": [
        "%time\n",
        "print(pembetulEjaan('aq bkn x nak pi sana, tp aku mls je'))"
      ],
      "execution_count": null,
      "outputs": [
        {
          "output_type": "stream",
          "text": [
            "CPU times: user 4 µs, sys: 1 µs, total: 5 µs\n",
            "Wall time: 8.34 µs\n",
            "aku bukan tak nak pergi sana, tapi aku malas je\n"
          ],
          "name": "stdout"
        }
      ]
    },
    {
      "cell_type": "code",
      "metadata": {
        "id": "q_wdt3TBkVEH",
        "colab": {
          "base_uri": "https://localhost:8080/"
        },
        "outputId": "217c40d3-65f1-4c74-9a26-d8880759f80c"
      },
      "source": [
        "print(pembetulEjaan('jelas sekali aq bkn x nak pi sana, tp aku mls je nk xray'))"
      ],
      "execution_count": null,
      "outputs": [
        {
          "output_type": "stream",
          "text": [
            "jelas sekali aku bukan tak nak pergi sana, tapi aku malas sahaja nak xray\n"
          ],
          "name": "stdout"
        }
      ]
    },
    {
      "cell_type": "code",
      "metadata": {
        "id": "hl8qZmK6aACC"
      },
      "source": [
        "# some text examples copied Malay documentation page ( which they claimed taken from Twitter)- can find it here--> https://malaya.readthedocs.io/en/latest/load-spell-correction.html\n",
        "string1 = 'krajaan patut bagi pencen awal skt kpd warga emas supaya emosi'\n",
        "string2 = 'Husein ska mkn aym dkat kampng Jawa'\n",
        "string3 = 'Melayu malas ni narration dia sama je macam men are trash. True to some, false to some.'\n",
        "string4 = 'Tapi tak pikir ke bahaya perpetuate myths camtu. Nanti kalau ada hiring discrimination despite your good qualifications because of your race tau pulak marah. Your kids will be victims of that too.'\n",
        "string5 = 'DrM cerita Melayu malas semenjak saya kat University (early 1980s) and now as i am edging towards retirement in 4-5 years time after a career of being an Engineer, Project Manager, General Manager'\n",
        "string6 = 'blh bntg dlm kls nlp sy, nnti intch'"
      ],
      "execution_count": null,
      "outputs": []
    },
    {
      "cell_type": "code",
      "metadata": {
        "colab": {
          "base_uri": "https://localhost:8080/"
        },
        "id": "7Ar5HO7-aTgx",
        "outputId": "2c9277b8-e0ce-48f1-8b78-9e8db9805a75"
      },
      "source": [
        "print(pembetulEjaan(string1))\n",
        "print(pembetulEjaan(string2))\n",
        "print(pembetulEjaan(string3))\n",
        "print(pembetulEjaan(string4))\n",
        "print(pembetulEjaan(string5))\n",
        "print(pembetulEjaan(string6))"
      ],
      "execution_count": null,
      "outputs": [
        {
          "output_type": "stream",
          "text": [
            "krajaan patut bagi pencen awal sikit kepada warga emas supaya emosi\n",
            "Husein suka makan ayam dkat kampng Jawa\n",
            "Melayu malas ini narration dia sama sahaja macam men are trash. True to some, false to some.\n",
            "Tapi tak pikir ke bahaya perpetuate myths camtu. Nanti kalau ada hiring discrimination despite your good qualifications because of your race tahu pula marah. Your kids will be victims of that too.\n",
            "DrM cerita Melayu malas semenjak saya di University (early 1980s) and now as i am edging towards retirement in 4-5 years time after a career of being an Engineer, Project Manager, General Manager\n",
            "boleh bntg dalam kelas nlp sy, nnti intch\n"
          ],
          "name": "stdout"
        }
      ]
    },
    {
      "cell_type": "code",
      "metadata": {
        "id": "YRTxchTNaffJ"
      },
      "source": [
        "import sys\n",
        "sys.path.append('/content/drive/MyDrive/Colab Notebooks/')\n",
        "from MusSpellingCorrection import pembetulEjaan as pe"
      ],
      "execution_count": null,
      "outputs": []
    },
    {
      "cell_type": "code",
      "metadata": {
        "colab": {
          "base_uri": "https://localhost:8080/",
          "height": 35
        },
        "id": "uqKUQ--vi40p",
        "outputId": "8f0a0106-a766-4a6e-a70d-f423e599a619"
      },
      "source": [
        "pe('Klau kat sekolah pun cikgu² buat sex jokes macam tu thats mean sekolah dah tak selamat untuk student')"
      ],
      "execution_count": null,
      "outputs": [
        {
          "output_type": "execute_result",
          "data": {
            "application/vnd.google.colaboratory.intrinsic+json": {
              "type": "string"
            },
            "text/plain": [
              "'Klau di sekolah pun cikgu² buat sex jokes macam itu thats mean sekolah sudah tak selamat untuk student'"
            ]
          },
          "metadata": {
            "tags": []
          },
          "execution_count": 11
        }
      ]
    },
    {
      "cell_type": "code",
      "metadata": {
        "id": "Q1oA_O5gkoQg"
      },
      "source": [
        ""
      ],
      "execution_count": null,
      "outputs": []
    }
  ]
}